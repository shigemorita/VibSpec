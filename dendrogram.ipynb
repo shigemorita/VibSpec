{
 "cells": [
  {
   "cell_type": "code",
   "execution_count": null,
   "metadata": {},
   "outputs": [],
   "source": [
    "import pandas\n",
    "import numpy\n",
    "from matplotlib import pyplot"
   ]
  },
  {
   "cell_type": "code",
   "execution_count": null,
   "metadata": {},
   "outputs": [],
   "source": [
    "# CSV 読み込み\n",
    "filename = \"paper.csv\"\n",
    "data = pandas.read_csv(filename, header=0, index_col=0).T\n",
    "data.T.plot(legend=None, xlim=[data.columns.max(), data.columns.min()])\n",
    "#data.index=data.index.astype(numpy.float64)"
   ]
  },
  {
   "cell_type": "code",
   "execution_count": null,
   "metadata": {},
   "outputs": [],
   "source": [
    "# 横軸選択\n",
    "flag = False\n",
    "flag = True\n",
    "xmin, xmax = 500, 1800  # 横軸範囲\n",
    "# xmin, xmax = data.columns.min(), data.columns.max()\n",
    "buff = data.iloc[:, (xmin <= data.columns) & (data.columns <= xmax)]\n",
    "buff.T.plot(legend=None, xlim=[buff.columns.max(), buff.columns.min()])\n",
    "if flag: data = buff"
   ]
  },
  {
   "cell_type": "code",
   "execution_count": null,
   "metadata": {},
   "outputs": [],
   "source": [
    "# SNV\n",
    "flag = False\n",
    "flag = True\n",
    "buff = ((data.T - data.T.mean()) / data.T.std()).T\n",
    "buff.T.plot(legend=None, xlim=[buff.columns.max(), buff.columns.min()])\n",
    "if flag: data = buff"
   ]
  },
  {
   "cell_type": "code",
   "execution_count": null,
   "metadata": {},
   "outputs": [],
   "source": [
    "# クラスター分析\n",
    "from scipy.cluster.hierarchy import linkage,dendrogram\n",
    "pyplot.rcParams[\"font.size\"] = 12\n",
    "pyplot.figure(figsize=(8, 6))\n",
    "dendrogram(linkage(data), labels=data.index, orientation='right', color_threshold=0, leaf_font_size=12);\n",
    "#pyplot.savefig(filename[:-4]+'.png', dpi=600, bbox_inches='tight')"
   ]
  }
 ],
 "metadata": {
  "interpreter": {
   "hash": "398c91425ba9501ad3ceb4348a18eb4e653d71098c9fe91723be7ca895e75769"
  },
  "kernelspec": {
   "display_name": "Python 3.8.12 64-bit ('base': conda)",
   "name": "python3"
  },
  "language_info": {
   "codemirror_mode": {
    "name": "ipython",
    "version": 3
   },
   "file_extension": ".py",
   "mimetype": "text/x-python",
   "name": "python",
   "nbconvert_exporter": "python",
   "pygments_lexer": "ipython3",
   "version": "3.8.12"
  }
 },
 "nbformat": 4,
 "nbformat_minor": 4
}
