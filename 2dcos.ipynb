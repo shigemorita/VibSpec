{
 "cells": [
  {
   "cell_type": "code",
   "execution_count": null,
   "metadata": {},
   "outputs": [],
   "source": [
    "savefig = False\n",
    "savecsv = False\n",
    "wavenumber = True\n",
    "dynamic = True\n",
    "num_contour = 16"
   ]
  },
  {
   "cell_type": "code",
   "execution_count": null,
   "metadata": {},
   "outputs": [],
   "source": [
    "import numpy\n",
    "import pandas\n",
    "from matplotlib import pyplot, ticker"
   ]
  },
  {
   "cell_type": "code",
   "execution_count": null,
   "metadata": {},
   "outputs": [],
   "source": [
    "# open pandas.DataFrame (Tkinter)\n",
    "import tkinter\n",
    "import tkinter.filedialog\n",
    "import tkinter.messagebox\n",
    "root = tkinter.Tk()\n",
    "root.withdraw()\n",
    "root.attributes('-topmost', True)\n",
    "root.lift()\n",
    "root.focus_force()\n",
    "filename = tkinter.filedialog.askopenfilename(filetypes=[(\"csv\", \"*.csv\")])\n",
    "data = pandas.read_csv(filename, header=0, index_col=0).T\n",
    "data.index = pandas.read_csv(filename, header=None, index_col=0).iloc[0].values\n",
    "if wavenumber: data.T.plot(legend=None, xlim=[data.columns.max(), data.columns.min()])\n",
    "else: data.T.plot(legend=None, xlim=[data.columns.min(), data.columns.max()])\n",
    "pyplot.rcParams.update(pyplot.rcParamsDefault)\n",
    "pyplot.show()"
   ]
  },
  {
   "cell_type": "code",
   "execution_count": null,
   "metadata": {},
   "outputs": [],
   "source": [
    "flag = False\n",
    "flag = True\n",
    "xmax, xmin = 1200, 1000\n",
    "buff = data.iloc[:, (xmin <= data.columns) & (data.columns <= xmax)]\n",
    "pyplot.rcParams.update(pyplot.rcParamsDefault)\n",
    "if wavenumber: buff.T.plot(legend=None, xlim=[buff.columns.max(), buff.columns.min()])\n",
    "else: buff.T.plot(legend=None, xlim=[dbuff.columns.min(), buff.columns.max()])\n",
    "pyplot.show()\n",
    "if flag: data = buff\n",
    "if dynamic: dyna = data - data.mean()\n",
    "else: dyna = data"
   ]
  },
  {
   "cell_type": "code",
   "execution_count": null,
   "metadata": {},
   "outputs": [],
   "source": [
    "pyplot.rcParams[\"figure.figsize\"] = (4, 4)\n",
    "pyplot.rcParams[\"xtick.bottom\"] = True\n",
    "pyplot.rcParams[\"xtick.top\"] = True\n",
    "pyplot.rcParams[\"ytick.left\"] = True\n",
    "pyplot.rcParams[\"ytick.right\"] = True\n",
    "pyplot.rcParams[\"xtick.direction\"] = \"in\"\n",
    "pyplot.rcParams[\"ytick.direction\"] = \"in\"\n",
    "pyplot.rcParams[\"xtick.major.size\"] = 10\n",
    "pyplot.rcParams[\"ytick.major.size\"] = 10\n",
    "pyplot.rcParams[\"xtick.minor.size\"] = 5\n",
    "pyplot.rcParams[\"ytick.minor.size\"] = 5\n",
    "pyplot.rcParams[\"lines.linewidth\"] = 2\n",
    "pyplot.rcParams[\"axes.linewidth\"] = 2\n",
    "pyplot.rcParams[\"xtick.major.width\"] = 2\n",
    "pyplot.rcParams[\"ytick.major.width\"] = 2\n",
    "pyplot.rcParams[\"xtick.minor.width\"] = 2\n",
    "pyplot.rcParams[\"ytick.minor.width\"] = 2\n",
    "pyplot.rcParams[\"axes.labelpad\"] = 8\n",
    "pyplot.rcParams[\"xtick.major.pad\"] = 10\n",
    "pyplot.rcParams[\"ytick.major.pad\"] = 5\n",
    "pyplot.rcParams[\"savefig.format\"] = \"png\"\n",
    "pyplot.rcParams[\"savefig.dpi\"] = 150\n",
    "pyplot.rcParams[\"savefig.transparent\"] = False\n",
    "pyplot.rcParams[\"savefig.facecolor\"] = \"white\"\n",
    "pyplot.rcParams[\"savefig.bbox\"] = \"tight\"\n",
    "# フォント\n",
    "pyplot.rcParams[\"font.size\"] = \"20\"  # フォントサイズ\n",
    "font = 1  # フォント指定\n",
    "if font == 1: pyplot.rcParams[\"font.family\"] = \"Times New Roman\"  # セリフフォント\n",
    "if font == 2: pyplot.rcParams[\"font.family\"] = \"Arial\"  # サンセリフフォント\n",
    "if font == 3: pyplot.rcParams[\"font.family\"] = \"Meiryo\"  # 日本語フォント\n",
    "print(\"size =\", pyplot.rcParams[\"font.size\"], \"\\nfont =\", pyplot.rcParams[\"font.family\"][0])"
   ]
  },
  {
   "cell_type": "code",
   "execution_count": null,
   "metadata": {},
   "outputs": [],
   "source": [
    "def contour(cont, title, fname):\n",
    "\tx = cont.columns\n",
    "\ty = cont.index\n",
    "\tz = cont.values\n",
    "\tzmax = numpy.absolute(z).max()\n",
    "\tfig = pyplot.figure()\n",
    "\tax1 = fig.add_axes((0.35, 0, 1, 1))\n",
    "\tax1.set_axisbelow(False)\n",
    "\tpyplot.rcParams[\"lines.linewidth\"] = 2\n",
    "\tax1.contour(x, y, z, num_contour, cmap=\"bwr\", vmin=-zmax, vmax=zmax)\n",
    "\n",
    "\tax1.set_xlim(xmax, xmin)\n",
    "\tax1.set_xticks(numpy.arange(tmin, tmax, tdiv))\n",
    "\tax1.xaxis.set_minor_locator(ticker.MultipleLocator(tminor))\n",
    "\tax1.set_xlabel(r\"$\\nu$${_{1}}$ / cm${^{-1}}$\")\n",
    "\n",
    "\tax1.set_ylim(xmax, xmin)\n",
    "\tax1.set_yticks(numpy.arange(tmin, tmax, tdiv))\n",
    "\tax1.yaxis.set_minor_locator(ticker.MultipleLocator(tminor))\n",
    "\n",
    "\tax1.axes.yaxis.set_ticklabels([])\n",
    "\tax1 = ax1.twinx()\n",
    "\tax1.set_ylim(xmax, xmin)\n",
    "\tax1.set_yticks(numpy.arange(tmin, tmax, tdiv))\n",
    "\tax1.yaxis.set_minor_locator(ticker.MultipleLocator(tminor))\n",
    "\tax1.set_ylabel(r\"$\\nu$${_{2}}$ / cm${^{-1}}$\")\n",
    "\n",
    "\tax2 = fig.add_axes((0, 0, 0.35, 1))\n",
    "\tax2.set_axisbelow(False)\n",
    "\tpyplot.rcParams[\"lines.linewidth\"] = 0.5\n",
    "\tfor i in range(len(data)): ax2.plot(-data.iloc[i], data.columns, color=\"gray\")\n",
    "\tpyplot.rcParams[\"lines.linewidth\"] = 1.5\n",
    "\tax2.plot(-data.iloc[0], data.columns, color=\"blue\")\n",
    "\tax2.plot(-data.iloc[-1], data.columns, color=\"red\")\n",
    "\tax2.set_ylim(xmax, xmin)\n",
    "\tax2.set_yticks(numpy.arange(tmin, tmax, tdiv))\n",
    "\tax2.yaxis.set_minor_locator(ticker.MultipleLocator(tminor))\n",
    "\tax2.axes.yaxis.set_ticks([])\n",
    "\tax2.axes.xaxis.set_ticks([])\n",
    "  \n",
    "\tax3 = fig.add_axes((0.35, 1, 1, 0.35))\n",
    "\tax3.set_axisbelow(False)\n",
    "\tpyplot.rcParams[\"lines.linewidth\"] = 0.5\n",
    "\tfor i in range(len(data)): ax3.plot(data.columns, data.iloc[i], color=\"gray\")\n",
    "\tpyplot.rcParams[\"lines.linewidth\"] = 1.5\n",
    "\tax3.plot(data.columns, data.iloc[0], color=\"blue\")\n",
    "\tax3.plot(data.columns, data.iloc[-1], color=\"red\")\n",
    "\tax3.set_xlim(xmax, xmin)\n",
    "\tax3.set_xticks(numpy.arange(tmin, tmax, tdiv))\n",
    "\tax3.xaxis.set_minor_locator(ticker.MultipleLocator(tminor))\n",
    "\tax3.axes.xaxis.set_ticks([])\n",
    "\tax3.axes.yaxis.set_ticks([])\n",
    "\tax3.set_title(title, y=1.05)\n",
    "\n",
    "\tif savefig: pyplot.savefig(fname)\n",
    "\tpyplot.show()"
   ]
  },
  {
   "cell_type": "code",
   "execution_count": null,
   "metadata": {},
   "outputs": [],
   "source": [
    "# Hilbert-Noda transformation matrix\n",
    "noda = numpy.zeros([len(data), len(data)])\n",
    "for i, j in numpy.ndindex(noda.shape):\n",
    "\tif i != j: noda[i, j] = 1 / numpy.pi / (j - i)"
   ]
  },
  {
   "cell_type": "code",
   "execution_count": null,
   "metadata": {},
   "outputs": [],
   "source": [
    "# synchronous correlation\n",
    "xmin, xmax = 1000, 1200\n",
    "tmin, tmax, tdiv, tminor = 1000, 1201, 50, 10\n",
    "sync = pandas.DataFrame(dyna.T.values @ dyna.values / (len(data) - 1), index=data.columns, columns=data.columns).T\n",
    "contour(sync, \"Synchronous\", \"2dsync.png\")\n",
    "if savecsv: sync.to_csv(\"2dsync.csv\")"
   ]
  },
  {
   "cell_type": "code",
   "execution_count": null,
   "metadata": {},
   "outputs": [],
   "source": [
    "# asynchronouse correlation\n",
    "xmin, xmax = 1000, 1200\n",
    "tmin, tmax, tdiv, tminor = 1000, 1201, 50, 10\n",
    "asyn = pandas.DataFrame(dyna.T.values @ noda @ dyna.values / (len(data) - 1), index=data.columns, columns=data.columns).T\n",
    "contour(asyn, \"Asynchronous\", \"2dasyn.png\")\n",
    "if savecsv: asyn.to_csv(\"2dasyn.csv\")"
   ]
  }
 ],
 "metadata": {
  "kernelspec": {
   "display_name": "Python 3.9.13 ('base')",
   "language": "python",
   "name": "python3"
  },
  "language_info": {
   "codemirror_mode": {
    "name": "ipython",
    "version": 3
   },
   "file_extension": ".py",
   "mimetype": "text/x-python",
   "name": "python",
   "nbconvert_exporter": "python",
   "pygments_lexer": "ipython3",
   "version": "3.9.13"
  },
  "vscode": {
   "interpreter": {
    "hash": "aa931a12cd616f100a3dbf0df00067e1067e9b65b97740d9adc59c84adb05e7e"
   }
  }
 },
 "nbformat": 4,
 "nbformat_minor": 2
}
