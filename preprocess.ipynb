{
 "cells": [
  {
   "cell_type": "code",
   "execution_count": null,
   "metadata": {},
   "outputs": [],
   "source": [
    "import pandas\n",
    "import numpy\n",
    "from matplotlib import pyplot\n",
    "filename = \"dataframe.csv\"\n",
    "data = pandas.read_csv(filename, header=0, index_col=0).T\n",
    "data.index = pandas.read_csv(filename, header=None, index_col=0).iloc[0]\n",
    "data.index.name=\"\"\n",
    "data.T.plot(legend=None, xlim=[data.columns.max(), data.columns.min()])"
   ]
  },
  {
   "cell_type": "code",
   "execution_count": null,
   "metadata": {},
   "outputs": [],
   "source": [
    "# 横軸補完\n",
    "flag = False\n",
    "#flag = True\n",
    "xdiv = 0.5  # 補完間隔\n",
    "xmin = data.columns.min() // xdiv * xdiv + xdiv\n",
    "xmax = data.columns.max()\n",
    "from scipy import interpolate\n",
    "ix = numpy.arange(xmin, xmax, xdiv)\n",
    "buff = pandas.DataFrame(index=data.index, columns=ix)\n",
    "for i in range(len(data)): buff.iloc[i] = interpolate.interp1d(data.columns, data.iloc[i], kind=\"quadratic\")(ix)\n",
    "buff.T.plot(legend=None, xlim=[buff.columns.max(), buff.columns.min()])\n",
    "if flag: data = buff"
   ]
  },
  {
   "cell_type": "code",
   "execution_count": null,
   "metadata": {},
   "outputs": [],
   "source": [
    "# 横軸選択\n",
    "flag = False\n",
    "#flag = True\n",
    "xmax, xmin = 1500, 1000  # 横軸範囲\n",
    "buff = data.iloc[:, (xmin <= data.columns) & (data.columns <= xmax)]\n",
    "buff.T.plot(legend=None, xlim=[buff.columns.max(), buff.columns.min()])\n",
    "if flag: data = buff"
   ]
  },
  {
   "cell_type": "code",
   "execution_count": null,
   "metadata": {},
   "outputs": [],
   "source": [
    "# アウトライヤー除去 (Isolation Forest)\n",
    "flag = False\n",
    "#flag = True\n",
    "frac = 0.05  # 除去する割合\n",
    "from sklearn.ensemble import IsolationForest\n",
    "model = IsolationForest(contamination=frac).fit(data.values)\n",
    "predict = model.predict(data.values)\n",
    "data[predict == -1].T.plot(legend=None, xlim=[data.columns.max(), data.columns.min()])\n",
    "data[predict == 1].T.plot(legend=None, xlim=[data.columns.max(), data.columns.min()])\n",
    "if flag: data = data[predict == 1]"
   ]
  },
  {
   "cell_type": "code",
   "execution_count": null,
   "metadata": {},
   "outputs": [],
   "source": [
    "# アウトライヤー除去 (One Class SVM)\n",
    "flag = False\n",
    "#flag = True\n",
    "frac = 0.05  # 除去する割合\n",
    "from sklearn.svm import OneClassSVM\n",
    "model = OneClassSVM(nu=frac).fit(data.values)\n",
    "predict = model.predict(data.values)\n",
    "data[predict == -1].T.plot(legend=None, xlim=[data.columns.max(), data.columns.min()])\n",
    "data[predict == 1].T.plot(legend=None, xlim=[data.columns.max(), data.columns.min()])\n",
    "if flag: data = data[predict == 1]"
   ]
  },
  {
   "cell_type": "code",
   "execution_count": null,
   "metadata": {},
   "outputs": [],
   "source": [
    "# 平滑化\n",
    "flag = False\n",
    "#flag = True\n",
    "window = 7  # 窓幅\n",
    "x = data.columns\n",
    "print(\"window size =\", x[window - 1] - x[0])\n",
    "y = data.values[-1]\n",
    "from scipy.signal import savgol_filter\n",
    "s = savgol_filter(y, window, 2, 0)\n",
    "pyplot.axes().set_xlim([data.columns.max(), data.columns.min()])\n",
    "pyplot.scatter(x, y, s=3, c=\"blue\")\n",
    "pyplot.plot(x, s, c=\"red\")\n",
    "pyplot.show()\n",
    "pyplot.axes().set_xlim([data.columns.max(), data.columns.min()])\n",
    "pyplot.scatter(x, y-s, s=3, c=\"blue\")\n",
    "pyplot.show()\n",
    "if flag:\n",
    "    data = pandas.DataFrame(savgol_filter(data.values, window, 2, 0), index=data.index, columns=data.columns)\n",
    "    data.T.plot(legend=None, xlim=[data.columns.max(), data.columns.min()])"
   ]
  },
  {
   "cell_type": "code",
   "execution_count": null,
   "metadata": {},
   "outputs": [],
   "source": [
    "# 二次微分\n",
    "flag = False\n",
    "#flag = True\n",
    "window = 7  # 窓幅\n",
    "print(\"window size =\", x[window - 1] - x[0])\n",
    "from scipy import signal\n",
    "buff = data\n",
    "buff = signal.savgol_filter(buff, window, 2, 0)\n",
    "buff = signal.savgol_filter(buff, window, 2, 1)\n",
    "buff = signal.savgol_filter(buff, window, 2, 0)\n",
    "buff = signal.savgol_filter(buff, window, 2, 1)\n",
    "buff = pandas.DataFrame(buff, index=data.index, columns=data.columns)\n",
    "buff.T.plot(legend=None, xlim=[buff.columns.max(), buff.columns.min()])\n",
    "if flag: data = buff"
   ]
  },
  {
   "cell_type": "code",
   "execution_count": null,
   "metadata": {},
   "outputs": [],
   "source": [
    "# センタリング\n",
    "flag = False\n",
    "#flag = True\n",
    "buff = data - data.mean()\n",
    "buff.T.plot(legend=None, xlim=[buff.columns.max(), buff.columns.min()])\n",
    "if flag: data = buff"
   ]
  },
  {
   "cell_type": "code",
   "execution_count": null,
   "metadata": {},
   "outputs": [],
   "source": [
    "# スケーリング\n",
    "flag = False\n",
    "#flag = True\n",
    "buff = data / data.std()\n",
    "buff.T.plot(legend=None, xlim=[buff.columns.max(), buff.columns.min()])\n",
    "if flag: data = buff"
   ]
  },
  {
   "cell_type": "code",
   "execution_count": null,
   "metadata": {},
   "outputs": [],
   "source": [
    "# オートスケーリング\n",
    "flag = False\n",
    "#flag = True\n",
    "buff = (data - data.mean()) / data.std()\n",
    "buff.T.plot(legend=None, xlim=[buff.columns.max(), buff.columns.min()])\n",
    "if flag: data = buff"
   ]
  },
  {
   "cell_type": "code",
   "execution_count": null,
   "metadata": {},
   "outputs": [],
   "source": [
    "# ノーマライズ\n",
    "flag = False\n",
    "#flag = True\n",
    "#xmax, xmin = 1150, 1000\n",
    "buff = data.iloc[:, (xmin <= data.columns) & (data.columns <= xmax)]\n",
    "buff = ((data.T - buff.T.min()) / (buff.T.max() - buff.T.min())).T\n",
    "buff.T.plot(legend=None, xlim=[buff.columns.max(), buff.columns.min()])\n",
    "if flag: data = buff"
   ]
  },
  {
   "cell_type": "code",
   "execution_count": null,
   "metadata": {},
   "outputs": [],
   "source": [
    "# 差スペクトル\n",
    "flag = False\n",
    "#flag = True\n",
    "buff = data.iloc[0]  # 基準スペクトル\n",
    "buff = data - buff\n",
    "buff.T.plot(legend=None, xlim=[buff.columns.max(), buff.columns.min()])\n",
    "if flag: data = buff"
   ]
  },
  {
   "cell_type": "code",
   "execution_count": null,
   "metadata": {},
   "outputs": [],
   "source": [
    "# 差分スペクトル\n",
    "flag = False\n",
    "#flag = True\n",
    "buff = data.copy()\n",
    "for i in range(len(data) - 1): buff.iloc[i] = buff.iloc[i + 1] - buff.iloc[i]\n",
    "buff = buff.iloc[:-1]\n",
    "buff.T.plot(legend=None, xlim=[buff.columns.max(), buff.columns.min()])\n",
    "if flag: data = buff"
   ]
  }
 ],
 "metadata": {
  "interpreter": {
   "hash": "398c91425ba9501ad3ceb4348a18eb4e653d71098c9fe91723be7ca895e75769"
  },
  "kernelspec": {
   "display_name": "Python 3.8.12 64-bit ('base': conda)",
   "name": "python3"
  },
  "language_info": {
   "codemirror_mode": {
    "name": "ipython",
    "version": 3
   },
   "file_extension": ".py",
   "mimetype": "text/x-python",
   "name": "python",
   "nbconvert_exporter": "python",
   "pygments_lexer": "ipython3",
   "version": "3.8.12"
  }
 },
 "nbformat": 4,
 "nbformat_minor": 4
}
