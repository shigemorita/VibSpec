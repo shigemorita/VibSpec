{
 "cells": [
  {
   "cell_type": "code",
   "execution_count": null,
   "metadata": {},
   "outputs": [],
   "source": [
    "import numpy\n",
    "import pandas\n",
    "from matplotlib import pyplot"
   ]
  },
  {
   "cell_type": "code",
   "execution_count": null,
   "metadata": {},
   "outputs": [],
   "source": [
    "# DataFrame 読み込み / read DataFrame\n",
    "filename = \"dataframe.csv\"\n",
    "data = pandas.read_csv(filename, header=0, index_col=0).T\n",
    "data.index = data.index.astype(float)\n",
    "data.T.plot(legend=None, xlim=[data.columns.max(), data.columns.min()])\n",
    "pyplot.show()"
   ]
  },
  {
   "cell_type": "code",
   "execution_count": null,
   "metadata": {},
   "outputs": [],
   "source": [
    "# DataFrame 書き込み / write DataFrame\n",
    "filename = \"dataframe_.csv\"\n",
    "data.T.to_csv(filename)"
   ]
  },
  {
   "cell_type": "code",
   "execution_count": null,
   "metadata": {},
   "outputs": [],
   "source": [
    "# Series 読み込み / read Series\n",
    "filename = \"series.csv\"\n",
    "data = pandas.read_csv(filename, header=None, index_col=0).squeeze()\n",
    "data.index.name = ''\n",
    "data.plot(xlim=[data.index.max(), data.index.min()])\n",
    "pyplot.show()"
   ]
  },
  {
   "cell_type": "code",
   "execution_count": null,
   "metadata": {},
   "outputs": [],
   "source": [
    "# Series 書き込み / write Series\n",
    "filename = \"series_.csv\"\n",
    "data.to_csv(filename, header=False)"
   ]
  },
  {
   "cell_type": "code",
   "execution_count": null,
   "metadata": {},
   "outputs": [],
   "source": [
    "# フォルダ変更 / change folder\n",
    "path = \"./\"\n",
    "import os\n",
    "print(os.getcwd())\n",
    "os.chdir(path)\n",
    "print(os.getcwd())"
   ]
  },
  {
   "cell_type": "code",
   "execution_count": null,
   "metadata": {},
   "outputs": [],
   "source": [
    "# Tkinter を使った読み込み / read by Tkinter\n",
    "import tkinter.filedialog\n",
    "import os\n",
    "root = tkinter.Tk()\n",
    "root.withdraw()\n",
    "root.attributes(\"-topmost\", True)\n",
    "root.lift()\n",
    "root.focus_force()\n",
    "filename = tkinter.filedialog.askopenfilename(initialdir=os.getcwd(), filetypes=[(\"csv\", \"*.csv\")])\n",
    "if pandas.read_csv(filename).columns[0] == \"Unnamed: 0\":\n",
    "\tdata = pandas.read_csv(filename, header=0, index_col=0).T\n",
    "\tdata.index = data.index.astype(float)\n",
    "\tdata.T.plot(legend=None, xlim=[data.columns.max(), data.columns.min()])\n",
    "else:\n",
    "\tdata = pandas.read_csv(filename, header=None, index_col=0).squeeze()\n",
    "\tdata.index.name = ''\n",
    "\tdata.plot(xlim=[data.index.max(), data.index.min()])\n",
    "pyplot.show()"
   ]
  },
  {
   "cell_type": "code",
   "execution_count": null,
   "metadata": {},
   "outputs": [],
   "source": [
    "# 1つの DataFrame を読み込んで複数の Series で書き込み / read one DataFrame and write multiple Series\n",
    "filename = \"dataframe.csv\"\n",
    "data = pandas.read_csv(filename, header=0, index_col=0).T\n",
    "data.index = data.index.astype(float)\n",
    "data.index.name=\"\"\n",
    "for i in range(data.index.shape[0]):\n",
    "    buff = pandas.Series(data.iloc[i], index=data.columns)   \n",
    "    buff.to_csv(filename[:-4] + \"_\" + \"{0:03d}\".format(i) + \".csv\", header=False)"
   ]
  },
  {
   "cell_type": "code",
   "execution_count": null,
   "metadata": {},
   "outputs": [],
   "source": [
    "# 複数の Series を読み込んで1つの DataFrame で書き込み / read multiple Series and write one DataFrame\n",
    "import glob\n",
    "filename = \"dataframe_\"\n",
    "files = glob.glob(filename + \"*.csv\")\n",
    "data = pandas.DataFrame(index=pandas.read_csv(files[0], header=None, index_col=0).index)\n",
    "for f in files:\n",
    "    buff = pandas.read_csv(f, header=None, index_col=0).values\n",
    "    data[f] = buff\n",
    "data.index.name=\"\"\n",
    "data.to_csv(filename + \".csv\")"
   ]
  },
  {
   "cell_type": "code",
   "execution_count": null,
   "metadata": {},
   "outputs": [],
   "source": [
    "# DataFrame を読み込んで data.index を逆順にしてから DataFrame で書き込み\n",
    "filename = \"dataframe.csv\"\n",
    "data = pandas.read_csv(filename, header=0, index_col=0).T\n",
    "data.index = data.index.astype(float)\n",
    "data.index.name=\"\"\n",
    "data.iloc[:, ::-1].T.to_csv(filename[:-4] + \"_r.csv\")"
   ]
  },
  {
   "cell_type": "code",
   "execution_count": null,
   "metadata": {},
   "outputs": [],
   "source": [
    "# DataFrame を読み込んで転置してから DataFrame で書き込み\n",
    "filename = \"dataframe.csv\"\n",
    "data = pandas.read_csv(filename, header=0, index_col=0).T\n",
    "data.index = pandas.read_csv(filename, header=None, index_col=0).iloc[0]\n",
    "data.index.name=\"\"\n",
    "data.to_csv(filename[:-4] + \"_t.csv\")"
   ]
  },
  {
   "cell_type": "code",
   "execution_count": null,
   "metadata": {},
   "outputs": [],
   "source": [
    "# YOKOGAWA NR800 読み込み\n",
    "import glob\n",
    "files = glob.glob(\"*.csv\")\n",
    "for filename in files:\n",
    "\tf = open(filename, \"r\")\n",
    "\tdata = f.readlines()\n",
    "\tf.close()\n",
    "\twith open(\"_\" + filename, mode=\"w\") as f: f.writelines(data[37:-1])\n",
    "\tf.close()"
   ]
  },
  {
   "cell_type": "code",
   "execution_count": null,
   "metadata": {},
   "outputs": [],
   "source": [
    "# JASCO 読み込み\n",
    "filename = \"jasco.csv\"\n",
    "data = pandas.read_csv(filename, header=17, index_col=0).T\n",
    "data.index = pandas.read_csv(filename, header=None, index_col=0, skiprows=17).iloc[0].values\n",
    "data.T.plot(legend=None, xlim=[data.columns.max(), data.columns.min()])"
   ]
  },
  {
   "cell_type": "code",
   "execution_count": null,
   "metadata": {},
   "outputs": [],
   "source": [
    "# Wasatch 読み込み\n",
    "path = \"data\"  # データが入っているフォルダ名\n",
    "path = \"./\" + path\n",
    "os.chdir(path)\n",
    "print(os.getcwd())\n",
    "import glob\n",
    "files = glob.glob(\"*.csv\")\n",
    "import warnings\n",
    "warnings.simplefilter('ignore')\n",
    "data = pandas.DataFrame(index=pandas.read_csv(files[0], skiprows=46, header=None)[0].values)\n",
    "for filename in files:\n",
    "\tdata[filename[19:25]]=pandas.read_csv(filename, skiprows=46, header=None)[3].values\n",
    "data.columns = data.columns.astype(int) - data.columns.astype(int)[0]\n",
    "os.chdir(\"../\")\n",
    "data.to_csv(\"data.csv\")\n",
    "data"
   ]
  }
 ],
 "metadata": {
  "kernelspec": {
   "display_name": "Python 3.9.13 ('base')",
   "language": "python",
   "name": "python3"
  },
  "language_info": {
   "codemirror_mode": {
    "name": "ipython",
    "version": 3
   },
   "file_extension": ".py",
   "mimetype": "text/x-python",
   "name": "python",
   "nbconvert_exporter": "python",
   "pygments_lexer": "ipython3",
   "version": "3.9.18"
  },
  "vscode": {
   "interpreter": {
    "hash": "aa931a12cd616f100a3dbf0df00067e1067e9b65b97740d9adc59c84adb05e7e"
   }
  }
 },
 "nbformat": 4,
 "nbformat_minor": 4
}
