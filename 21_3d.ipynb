{
 "cells": [
  {
   "cell_type": "code",
   "execution_count": null,
   "metadata": {},
   "outputs": [],
   "source": [
    "import pandas\n",
    "import numpy\n",
    "from matplotlib import pyplot, ticker\n",
    "from mpl_toolkits.mplot3d import Axes3D"
   ]
  },
  {
   "cell_type": "code",
   "execution_count": null,
   "metadata": {},
   "outputs": [],
   "source": [
    "pyplot.rcdefaults()\n",
    "filename = \"dataframe.csv\"\n",
    "data = pandas.read_csv(filename, header=0, index_col=0).T\n",
    "data.index = pandas.read_csv(filename, header=None, index_col=0).iloc[0].values\n",
    "\n",
    "xmax, xmin = 3700, 3000\n",
    "data = data.iloc[:, (xmin <= data.columns) & (data.columns <= xmax)]\n",
    "data.T.plot(legend=None, xlim=[data.columns.max(), data.columns.min()])"
   ]
  },
  {
   "cell_type": "code",
   "execution_count": null,
   "metadata": {},
   "outputs": [],
   "source": [
    "# tick\n",
    "pyplot.rcParams[\"xtick.bottom\"] = True  # 下軸目盛の表示\n",
    "pyplot.rcParams[\"xtick.top\"] = True  # 上軸目盛の表示\n",
    "pyplot.rcParams[\"ytick.left\"] = True  # 左軸目盛の表示\n",
    "pyplot.rcParams[\"ytick.right\"] = True  # 右軸目盛の表示\n",
    "pyplot.rcParams[\"xtick.direction\"] = \"in\"  # 縦軸目盛の向き\n",
    "pyplot.rcParams[\"ytick.direction\"] = \"in\"  # 横軸目盛の向き\n",
    "pyplot.rcParams[\"xtick.major.size\"] = 10  # 横軸主目盛の長さ\n",
    "pyplot.rcParams[\"ytick.major.size\"] = 10  # 縦軸主目盛の長さ\n",
    "pyplot.rcParams[\"xtick.minor.size\"] = 5  # 横軸副目盛の長さ\n",
    "pyplot.rcParams[\"ytick.minor.size\"] = 5  # 縦軸副目盛の長さ\n",
    "# line\n",
    "pyplot.rcParams[\"lines.linewidth\"] = 1  # 折れ線グラフの太さ\n",
    "pyplot.rcParams[\"axes.linewidth\"] = 2  # 軸線の太さ\n",
    "pyplot.rcParams[\"xtick.major.width\"] = 2  # 横軸主目盛の太さ\n",
    "pyplot.rcParams[\"ytick.major.width\"] = 2  # 縦軸主目盛の太さ\n",
    "pyplot.rcParams[\"xtick.minor.width\"] = 2  # 横軸副目盛の太さ\n",
    "pyplot.rcParams[\"ytick.minor.width\"] = 2  # 縦軸副目盛の太さ\n",
    "# pad\n",
    "pyplot.rcParams[\"axes.labelpad\"] = 15  # タイトルの軸からの距離\n",
    "pyplot.rcParams[\"xtick.major.pad\"] = 5  # 横軸目盛の軸からの距離\n",
    "pyplot.rcParams[\"ytick.major.pad\"] = 5  # 縦軸目盛の軸からの距離\n",
    "# save\n",
    "pyplot.rcParams[\"savefig.format\"] = \"png\"\n",
    "pyplot.rcParams[\"savefig.dpi\"] = 150\n",
    "pyplot.rcParams[\"savefig.transparent\"] = False\n",
    "pyplot.rcParams[\"savefig.bbox\"] = \"tight\"\n",
    "# フォント\n",
    "pyplot.rcParams[\"font.size\"] = \"16\"  # フォントサイズ\n",
    "#pyplot.rcParams[\"font.family\"] = \"Times New Roman\"  # セリフフォント\n",
    "#pyplot.rcParams[\"font.family\"] = \"Arial\"  # サンセリフフォント\n",
    "pyplot.rcParams[\"font.family\"] = \"Meiryo\"  # 日本語フォント"
   ]
  },
  {
   "cell_type": "code",
   "execution_count": null,
   "metadata": {},
   "outputs": [],
   "source": [
    "fig = pyplot.figure(figsize=(10, 10))  # 図の大きさ\n",
    "ax = fig.add_subplot(projection='3d')\n",
    "ax.view_init(elev=20, azim=15)  # 縦と横の回転角\n",
    "\n",
    "ax.set_xlim(140, 280)  # 横軸の範囲\n",
    "ax.set_xticks(numpy.arange(140, 281, 20))  # 横軸の主目盛\n",
    "ax.set_xlabel(\"Temperature / \\N{DEGREE SIGN}C\")  # 縦軸のタイトル\n",
    "\n",
    "ax.set_ylim(3700, 3000)  # 横軸の範囲\n",
    "ax.set_yticks(numpy.arange(3000, 3701, 100))  # 横軸の主目盛\n",
    "ax.set_ylabel(\"Wavenumber / cm$^{-1}$\")  # 横軸のタイトル\n",
    "\n",
    "ax.set_zlim(0, 1.4)  # 横軸の範囲\n",
    "ax.set_zticks(numpy.arange(0, 1.41, 0.2))  # 横軸の主目盛\n",
    "ax.set_zlabel(\"Absorbance\", rotation=0)  # 縦軸のタイトル\n",
    "\n",
    "for i in range(len(data)):\n",
    "\tx = data.columns\n",
    "\tdef p(n): return data.index[i]\n",
    "\tx = list(map(p, x))\n",
    "\ty = data.columns\n",
    "\tz = data.iloc[i]\n",
    "\tax.plot(x, y, z, c='red')\n",
    "\n",
    "#pyplot.savefig(\"plot.png\")  # 画像として保存\n",
    "pyplot.show()"
   ]
  }
 ],
 "metadata": {
  "kernelspec": {
   "display_name": "Python 3.9.13 ('base')",
   "language": "python",
   "name": "python3"
  },
  "language_info": {
   "codemirror_mode": {
    "name": "ipython",
    "version": 3
   },
   "file_extension": ".py",
   "mimetype": "text/x-python",
   "name": "python",
   "nbconvert_exporter": "python",
   "pygments_lexer": "ipython3",
   "version": "3.9.18"
  },
  "vscode": {
   "interpreter": {
    "hash": "aa931a12cd616f100a3dbf0df00067e1067e9b65b97740d9adc59c84adb05e7e"
   }
  }
 },
 "nbformat": 4,
 "nbformat_minor": 4
}
