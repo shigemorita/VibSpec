{
 "cells": [
  {
   "cell_type": "code",
   "execution_count": null,
   "metadata": {},
   "outputs": [],
   "source": [
    "import pandas\n",
    "import numpy\n",
    "from matplotlib import pyplot, ticker\n",
    "from mpl_toolkits.mplot3d import Axes3D\n",
    "pyplot.rcdefaults()"
   ]
  },
  {
   "cell_type": "code",
   "execution_count": null,
   "metadata": {},
   "outputs": [],
   "source": [
    "# ファイル読み込み\n",
    "import tkinter.filedialog\n",
    "root = tkinter.Tk()\n",
    "root.withdraw()\n",
    "root.attributes(\"-topmost\", True)\n",
    "root.lift()\n",
    "root.focus_force()\n",
    "filename = tkinter.filedialog.askopenfilename(filetypes=[(\"csv\", \"*.csv\")])\n",
    "if pandas.read_csv(filename).columns[0] == \"Unnamed: 0\":\n",
    "\tdata = pandas.read_csv(filename, header=0, index_col=0).T\n",
    "\tdata.index = pandas.read_csv(filename, header=None, index_col=0).iloc[0].values\n",
    "else:\tdata = pandas.DataFrame(pandas.read_csv(filename, header=None, index_col=0).squeeze()).T\n",
    "data.T.plot(legend=None)\n",
    "data"
   ]
  },
  {
   "cell_type": "code",
   "execution_count": null,
   "metadata": {},
   "outputs": [],
   "source": [
    "# tick\n",
    "pyplot.rcParams[\"xtick.bottom\"] = True  # 下軸目盛の表示\n",
    "pyplot.rcParams[\"xtick.top\"] = True  # 上軸目盛の表示\n",
    "pyplot.rcParams[\"ytick.left\"] = True  # 左軸目盛の表示\n",
    "pyplot.rcParams[\"ytick.right\"] = True  # 右軸目盛の表示\n",
    "pyplot.rcParams[\"xtick.direction\"] = \"in\"  # 縦軸目盛の向き\n",
    "pyplot.rcParams[\"ytick.direction\"] = \"in\"  # 横軸目盛の向き\n",
    "pyplot.rcParams[\"xtick.major.size\"] = 10  # 横軸主目盛の長さ\n",
    "pyplot.rcParams[\"ytick.major.size\"] = 10  # 縦軸主目盛の長さ\n",
    "pyplot.rcParams[\"xtick.minor.size\"] = 5  # 横軸副目盛の長さ\n",
    "pyplot.rcParams[\"ytick.minor.size\"] = 5  # 縦軸副目盛の長さ\n",
    "# line\n",
    "pyplot.rcParams[\"lines.linewidth\"] = 2  # 折れ線グラフの太さ\n",
    "pyplot.rcParams[\"axes.linewidth\"] = 1  # 軸線の太さ\n",
    "pyplot.rcParams[\"xtick.major.width\"] = 2  # 横軸主目盛の太さ\n",
    "pyplot.rcParams[\"ytick.major.width\"] = 2  # 縦軸主目盛の太さ\n",
    "pyplot.rcParams[\"xtick.minor.width\"] = 2  # 横軸副目盛の太さ\n",
    "pyplot.rcParams[\"ytick.minor.width\"] = 2  # 縦軸副目盛の太さ\n",
    "# pad\n",
    "pyplot.rcParams[\"axes.labelpad\"] = 5  # タイトルの軸からの距離\n",
    "pyplot.rcParams[\"xtick.major.pad\"] = 5  # 横軸目盛の軸からの距離\n",
    "pyplot.rcParams[\"ytick.major.pad\"] = 5  # 縦軸目盛の軸からの距離\n",
    "# save\n",
    "pyplot.rcParams[\"savefig.format\"] = \"png\"\n",
    "pyplot.rcParams[\"savefig.dpi\"] = 150\n",
    "pyplot.rcParams[\"savefig.transparent\"] = False\n",
    "pyplot.rcParams[\"savefig.bbox\"] = \"tight\"\n",
    "# フォント\n",
    "pyplot.rcParams[\"font.size\"] = \"16\"  # フォントサイズ\n",
    "font = 3  # フォント指定\n",
    "if font == 1: pyplot.rcParams[\"font.family\"] = \"Times New Roman\"  # セリフフォント\n",
    "if font == 2: pyplot.rcParams[\"font.family\"] = \"Arial\"  # サンセリフフォント\n",
    "if font == 3: pyplot.rcParams[\"font.family\"] = \"Meiryo\"  # 日本語フォント\n",
    "print(\"size =\", pyplot.rcParams[\"font.size\"], \"\\nfont =\", pyplot.rcParams[\"font.family\"][0])"
   ]
  },
  {
   "cell_type": "code",
   "execution_count": null,
   "metadata": {},
   "outputs": [],
   "source": [
    "tate, yoko = 20, 210  # 縦と横の回転角\n",
    "width, hight = 16, 10\n",
    "fig = pyplot.figure(figsize=(width, hight))\n",
    "ax = fig.add_subplot(projection='3d')\n",
    "ax.view_init(elev=tate, azim=yoko)\n",
    "for i in range(len(data)):\n",
    "\tx = data.columns\n",
    "\tdef wn(n): return data.index[i]\n",
    "\tx = list(map(wn, x))\n",
    "\ty = data.columns\n",
    "\tz = data.iloc[i]\n",
    "\tax.plot(x, y, z, c='red')\n",
    "pyplot.show()"
   ]
  }
 ],
 "metadata": {
  "kernelspec": {
   "display_name": "Python 3.9.13 ('base')",
   "language": "python",
   "name": "python3"
  },
  "language_info": {
   "codemirror_mode": {
    "name": "ipython",
    "version": 3
   },
   "file_extension": ".py",
   "mimetype": "text/x-python",
   "name": "python",
   "nbconvert_exporter": "python",
   "pygments_lexer": "ipython3",
   "version": "3.9.16"
  },
  "vscode": {
   "interpreter": {
    "hash": "aa931a12cd616f100a3dbf0df00067e1067e9b65b97740d9adc59c84adb05e7e"
   }
  }
 },
 "nbformat": 4,
 "nbformat_minor": 4
}
