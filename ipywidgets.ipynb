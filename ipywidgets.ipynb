{
 "cells": [
  {
   "cell_type": "code",
   "execution_count": null,
   "metadata": {},
   "outputs": [],
   "source": [
    "import pandas\n",
    "import numpy\n",
    "from matplotlib import pyplot\n",
    "from ipywidgets import Play, IntSlider, jslink, HBox, interactive_output"
   ]
  },
  {
   "cell_type": "code",
   "execution_count": null,
   "metadata": {},
   "outputs": [],
   "source": [
    "filename = \"pmea.csv\"\n",
    "data = pandas.read_csv(filename, header=0, index_col=0).T\n",
    "data.index = pandas.read_csv(filename, header=None, index_col=0).iloc[0]\n",
    "data.index.name = \"\"\n",
    "data.T.plot(legend=None, xlim=[data.columns.max(), data.columns.min()])"
   ]
  },
  {
   "cell_type": "code",
   "execution_count": null,
   "metadata": {},
   "outputs": [],
   "source": [
    "# 横軸選択\n",
    "flag = False\n",
    "flag = True\n",
    "xmax, xmin = 1300, 1000  # 横軸範囲\n",
    "buff = data.iloc[:, (xmin <= data.columns) & (data.columns <= xmax)]\n",
    "buff.T.plot(legend=None, xlim=[buff.columns.max(), buff.columns.min()])\n",
    "if flag: data = buff"
   ]
  },
  {
   "cell_type": "code",
   "execution_count": null,
   "metadata": {},
   "outputs": [],
   "source": [
    "def f(i):\n",
    "    y = data.iloc[i]\n",
    "    pyplot.figure(figsize=(8, 6))\n",
    "    pyplot.xlim(x.max(), x.min())\n",
    "    pyplot.ylim(data.min().min(), data.max().max())\n",
    "    pyplot.plot(x, y)\n",
    "    pyplot.show()\n",
    "\n",
    "x = data.columns\n",
    "play = Play(min=0, max=len(data) - 1, step=1, interval=100)\n",
    "slider = IntSlider(min=0, max=len(data) - 1, step=1)\n",
    "jslink((play, \"value\"), (slider, \"value\"))\n",
    "display(HBox([play, slider]), interactive_output(f, {\"i\": slider}))"
   ]
  },
  {
   "cell_type": "code",
   "execution_count": null,
   "metadata": {},
   "outputs": [],
   "source": [
    "# 平滑化\n",
    "from scipy.signal import savgol_filter\n",
    "\n",
    "def f(i):\n",
    "\ts = savgol_filter(y, i, 2, 0)\n",
    "\tpyplot.xlim(x.max(), x.min())\n",
    "\tpyplot.ylim(y.min(), y.max())\n",
    "\tpyplot.scatter(x, y, s=5, c=\"blue\")\n",
    "\tpyplot.plot(x, s, c=\"red\")\n",
    "\tpyplot.show()\n",
    "\tpyplot.xlim(x.max(), x.min())\n",
    "\tpyplot.ylim((y.min()-y.max())/2, (y.max()-y.min())/2)\n",
    "\tpyplot.scatter(x, y-s, s=5, c=\"blue\")\n",
    "\tpyplot.show()\n",
    "\n",
    "x = data.columns\n",
    "y = data.values[-1]\n",
    "slider = IntSlider(min=3, max=51, step=2)\n",
    "display(slider, interactive_output(f, {\"i\": slider}))"
   ]
  },
  {
   "cell_type": "code",
   "execution_count": null,
   "metadata": {},
   "outputs": [],
   "source": [
    "from scipy.signal import savgol_filter\n",
    "\n",
    "def f(i):\n",
    "\ts = savgol_filter(y, i, 2, 0)\n",
    "\tpyplot.xlim(x.max(), x.min())\n",
    "\tpyplot.ylim(y.min(), y.max())\n",
    "\tpyplot.scatter(x, y, s=5, c=\"blue\")\n",
    "\tpyplot.plot(x, s, c=\"red\")\n",
    "\tpyplot.show()\n",
    "\ts = savgol_filter(s, i, 2, 1)\n",
    "\ts = savgol_filter(s, i, 2, 0)\n",
    "\ts = savgol_filter(s, i, 2, 1)\n",
    "\tpyplot.xlim(x.max(), x.min())\n",
    "\tpyplot.ylim(s.min(), s.max())\n",
    "\tpyplot.plot(x, s, c=\"red\")\n",
    "\tpyplot.show()\n",
    "\n",
    "x = data.columns\n",
    "y = data.values[-1]\n",
    "slider = IntSlider(min=3, max=51, step=2)\n",
    "display(slider, interactive_output(f, {\"i\": slider}))"
   ]
  },
  {
   "cell_type": "code",
   "execution_count": null,
   "metadata": {},
   "outputs": [],
   "source": [
    "# 二次微分\n",
    "flag = False\n",
    "#flag = True\n",
    "window = slider.get_interact_value()\n",
    "print(\"window size =\", x[window - 1] - x[0])\n",
    "from scipy import signal\n",
    "buff = data\n",
    "buff = savgol_filter(buff, window, 2, 0)\n",
    "buff = savgol_filter(buff, window, 2, 1)\n",
    "buff = savgol_filter(buff, window, 2, 0)\n",
    "buff = savgol_filter(buff, window, 2, 1)\n",
    "buff = pandas.DataFrame(buff, index=data.index, columns=data.columns)\n",
    "buff.T.plot(legend=None, xlim=[buff.columns.max(), buff.columns.min()])\n",
    "if flag: data = buff"
   ]
  }
 ],
 "metadata": {
  "interpreter": {
   "hash": "398c91425ba9501ad3ceb4348a18eb4e653d71098c9fe91723be7ca895e75769"
  },
  "kernelspec": {
   "display_name": "Python 3.8.12 64-bit ('base': conda)",
   "name": "python3"
  },
  "language_info": {
   "codemirror_mode": {
    "name": "ipython",
    "version": 3
   },
   "file_extension": ".py",
   "mimetype": "text/x-python",
   "name": "python",
   "nbconvert_exporter": "python",
   "pygments_lexer": "ipython3",
   "version": "3.8.12"
  },
  "orig_nbformat": 4
 },
 "nbformat": 4,
 "nbformat_minor": 2
}
