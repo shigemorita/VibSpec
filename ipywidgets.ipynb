{
 "cells": [
  {
   "cell_type": "code",
   "execution_count": null,
   "metadata": {},
   "outputs": [],
   "source": [
    "import numpy\n",
    "import pandas\n",
    "from matplotlib import pyplot\n",
    "filename = \"dataframe.csv\"\n",
    "data = pandas.read_csv(filename, header=0, index_col=0).T\n",
    "data.index = pandas.read_csv(filename, header=None, index_col=0).iloc[0].values\n",
    "xmax, xmin = 1900, 1000\n",
    "data = data.iloc[:, (xmin <= data.columns) & (data.columns <= xmax)]\n",
    "data.T.plot(legend=None, xlim=[data.columns.max(), data.columns.min()])"
   ]
  },
  {
   "cell_type": "code",
   "execution_count": null,
   "metadata": {},
   "outputs": [],
   "source": [
    "# view spectra\n",
    "from ipywidgets import Play, IntSlider, jslink, HBox, interactive_output\n",
    "\n",
    "def f(i):\n",
    "    y = data.iloc[i]\n",
    "    pyplot.figure(figsize=(8, 6))\n",
    "    pyplot.xlim(x.max(), x.min())\n",
    "    pyplot.ylim(data.min().min(), data.max().max())\n",
    "    pyplot.plot(x, y)\n",
    "    pyplot.show()\n",
    "\n",
    "x = data.columns\n",
    "play = Play(min=0, max=len(data) - 1, step=1, interval=100)\n",
    "slider = IntSlider(min=0, max=len(data) - 1, step=1)\n",
    "jslink((play, \"value\"), (slider, \"value\"))\n",
    "display(HBox([play, slider]), interactive_output(f, {\"i\": slider}))"
   ]
  },
  {
   "cell_type": "code",
   "execution_count": null,
   "metadata": {},
   "outputs": [],
   "source": [
    "# intensity variation\n",
    "from ipywidgets import IntSlider, interactive_output\n",
    "\n",
    "def f(i):\n",
    "\tj = len(data.T) - 1 - i\n",
    "\tprint(\"i =\", j, \" pos =\", x[j])\n",
    "\tpyplot.xlim(x.max(), x.min())\n",
    "\tpyplot.ylim(y.min(), y.max())\n",
    "\tpyplot.plot(x, y)\n",
    "\tpyplot.plot([x[j], x[j]], [y.min(), y.max()])\n",
    "\tpyplot.show()\n",
    "\tpyplot.xlim(s.min(), s.max())\n",
    "\t#pyplot.ylim(y.min(), y.max())\n",
    "\tpyplot.scatter(s, data.iloc[:,j].values)\n",
    "\tpyplot.show()\n",
    "\n",
    "x = data.columns\n",
    "s = data.index\n",
    "y = data.values.T\n",
    "slider = IntSlider(min=0, max=len(data.T)-1, step=1)\n",
    "display(slider, interactive_output(f, {\"i\": slider}))"
   ]
  },
  {
   "cell_type": "code",
   "execution_count": null,
   "metadata": {},
   "outputs": [],
   "source": [
    "# save intensity variation\n",
    "j = len(data.T) - 1 - slider.get_interact_value()\n",
    "print(\"i =\", j, \" pos =\", x[j])\n",
    "buff = pandas.Series(data.iloc[:,j].values, index=data.index)\n",
    "buff.plot()\n",
    "#buff.to_csv(str(x[j])+\".csv\", header=False)"
   ]
  },
  {
   "cell_type": "code",
   "execution_count": null,
   "metadata": {},
   "outputs": [],
   "source": [
    "# save area intensity\n",
    "left, right = 36, 27\n",
    "print(data.columns[left+1], \"-\", data.columns[right])\n",
    "buff = data.iloc[:,right:left+1].T.sum()\n",
    "buff.plot()\n",
    "#buff.to_csv(str(x[left])+\"_\"+str(x[right])+\".csv\", header=False)"
   ]
  },
  {
   "cell_type": "code",
   "execution_count": null,
   "metadata": {},
   "outputs": [],
   "source": [
    "# smoothing\n",
    "from ipywidgets import IntSlider, interactive_output\n",
    "from scipy.signal import savgol_filter\n",
    "\n",
    "def f(i):\n",
    "    buff = savgol_filter(y, i, 2, 0)\n",
    "    pyplot.xlim(x.max(), x.min())\n",
    "    pyplot.ylim(y.min(), y.max())\n",
    "    pyplot.scatter(x, y, s=5, c=\"blue\")\n",
    "    pyplot.plot(x, buff, c=\"red\")\n",
    "    pyplot.show()\n",
    "    pyplot.xlim(x.max(), x.min())\n",
    "    pyplot.ylim((y.min() - y.max()) / 2, (y.max() - y.min()) / 2)\n",
    "    pyplot.scatter(x, y - buff, s=5, c=\"green\")\n",
    "    pyplot.show()\n",
    "\n",
    "secder = False\n",
    "x = data.columns\n",
    "y = data.values[-1]\n",
    "slider = IntSlider(min=3, max=51, step=2)\n",
    "display(slider, interactive_output(f, {\"i\": slider}))"
   ]
  },
  {
   "cell_type": "code",
   "execution_count": null,
   "metadata": {},
   "outputs": [],
   "source": [
    "# 2nd derivative\n",
    "from ipywidgets import IntSlider, interactive_output\n",
    "from scipy.signal import savgol_filter\n",
    "\n",
    "def f(i):\n",
    "    buff = savgol_filter(y, i, 2, 0)\n",
    "    pyplot.xlim(x.max(), x.min())\n",
    "    pyplot.ylim(y.min(), y.max())\n",
    "    pyplot.scatter(x, y, s=5, c=\"blue\")\n",
    "    pyplot.plot(x, buff, c=\"red\")\n",
    "    pyplot.show()\n",
    "    buff = savgol_filter(buff, i, 2, 1)\n",
    "    buff = savgol_filter(buff, i, 2, 0)\n",
    "    buff = savgol_filter(buff, i, 2, 1)\n",
    "    pyplot.xlim(x.max(), x.min())\n",
    "    pyplot.ylim(ymin, ymax)\n",
    "    pyplot.plot(x, buff, c=\"red\")\n",
    "    pyplot.show()\n",
    "\n",
    "secder = True\n",
    "x = data.columns\n",
    "y = data.values[-1]\n",
    "buff = savgol_filter(y, 3, 2, 2)\n",
    "ymin, ymax = buff.min(), buff.max()\n",
    "slider = IntSlider(min=3, max=51, step=2)\n",
    "display(slider, interactive_output(f, {\"i\": slider}))"
   ]
  },
  {
   "cell_type": "code",
   "execution_count": null,
   "metadata": {},
   "outputs": [],
   "source": [
    "# smoothing or 2nd derivative for all spectra\n",
    "flag = False\n",
    "#flag = True\n",
    "window = slider.get_interact_value()\n",
    "print(\"window size =\", x[window - 1] - x[0])\n",
    "buff = data\n",
    "buff = savgol_filter(buff, window, 2, 0)\n",
    "if secder:\n",
    "    buff = savgol_filter(buff, window, 2, 1)\n",
    "    buff = savgol_filter(buff, window, 2, 0)\n",
    "    buff = savgol_filter(buff, window, 2, 1)\n",
    "buff = pandas.DataFrame(buff, index=data.index, columns=data.columns)\n",
    "buff.T.plot(legend=None, xlim=[buff.columns.max(), buff.columns.min()])\n",
    "if flag: data = buff"
   ]
  }
 ],
 "metadata": {
  "interpreter": {
   "hash": "398c91425ba9501ad3ceb4348a18eb4e653d71098c9fe91723be7ca895e75769"
  },
  "kernelspec": {
   "display_name": "Python 3.8.12 64-bit ('base': conda)",
   "name": "python3"
  },
  "language_info": {
   "codemirror_mode": {
    "name": "ipython",
    "version": 3
   },
   "file_extension": ".py",
   "mimetype": "text/x-python",
   "name": "python",
   "nbconvert_exporter": "python",
   "pygments_lexer": "ipython3",
   "version": "3.8.12"
  },
  "orig_nbformat": 4
 },
 "nbformat": 4,
 "nbformat_minor": 2
}
