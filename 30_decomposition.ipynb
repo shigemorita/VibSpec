{
 "cells": [
  {
   "cell_type": "code",
   "execution_count": null,
   "metadata": {},
   "outputs": [],
   "source": [
    "import numpy\n",
    "import pandas\n",
    "from matplotlib import pyplot\n",
    "filename = \"dataframe.csv\"\n",
    "data = pandas.read_csv(filename, header=0, index_col=0).T\n",
    "data.index = pandas.read_csv(filename, header=None, index_col=0).iloc[0].values\n",
    "xmax, xmin = 1900, 1000\n",
    "data = data.iloc[:, (xmin <= data.columns) & (data.columns <= xmax)]\n",
    "data.T.plot()\n",
    "pyplot.gca().invert_xaxis()\n",
    "pyplot.gca().legend_ = None\n",
    "pyplot.show()"
   ]
  },
  {
   "cell_type": "code",
   "execution_count": null,
   "metadata": {},
   "outputs": [],
   "source": [
    "# SVD\n",
    "from sklearn.decomposition import TruncatedSVD\n",
    "model = TruncatedSVD().fit(data)\n",
    "loading = pandas.DataFrame(model.components_, columns=data.columns)\n",
    "loading.T.plot()\n",
    "pyplot.gca().invert_xaxis()\n",
    "score = pandas.DataFrame(model.transform(data), index=data.index)\n",
    "score.plot()\n",
    "pyplot.show()"
   ]
  },
  {
   "cell_type": "code",
   "execution_count": null,
   "metadata": {},
   "outputs": [],
   "source": [
    "# PCA\n",
    "from sklearn.decomposition import PCA\n",
    "model = PCA().fit(data)\n",
    "loading = pandas.DataFrame(model.components_, columns=data.columns)\n",
    "loading.T.plot()\n",
    "pyplot.gca().invert_xaxis()\n",
    "score = pandas.DataFrame(model.transform(data), index=data.index)\n",
    "score.plot()\n",
    "pyplot.show()"
   ]
  },
  {
   "cell_type": "code",
   "execution_count": null,
   "metadata": {},
   "outputs": [],
   "source": [
    "# FA\n",
    "from sklearn.decomposition import FactorAnalysis\n",
    "model = FactorAnalysis().fit(data)\n",
    "loading = pandas.DataFrame(model.components_, columns=data.columns)\n",
    "loading.T.plot()\n",
    "pyplot.gca().invert_xaxis()\n",
    "score = pandas.DataFrame(model.transform(data), index=data.index)\n",
    "score.plot()\n",
    "pyplot.show()"
   ]
  },
  {
   "cell_type": "code",
   "execution_count": null,
   "metadata": {},
   "outputs": [],
   "source": [
    "# ICA\n",
    "from sklearn.decomposition import FastICA\n",
    "model = FastICA().fit(data)\n",
    "loading = pandas.DataFrame(model.components_, columns=data.columns)\n",
    "loading.T.plot()\n",
    "pyplot.gca().invert_xaxis()\n",
    "score = pandas.DataFrame(model.transform(data), index=data.index)\n",
    "score.plot()\n",
    "pyplot.show()"
   ]
  },
  {
   "cell_type": "code",
   "execution_count": null,
   "metadata": {},
   "outputs": [],
   "source": [
    "# NMF\n",
    "from sklearn.decomposition import NMF\n",
    "buff = data\n",
    "buff.mask(buff < 0, 0, inplace=True)\n",
    "buff.T.plot()\n",
    "pyplot.gca().invert_xaxis()\n",
    "pyplot.gca().legend_ = None\n",
    "pyplot.show()\n",
    "model = NMF(n_components=2).fit(buff)\n",
    "loading = pandas.DataFrame(model.components_, columns=data.columns)\n",
    "loading.T.plot()\n",
    "pyplot.gca().invert_xaxis()\n",
    "score = pandas.DataFrame(model.transform(data), index=data.index)\n",
    "score.plot()\n",
    "pyplot.show()"
   ]
  },
  {
   "cell_type": "code",
   "execution_count": null,
   "metadata": {},
   "outputs": [],
   "source": [
    "# t-SNE\n",
    "from sklearn.manifold import TSNE\n",
    "model = TSNE(n_components=2, perplexity=2).fit_transform(data)\n",
    "score = pandas.DataFrame(model, index=data.index)\n",
    "score.plot()\n",
    "pyplot.show()"
   ]
  },
  {
   "cell_type": "code",
   "execution_count": null,
   "metadata": {},
   "outputs": [],
   "source": [
    "# スコア-スコア プロット / score-score plot\n",
    "h, v = 0, 1\n",
    "pyplot.scatter(score.iloc[:, h], score.iloc[:, v])\n",
    "for i in range(len(data)): pyplot.text(score.iloc[i, h], score.iloc[i, v], str(data.index[i]))\n",
    "pyplot.show()"
   ]
  },
  {
   "cell_type": "code",
   "execution_count": null,
   "metadata": {},
   "outputs": [],
   "source": [
    "# 逆変換 / inverse transformation\n",
    "cutoff = 3\n",
    "buff = score.copy()\n",
    "buff.iloc[:, cutoff:] = 0\n",
    "buff = pandas.DataFrame(model.inverse_transform(buff.values), index=data.index, columns=data.columns)\n",
    "buff.T.plot()\n",
    "pyplot.gca().invert_xaxis()\n",
    "pyplot.gca().legend_ = None\n",
    "pyplot.show()"
   ]
  },
  {
   "cell_type": "code",
   "execution_count": null,
   "metadata": {},
   "outputs": [],
   "source": [
    "# 符号の反転 / sign inversion\n",
    "j = 0\n",
    "loading.iloc[j] = -1 * loading.iloc[j]\n",
    "score.iloc[:, j] = -1 * score.iloc[:, j]\n",
    "loading.iloc[j].plot()\n",
    "pyplot.gca().invert_xaxis()\n",
    "pyplot.show()\n",
    "score.iloc[:, j].plot()\n",
    "pyplot.show()"
   ]
  },
  {
   "cell_type": "code",
   "execution_count": null,
   "metadata": {},
   "outputs": [],
   "source": [
    "# 保存 / save\n",
    "#loading.T.to_csv(filename[:-4] + \"_loading.csv\")\n",
    "#score.to_csv(filename[:-4] + \"_score.csv\")"
   ]
  }
 ],
 "metadata": {
  "kernelspec": {
   "display_name": "base",
   "language": "python",
   "name": "python3"
  },
  "language_info": {
   "codemirror_mode": {
    "name": "ipython",
    "version": 3
   },
   "file_extension": ".py",
   "mimetype": "text/x-python",
   "name": "python",
   "nbconvert_exporter": "python",
   "pygments_lexer": "ipython3",
   "version": "3.12.3"
  }
 },
 "nbformat": 4,
 "nbformat_minor": 4
}
