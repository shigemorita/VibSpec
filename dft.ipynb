{
 "cells": [
  {
   "cell_type": "code",
   "execution_count": null,
   "metadata": {},
   "outputs": [],
   "source": [
    "import re\n",
    "import numpy\n",
    "import pandas\n",
    "from matplotlib import pyplot"
   ]
  },
  {
   "cell_type": "code",
   "execution_count": null,
   "metadata": {},
   "outputs": [],
   "source": [
    "filename = \"dft.out\"\n",
    "f = open(filename, \"r\")\n",
    "data = f.readlines()\n",
    "f.close()"
   ]
  },
  {
   "cell_type": "code",
   "execution_count": null,
   "metadata": {},
   "outputs": [],
   "source": [
    "# check method\n",
    "start = data.index(\" Gaussian 09:  EM64W-G09RevD.01 13-Apr-2013\\n\") + 3\n",
    "stop = data.index(\" ----------------------------------\\n\") + 3\n",
    "print(\"\".join(data[start:stop]), data[-3])"
   ]
  },
  {
   "cell_type": "code",
   "execution_count": null,
   "metadata": {},
   "outputs": [],
   "source": [
    "# energies\n",
    "buff = [s for s in data if \"SCF Done:  E(RB3LYP) =\" in s]\n",
    "buff = \"\".join(buff)\n",
    "buff = re.findall(\"-\" + r\"\\d+\" + \".\" + r\"\\d+\", buff)\n",
    "buff = numpy.array(buff, dtype=\"float\")\n",
    "pyplot.plot(buff)\n",
    "pyplot.show()\n",
    "print(\"SCF Done:  E(RB3LYP) =\")\n",
    "print(buff[-1], \"Hartree\")\n",
    "print(buff[-1] * 2625.5, \"kJ mol^-1\")\n",
    "print(\"\")\n",
    "buff = [s for s in data if \"Sum of electronic and zero-point Energies=\" in s]\n",
    "buff = \"\".join(buff)\n",
    "buff = re.findall(\"-\" + r\"\\d+\" + \".\" + r\"\\d+\", buff)\n",
    "buff = numpy.array(buff, dtype=\"float\")[0]\n",
    "print(\"Sum of electronic and zero-point Energies =\")\n",
    "print(buff, \"Hartree\")\n",
    "print(buff * 2625.5, \"kJ mol^-1\")"
   ]
  },
  {
   "cell_type": "code",
   "execution_count": null,
   "metadata": {},
   "outputs": [],
   "source": [
    "# optimized structure\n",
    "start = data.index(\"    -- Stationary point found.\\n\")\n",
    "buff = data[start:]\n",
    "stop = buff.index(\"                    Distance matrix (angstroms):\\n\")\n",
    "buff = buff[:stop]\n",
    "start = (buff.index(\"                          Input orientation:                          \\n\") + 5)\n",
    "buff = buff[start:]\n",
    "stop = buff.index(\" ---------------------------------------------------------------------\\n\")\n",
    "buff = buff[:stop]\n",
    "for i in range(len(buff)): buff[i] = buff[i][10:-1] + \"\\n\"\n",
    "buff = \"\".join(buff)\n",
    "print(buff)"
   ]
  },
  {
   "cell_type": "code",
   "execution_count": null,
   "metadata": {},
   "outputs": [],
   "source": [
    "# IR spectrum\n",
    "buff = [s for s in data if \"Frequencies\" in s]\n",
    "buff = \"\".join(buff)\n",
    "x = re.findall(r'([+-]?[0-9]+\\.?[0-9]*)', buff)\n",
    "x = numpy.round(numpy.array(x, dtype=\"float\") * 0.9613, 2)\n",
    "\n",
    "buff = [s for s in data if \"IR Inten\" in s]\n",
    "buff = \"\".join(buff)\n",
    "y = re.findall(r\"\\d+\" + \".\" + r\"\\d+\", buff)\n",
    "y = numpy.round(numpy.array(y, dtype=\"float\"), 2)\n",
    "\n",
    "pyplot.xlim(4000, 0)\n",
    "pyplot.bar(x, y, width=30)\n",
    "pyplot.show()\n",
    "spec = pandas.Series(y, index=x)\n",
    "# spec.to_csv(\"spec.csv\")\n",
    "print(spec)"
   ]
  },
  {
   "cell_type": "code",
   "execution_count": null,
   "metadata": {},
   "outputs": [],
   "source": [
    "def g(px, py):\n",
    "    w = 15\n",
    "    gauss = py * numpy.exp(-4 * numpy.log(2) * (px - x) ** 2 / w ** 2)\n",
    "    return gauss"
   ]
  },
  {
   "cell_type": "code",
   "execution_count": null,
   "metadata": {},
   "outputs": [],
   "source": [
    "x = numpy.arange(0, 4001, 1)\n",
    "y = x * 0\n",
    "for i in range(len(spec)): y = y + g(spec.index[i], spec.values[i])\n",
    "pyplot.xlim(4000, 0)\n",
    "pyplot.plot(x, y)\n",
    "pyplot.show()"
   ]
  }
 ],
 "metadata": {
  "kernelspec": {
   "display_name": "Python 3",
   "language": "python",
   "name": "python3"
  },
  "language_info": {
   "codemirror_mode": {
    "name": "ipython",
    "version": 3
   },
   "file_extension": ".py",
   "mimetype": "text/x-python",
   "name": "python",
   "nbconvert_exporter": "python",
   "pygments_lexer": "ipython3",
   "version": "3.9.11"
  }
 },
 "nbformat": 4,
 "nbformat_minor": 2
}
