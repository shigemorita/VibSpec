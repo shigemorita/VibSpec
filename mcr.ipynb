{
 "cells": [
  {
   "cell_type": "code",
   "execution_count": null,
   "metadata": {},
   "outputs": [],
   "source": [
    "import numpy\n",
    "import pandas\n",
    "from matplotlib import pyplot\n",
    "# ファイルの読み込み\n",
    "filename = \"pmea.csv\"\n",
    "data = pandas.read_csv(filename, header=0, index_col=0).T\n",
    "#data.T.plot(legend=None, xlim=[data.columns.max(), data.columns.min()])\n",
    "# 波数範囲選択\n",
    "flag = True\n",
    "xmax, xmin = 3700, 3000\n",
    "buff = data.iloc[:, (xmin <= data.columns) & (data.columns <= xmax)]\n",
    "#buff.T.plot(legend=None, xlim=[buff.columns.max(), buff.columns.min()])\n",
    "#pyplot.figure()\n",
    "#pandas.Series(buff.T.sum(), index=buff.index).plot()\n",
    "#pyplot.figure()\n",
    "if flag: data = buff\n",
    "# 平滑化\n",
    "flag = True\n",
    "window = 7\n",
    "x = data.columns\n",
    "#print(\"window size =\", x[window - 1] - x[0])\n",
    "y = data.values[-1]\n",
    "from scipy.signal import savgol_filter\n",
    "s = savgol_filter(y, window, 2, 0)\n",
    "#pyplot.axes().set_xlim([data.columns.max(), data.columns.min()])\n",
    "#pyplot.scatter(x, y, s=3, c=\"blue\")\n",
    "#pyplot.plot(x, s, c=\"red\")\n",
    "#pyplot.show()\n",
    "#pyplot.axes().set_xlim([data.columns.max(), data.columns.min()])\n",
    "#pyplot.scatter(x, y-s, s=3, c=\"blue\")\n",
    "#pyplot.show()\n",
    "if flag:\n",
    "    data = pandas.DataFrame(savgol_filter(data.values, window, 2, 0), index=data.index, columns=data.columns)\n",
    "    #data.T.plot(legend=None, xlim=[data.columns.max(), data.columns.min()])\n",
    "# data < 0 を data = 0 に置換\n",
    "flag = True\n",
    "buff = data\n",
    "buff.mask(buff < 0, 0, inplace=True)\n",
    "buff.T.plot(legend=None, xlim=[buff.columns.max(), buff.columns.min()])\n",
    "if flag: data = buff\n",
    "# 二乗して平方根\n",
    "flag = False\n",
    "buff = data\n",
    "buff = (buff**2)**0.5\n",
    "#buff.T.plot(legend=None, xlim=[buff.columns.max(), buff.columns.min()])\n",
    "if flag: data = buff"
   ]
  },
  {
   "cell_type": "code",
   "execution_count": null,
   "metadata": {},
   "outputs": [],
   "source": [
    "# ICA\n",
    "i = 3\n",
    "from sklearn.decomposition import FastICA\n",
    "model = FastICA(n_components=i).fit(data.values)\n",
    "loading = pandas.DataFrame(model.components_, columns=data.columns)\n",
    "loading[:i].T.plot()\n",
    "score = pandas.DataFrame(model.transform(data.values), index=data.index)\n",
    "score.iloc[:,:i].plot()"
   ]
  },
  {
   "cell_type": "code",
   "execution_count": null,
   "metadata": {},
   "outputs": [],
   "source": [
    "# 次元削減による初期値の準備\n",
    "n = 3  # 成分数\n",
    "i = 4  # 1:SVD, 2:PCA, 3: ICA, 4:NMF\n",
    "from sklearn import decomposition\n",
    "if i == 1: model = decomposition.TruncatedSVD(n_components=n).fit(data.values)\n",
    "if i == 2: model = decomposition.PCA(n_components=n).fit(data.values)\n",
    "if i == 3: model = decomposition.FastICA(n_components=n).fit(data.values)\n",
    "if i == 4: model = decomposition.NMF(n_components=n, init='random',max_iter=1000).fit(data.values)\n",
    "loading = pandas.DataFrame(model.components_, columns=data.columns)\n",
    "loading.T.plot(xlim=[data.columns.max(), data.columns.min()])\n",
    "score = pandas.DataFrame(model.fit_transform(data.values), index=data.index)\n",
    "score.plot()\n",
    "init_spec = loading\n",
    "init_conc = score"
   ]
  },
  {
   "cell_type": "code",
   "execution_count": null,
   "metadata": {},
   "outputs": [],
   "source": [
    "# 差スペクトルによる初期値の準備\n",
    "y1 = data.values[7] - data.values[6]\n",
    "y2 = data.values[12] - data.values[9]\n",
    "y3 = data.values[-1] - data.values[-100]\n",
    "init_spec = pandas.DataFrame([y1, y2, y3], columns=data.columns)\n",
    "init_spec=(init_spec.T/init_spec.T.sum()).T\n",
    "init_spec.T.plot(xlim=[data.columns.max(), data.columns.min()])\n",
    "#init_spec.T.to_csv(filename[:len(filename)-4]+'_init_spec.csv')"
   ]
  },
  {
   "cell_type": "code",
   "execution_count": null,
   "metadata": {},
   "outputs": [],
   "source": [
    "# 初期スペクトルの読み込み\n",
    "filename = \"pmea_init_spec.csv\"\n",
    "init_spec = pandas.read_csv(filename, header=0, index_col=0).T\n",
    "init_spec.T.plot(xlim=[data.columns.max(), data.columns.min()])"
   ]
  },
  {
   "cell_type": "code",
   "execution_count": null,
   "metadata": {},
   "outputs": [],
   "source": [
    "# MCR\n",
    "from pymcr.mcr import McrAR\n",
    "i = 2  # 1:OLS, 2:NNLS, 3:mix\n",
    "if i == 1: mcr = McrAR(c_regr=\"OLS\", st_regr=\"OLS\")\n",
    "if i == 2: mcr = McrAR(c_regr=\"NNLS\", st_regr=\"NNLS\")\n",
    "if i == 3: mcr = McrAR(c_regr=\"OLS\", st_regr=\"NNLS\")\n",
    "\n",
    "i = 1  # 1:spec, 2:conc, 3:random\n",
    "if i == 1: mcr.fit(data.values, ST=init_spec)\n",
    "if i == 2: mcr.fit(data.values, C=init_conc)\n",
    "if i == 3: mcr.fit(data.values, C=numpy.random.rand(len(data.index), n))\n",
    "\n",
    "ST_opt = pandas.DataFrame(mcr.ST_opt_.T, index=data.columns.T)\n",
    "ST_opt.plot(xlim=[data.columns.max(), data.columns.min()])\n",
    "\n",
    "C_opt = pandas.DataFrame(mcr.C_opt_, index=data.index)\n",
    "C_opt.plot()"
   ]
  },
  {
   "cell_type": "code",
   "execution_count": null,
   "metadata": {},
   "outputs": [],
   "source": [
    "# 結果の保存\n",
    "flag = False\n",
    "if flag:\n",
    "    ST_opt.to_csv(filename[: len(filename) - 4] + \"_opt_spec.csv\")\n",
    "    C_opt.to_csv(filename[: len(filename) - 4] + \"_opt_conc.csv\")\n",
    "    data.T.to_csv(filename[: len(filename) - 4] + \"_spec.csv\")"
   ]
  }
 ],
 "metadata": {
  "kernelspec": {
   "display_name": "Python 3 (ipykernel)",
   "language": "python",
   "name": "python3"
  },
  "language_info": {
   "codemirror_mode": {
    "name": "ipython",
    "version": 3
   },
   "file_extension": ".py",
   "mimetype": "text/x-python",
   "name": "python",
   "nbconvert_exporter": "python",
   "pygments_lexer": "ipython3",
   "version": "3.8.12"
  }
 },
 "nbformat": 4,
 "nbformat_minor": 4
}
