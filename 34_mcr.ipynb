{
 "cells": [
  {
   "cell_type": "markdown",
   "metadata": {},
   "source": [
    "conda install conda-forge::pymcr"
   ]
  },
  {
   "cell_type": "code",
   "execution_count": null,
   "metadata": {},
   "outputs": [],
   "source": [
    "import numpy\n",
    "import pandas\n",
    "from matplotlib import pyplot\n",
    "from scipy.signal import savgol_filter\n",
    "filename = \"dataframe.csv\"\n",
    "data = pandas.read_csv(filename, header=0, index_col=0).T\n",
    "data.index = pandas.read_csv(filename, header=None, index_col=0).iloc[0].values\n",
    "xmax, xmin = 3700, 3000\n",
    "data = data.iloc[:, (xmin <= data.columns) & (data.columns <= xmax)]\n",
    "data = pandas.DataFrame(savgol_filter(data.values, 7, 2, 0), index=data.index, columns=data.columns)\n",
    "data.mask(data < 0, 0, inplace=True)\n",
    "data.T.plot()\n",
    "pyplot.gca().invert_xaxis()\n",
    "pyplot.gca().legend_ = None\n",
    "pyplot.show()"
   ]
  },
  {
   "cell_type": "code",
   "execution_count": null,
   "metadata": {},
   "outputs": [],
   "source": [
    "# initial guess (dimensionality reduction)\n",
    "n = 3  # components\n",
    "i = 3  # 1:SVD, 2:PCA, 3:NMF\n",
    "from sklearn import decomposition\n",
    "if i == 1: model = decomposition.TruncatedSVD(n_components=n).fit(data)\n",
    "if i == 2: model = decomposition.PCA(n_components=n).fit(data)\n",
    "if i == 3: model = decomposition.NMF(n_components=n, init='random', max_iter=200).fit(data)\n",
    "init_spec = pandas.DataFrame(model.components_, columns=data.columns)\n",
    "init_spec.T.plot()\n",
    "pyplot.gca().invert_xaxis()\n",
    "init_conc = pandas.DataFrame(model.fit_transform(data), index=data.index)\n",
    "init_conc.plot()\n",
    "pyplot.show()"
   ]
  },
  {
   "cell_type": "code",
   "execution_count": null,
   "metadata": {},
   "outputs": [],
   "source": [
    "# initial guess (subtraction spectra)\n",
    "y1 = data.values[1] - data.values[0]\n",
    "y2 = data.values[2] - data.values[1]\n",
    "y3 = data.values[-1] - data.values[-2]\n",
    "init_spec = pandas.DataFrame([y1, y2, y3], columns=data.columns)\n",
    "init_spec=(init_spec.T/init_spec.T.sum()).T\n",
    "init_spec.T.plot()\n",
    "pyplot.gca().invert_xaxis()\n",
    "#init_spec.T.to_csv(filename[:len(filename)-4]+'_init_spec.csv')\n",
    "pyplot.show()"
   ]
  },
  {
   "cell_type": "code",
   "execution_count": null,
   "metadata": {},
   "outputs": [],
   "source": [
    "# initial guess (file load)\n",
    "filename = \"dataframe_init_spec.csv\"\n",
    "init_spec = pandas.read_csv(filename, header=0, index_col=0).T\n",
    "init_spec.T.plot()\n",
    "pyplot.gca().invert_xaxis()\n",
    "pyplot.show()"
   ]
  },
  {
   "cell_type": "code",
   "execution_count": null,
   "metadata": {},
   "outputs": [],
   "source": [
    "# MCR\n",
    "from pymcr.mcr import McrAR\n",
    "i = 2  # 1:OLS, 2:NNLS, 3:mix\n",
    "if i == 1: mcr = McrAR(c_regr=\"OLS\", st_regr=\"OLS\")\n",
    "if i == 2: mcr = McrAR(c_regr=\"NNLS\", st_regr=\"NNLS\")\n",
    "if i == 3: mcr = McrAR(c_regr=\"OLS\", st_regr=\"NNLS\")\n",
    "i = 1  # 1:spec, 2:conc, 3:random\n",
    "if i == 1: mcr.fit(data.values, ST=init_spec)\n",
    "if i == 2: mcr.fit(data.values, C=init_conc)\n",
    "if i == 3: mcr.fit(data.values, C=numpy.random.rand(len(data.index), n))\n",
    "ST_opt = pandas.DataFrame(mcr.ST_opt_.T, index=data.columns.T)\n",
    "ST_opt.plot()\n",
    "pyplot.gca().invert_xaxis()\n",
    "C_opt = pandas.DataFrame(mcr.C_opt_, index=data.index)\n",
    "C_opt.plot()\n",
    "pyplot.show()"
   ]
  },
  {
   "cell_type": "code",
   "execution_count": null,
   "metadata": {},
   "outputs": [],
   "source": [
    "# save\n",
    "#ST_opt.to_csv(filename[:-4] + \"_opt_spec.csv\")\n",
    "#C_opt.to_csv(filename[:-4] + \"_opt_conc.csv\")\n",
    "#data.T.to_csv(filename[:-4] + \"_spec.csv\")"
   ]
  }
 ],
 "metadata": {
  "kernelspec": {
   "display_name": "base",
   "language": "python",
   "name": "python3"
  },
  "language_info": {
   "codemirror_mode": {
    "name": "ipython",
    "version": 3
   },
   "file_extension": ".py",
   "mimetype": "text/x-python",
   "name": "python",
   "nbconvert_exporter": "python",
   "pygments_lexer": "ipython3",
   "version": "3.12.3"
  }
 },
 "nbformat": 4,
 "nbformat_minor": 4
}
