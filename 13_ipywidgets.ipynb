{
 "cells": [
  {
   "cell_type": "code",
   "execution_count": null,
   "metadata": {},
   "outputs": [],
   "source": [
    "import pandas\n",
    "import numpy\n",
    "from matplotlib import pyplot\n",
    "filename = \"dataframe.csv\"\n",
    "data = pandas.read_csv(filename, header=0, index_col=0).T\n",
    "data.index = data.index.astype(float)\n",
    "xmax, xmin = 2000, 1000\n",
    "data = data.iloc[:, (xmin <= data.columns) & (data.columns <= xmax)]\n",
    "data.T.plot()\n",
    "pyplot.gca().invert_xaxis()\n",
    "pyplot.gca().legend_ = None\n",
    "pyplot.show()"
   ]
  },
  {
   "cell_type": "code",
   "execution_count": null,
   "metadata": {},
   "outputs": [],
   "source": [
    "# スペクトル表示\n",
    "from ipywidgets import Play, IntSlider, jslink, HBox, interactive_output\n",
    "x = data.columns\n",
    "xmin, xmax = x.min(), x.max()\n",
    "ymin, ymax = data.min().min(), data.max().max()\n",
    "def f(i):\n",
    "  y = data.iloc[i]\n",
    "  pyplot.xlim(xmax, xmin)\n",
    "  pyplot.ylim(ymin, ymax)\n",
    "  pyplot.plot(x, y)\n",
    "  pyplot.show()\n",
    "play = Play(min=0, max=len(data) - 1, step=1, interval=100)\n",
    "slider = IntSlider(min=0, max=len(data) - 1, step=1)\n",
    "jslink((play, \"value\"), (slider, \"value\"))\n",
    "display(HBox([play, slider]), interactive_output(f, {\"i\": slider}))"
   ]
  },
  {
   "cell_type": "code",
   "execution_count": null,
   "metadata": {},
   "outputs": [],
   "source": [
    "# 信号強度変化\n",
    "from ipywidgets import IntSlider, interactive_output\n",
    "x = data.columns\n",
    "s = data.index\n",
    "y = data.values.T\n",
    "xmin, xmax = x.min(), x.max()\n",
    "smin, smax = s.min(), s.max()\n",
    "ymin, ymax = y.min(), y.max()\n",
    "def f(i):\n",
    "\tj = len(data.T) - 1 - i\n",
    "\tprint(\"i =\", j, \" pos =\", x[j])\n",
    "\tpyplot.xlim(xmax, xmin)\n",
    "\tpyplot.ylim(ymin, ymax)\n",
    "\tpyplot.plot(x, y)\n",
    "\tpyplot.plot([x[j], x[j]], [ymin, ymax])\n",
    "\tpyplot.show()\n",
    "\tpyplot.xlim(smin, smax)\n",
    "\tpyplot.ylim(ymin, ymax)\n",
    "\tpyplot.plot(s, data.iloc[:,j].values)\n",
    "\tpyplot.show()\n",
    "slider = IntSlider(min=0, max=len(data.T)-1, step=1)\n",
    "display(slider, interactive_output(f, {\"i\": slider}))"
   ]
  },
  {
   "cell_type": "code",
   "execution_count": null,
   "metadata": {},
   "outputs": [],
   "source": [
    "# 信号強度変化の保存\n",
    "j = len(data.T) - 1 - slider.get_interact_value()\n",
    "print(\"i =\", j, \" pos =\", x[j])\n",
    "buff = pandas.Series(data.iloc[:,j].values, index=data.index)\n",
    "buff.plot()\n",
    "pyplot.show()\n",
    "#buff.to_csv(str(x[j])+\".csv\", header=False)"
   ]
  },
  {
   "cell_type": "code",
   "execution_count": null,
   "metadata": {},
   "outputs": [],
   "source": [
    "# 面積強度の保存\n",
    "left, right = 36, 27\n",
    "print(data.columns[left+1], \"-\", data.columns[right])\n",
    "buff = data.iloc[:,right:left+1].T.sum()\n",
    "buff.plot()\n",
    "pyplot.show()\n",
    "#buff.to_csv(str(x[left])+\"_\"+str(x[right])+\".csv\", header=False)"
   ]
  },
  {
   "cell_type": "code",
   "execution_count": null,
   "metadata": {},
   "outputs": [],
   "source": [
    "# 平滑化\n",
    "from ipywidgets import IntSlider, interactive_output\n",
    "from scipy.signal import savgol_filter\n",
    "x = data.columns\n",
    "y = data.values[-1]\n",
    "xmin, xmax = x.min(), x.max()\n",
    "ymin, ymax = y.min(), y.max()\n",
    "def f(i):\n",
    "  buff = savgol_filter(y, i, 2, 0)\n",
    "  pyplot.xlim(xmax, xmin)\n",
    "  pyplot.ylim(ymin, ymax)\n",
    "  pyplot.scatter(x, y, s=5, c=\"blue\")\n",
    "  pyplot.plot(x, buff, c=\"red\")\n",
    "  pyplot.show()\n",
    "  pyplot.xlim(xmax, xmin)\n",
    "  pyplot.ylim((ymin - ymax) / 10, (ymax - ymin) / 10)\n",
    "  pyplot.scatter(x, y - buff, s=5, c=\"green\")\n",
    "  pyplot.show()\n",
    "secder = False\n",
    "slider = IntSlider(min=3, max=201, step=2)\n",
    "display(slider, interactive_output(f, {\"i\": slider}))"
   ]
  },
  {
   "cell_type": "code",
   "execution_count": null,
   "metadata": {},
   "outputs": [],
   "source": [
    "# 二次微分\n",
    "from ipywidgets import IntSlider, interactive_output\n",
    "from scipy.signal import savgol_filter\n",
    "x = data.columns\n",
    "y = data.values[-1]\n",
    "buff = savgol_filter(y, 3, 2, 2)\n",
    "xmin, xmax = x.min(), x.max()\n",
    "ymin, ymax = y.min(), y.max()\n",
    "bmin, bmax = buff.min(), buff.max()\n",
    "def f(i):\n",
    "  buff = savgol_filter(y, i, 2, 0)\n",
    "  pyplot.xlim(xmax, xmin)\n",
    "  pyplot.ylim(ymin, ymax)\n",
    "  pyplot.scatter(x, y, s=5, c=\"blue\")\n",
    "  pyplot.plot(x, buff, c=\"red\")\n",
    "  pyplot.show()\n",
    "  buff = savgol_filter(buff, i, 2, 1)\n",
    "  buff = savgol_filter(buff, i, 2, 0)\n",
    "  buff = savgol_filter(buff, i, 2, 1)\n",
    "  pyplot.xlim(xmax, xmin)\n",
    "  pyplot.ylim(bmin, bmax)\n",
    "  pyplot.plot(x, buff, c=\"red\")\n",
    "  pyplot.show()\n",
    "secder = True\n",
    "slider = IntSlider(min=3, max=201, step=2)\n",
    "display(slider, interactive_output(f, {\"i\": slider}))"
   ]
  },
  {
   "cell_type": "code",
   "execution_count": null,
   "metadata": {},
   "outputs": [],
   "source": [
    "# 全てのスペクトルを平滑化 / 二次微分\n",
    "window = slider.get_interact_value()\n",
    "print(\"window size =\", x[window - 1] - x[0])\n",
    "buff = data\n",
    "buff = savgol_filter(buff, window, 2, 0)\n",
    "if secder:\n",
    "  buff = savgol_filter(buff, window, 2, 1)\n",
    "  buff = savgol_filter(buff, window, 2, 0)\n",
    "  buff = savgol_filter(buff, window, 2, 1)\n",
    "buff = pandas.DataFrame(buff, index=data.index, columns=data.columns)\n",
    "buff.T.plot(legend=None, xlim=[buff.columns.max(), buff.columns.min()])\n",
    "pyplot.show()\n",
    "#data = buff"
   ]
  }
 ],
 "metadata": {
  "kernelspec": {
   "display_name": "base",
   "language": "python",
   "name": "python3"
  },
  "language_info": {
   "codemirror_mode": {
    "name": "ipython",
    "version": 3
   },
   "file_extension": ".py",
   "mimetype": "text/x-python",
   "name": "python",
   "nbconvert_exporter": "python",
   "pygments_lexer": "ipython3",
   "version": "3.12.3"
  },
  "orig_nbformat": 4
 },
 "nbformat": 4,
 "nbformat_minor": 2
}
