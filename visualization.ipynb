{
 "cells": [
  {
   "cell_type": "code",
   "execution_count": null,
   "metadata": {},
   "outputs": [],
   "source": [
    "import numpy\n",
    "import pandas\n",
    "from matplotlib import pyplot\n",
    "filename = \"dataframe.csv\"\n",
    "data = pandas.read_csv(filename, header=0, index_col=0).T\n",
    "data.index = pandas.read_csv(filename, header=None, index_col=0).iloc[0].values\n",
    "xmax, xmin = 3700, 3000\n",
    "data = data.iloc[:, (xmin <= data.columns) & (data.columns <= xmax)]\n",
    "data.T.plot(legend=None, xlim=[data.columns.max(), data.columns.min()])"
   ]
  },
  {
   "cell_type": "code",
   "execution_count": null,
   "metadata": {},
   "outputs": [],
   "source": [
    "# moments\n",
    "zeroth = data.sum(axis=1)\n",
    "zeroth.plot()\n",
    "pyplot.show()\n",
    "first = (data.columns * data).sum(axis=1) / zeroth\n",
    "first.plot()\n",
    "pyplot.show()\n",
    "second = (((numpy.array([data.columns]).T - first.values) ** 2).T * data).sum(axis=1) / zeroth\n",
    "width = second ** 0.5\n",
    "width.plot()\n",
    "pyplot.show()"
   ]
  },
  {
   "cell_type": "code",
   "execution_count": null,
   "metadata": {},
   "outputs": [],
   "source": [
    "# find peaks\n",
    "from scipy import signal\n",
    "buff = data.iloc[0]\n",
    "peakindex = signal.find_peaks(buff.values, prominence=0.2)[0]\n",
    "#peakindex = signal.argrelmax(buff.values)[0]\n",
    "#peakindex = signal.argrelmin(buff.values)[0]\n",
    "#peakindex = signal.argrelextrema(buff.values, numpy.greater)[0]\n",
    "#peakindex = signal.argrelextrema(buff.values, numpy.less)[0]\n",
    "peak = buff.iloc[peakindex]\n",
    "pyplot.plot(buff)\n",
    "pyplot.scatter(peak.index, peak.values, color=\"red\")\n",
    "pyplot.xlim(data.columns.max(), data.columns.min())\n",
    "peak"
   ]
  },
  {
   "cell_type": "code",
   "execution_count": null,
   "metadata": {},
   "outputs": [],
   "source": [
    "# find max\n",
    "peak = pandas.DataFrame([data.idxmax(axis=1), data.max(axis=1)], columns=data.index).T  # 最大値\n",
    "pyplot.plot(data.T,color=\"blue\", linewidth=0.5)\n",
    "pyplot.scatter(peak.iloc[:, 0], peak.iloc[:, 1], color=\"red\")\n",
    "pyplot.xlim(data.columns.max(), data.columns.min())\n",
    "pyplot.show()\n",
    "peak"
   ]
  },
  {
   "cell_type": "code",
   "execution_count": null,
   "metadata": {},
   "outputs": [],
   "source": [
    "# find min\n",
    "peak = pandas.DataFrame([data.idxmin(axis=1), data.min(axis=1)], columns=data.index).T  # 最小値\n",
    "pyplot.plot(data.T,color=\"blue\", linewidth=0.5)\n",
    "pyplot.scatter(peak.iloc[:, 0], peak.iloc[:, 1], color=\"red\")\n",
    "pyplot.xlim(data.columns.max(), data.columns.min())\n",
    "peak"
   ]
  }
 ],
 "metadata": {
  "interpreter": {
   "hash": "398c91425ba9501ad3ceb4348a18eb4e653d71098c9fe91723be7ca895e75769"
  },
  "kernelspec": {
   "display_name": "Python 3.8.12 64-bit ('base': conda)",
   "name": "python3"
  },
  "language_info": {
   "codemirror_mode": {
    "name": "ipython",
    "version": 3
   },
   "file_extension": ".py",
   "mimetype": "text/x-python",
   "name": "python",
   "nbconvert_exporter": "python",
   "pygments_lexer": "ipython3",
   "version": "3.8.12"
  }
 },
 "nbformat": 4,
 "nbformat_minor": 4
}
