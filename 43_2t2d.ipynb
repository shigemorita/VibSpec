{
 "cells": [
  {
   "cell_type": "code",
   "execution_count": null,
   "metadata": {},
   "outputs": [],
   "source": [
    "import math\n",
    "import numpy\n",
    "import pandas\n",
    "from matplotlib import pyplot, ticker"
   ]
  },
  {
   "cell_type": "code",
   "execution_count": null,
   "metadata": {},
   "outputs": [],
   "source": [
    "left_large=False\n",
    "num_contour=16\n",
    "inputfile=\"2t2d.csv\"\n",
    "data=pandas.read_csv(inputfile,header=0,index_col=0).T\n",
    "data.T.plot()"
   ]
  },
  {
   "cell_type": "code",
   "execution_count": null,
   "metadata": {},
   "outputs": [],
   "source": [
    "pyplot.rcParams[\"figure.figsize\"] = (4, 4)\n",
    "pyplot.rcParams[\"font.size\"] = 16\n",
    "pyplot.rcParams[\"font.family\"] = \"Meiryo\"\n",
    "pyplot.rcParams[\"xtick.bottom\"] = True\n",
    "pyplot.rcParams[\"xtick.top\"] = True\n",
    "pyplot.rcParams[\"ytick.left\"] = True\n",
    "pyplot.rcParams[\"ytick.right\"] = True\n",
    "pyplot.rcParams[\"xtick.direction\"] = \"in\"\n",
    "pyplot.rcParams[\"ytick.direction\"] = \"in\"\n",
    "pyplot.rcParams[\"xtick.major.size\"] = 10\n",
    "pyplot.rcParams[\"ytick.major.size\"] = 10\n",
    "pyplot.rcParams[\"xtick.minor.size\"] = 5\n",
    "pyplot.rcParams[\"ytick.minor.size\"] = 5\n",
    "pyplot.rcParams[\"lines.linewidth\"] = 2\n",
    "pyplot.rcParams[\"axes.linewidth\"] = 2\n",
    "pyplot.rcParams[\"xtick.major.width\"] = 2\n",
    "pyplot.rcParams[\"ytick.major.width\"] = 2\n",
    "pyplot.rcParams[\"xtick.minor.width\"] = 2\n",
    "pyplot.rcParams[\"ytick.minor.width\"] = 2\n",
    "pyplot.rcParams[\"axes.labelpad\"] = 8\n",
    "pyplot.rcParams[\"xtick.major.pad\"] = 10\n",
    "pyplot.rcParams[\"ytick.major.pad\"] = 5\n",
    "pyplot.rcParams[\"axes.titlepad\"] = 10\n",
    "\n",
    "pyplot.rcParams[\"savefig.format\"] = \"png\"\n",
    "pyplot.rcParams[\"savefig.dpi\"] = 150\n",
    "pyplot.rcParams[\"savefig.transparent\"] = False\n",
    "pyplot.rcParams[\"savefig.facecolor\"] = \"white\"\n",
    "pyplot.rcParams[\"savefig.bbox\"] = \"tight\""
   ]
  },
  {
   "cell_type": "code",
   "execution_count": null,
   "metadata": {},
   "outputs": [],
   "source": [
    "sync=pandas.DataFrame(data.iloc[0].values[:,numpy.newaxis]*data.iloc[0].values+data.iloc[1].values[:,numpy.newaxis]*data.iloc[1].values,index=data.columns,columns=data.columns)\n",
    "sync=sync.T"
   ]
  },
  {
   "cell_type": "code",
   "execution_count": null,
   "metadata": {},
   "outputs": [],
   "source": [
    "asyn=pandas.DataFrame(data.iloc[0].values[:,numpy.newaxis]*data.iloc[1].values-data.iloc[1].values[:,numpy.newaxis]*data.iloc[0].values,index=data.columns,columns=data.columns)\n",
    "asyn=asyn.T"
   ]
  },
  {
   "cell_type": "code",
   "execution_count": null,
   "metadata": {},
   "outputs": [],
   "source": [
    "xmin, xmax = 1300, 1650\n",
    "tmin, tmax, tdiv, tminor = 1300, 1651, 50, 10"
   ]
  },
  {
   "cell_type": "code",
   "execution_count": null,
   "metadata": {},
   "outputs": [],
   "source": [
    "def contour(cont, title, fname):\n",
    "\tpyplot.rcParams[\"font.family\"] = \"Arial\"\n",
    "\tx = cont.columns\n",
    "\ty = cont.index\n",
    "\tz = cont.values\n",
    "\tzmax = numpy.absolute(z).max()\n",
    "#\tzmax = 0.5\n",
    "\tfig = pyplot.figure()\n",
    "\tax1 = fig.add_axes((0.35, 0, 1, 1))\n",
    "\tax1.set_axisbelow(False)\n",
    "\tpyplot.rcParams[\"lines.linewidth\"] = 1.5\n",
    "\tax1.contour(x, y, z, num_contour, cmap=\"bwr\", vmin=-zmax, vmax=zmax)\n",
    "\n",
    "\tax1.set_xlim(xmax, xmin)\n",
    "\tax1.set_xticks(numpy.arange(tmin, tmax, tdiv))\n",
    "\tax1.xaxis.set_minor_locator(ticker.MultipleLocator(tminor))\n",
    "\tax1.set_xlabel(r\"$\\nu$${_{1}}$ / cm${^{-1}}$\")\n",
    "\n",
    "\tax1.set_ylim(xmax, xmin)\n",
    "\tax1.set_yticks(numpy.arange(tmin, tmax, tdiv))\n",
    "\tax1.yaxis.set_minor_locator(ticker.MultipleLocator(tminor))\n",
    "\n",
    "\tax1.axes.yaxis.set_ticklabels([])\n",
    "\tax1 = ax1.twinx()\n",
    "\tax1.set_ylim(xmax, xmin)\n",
    "\tax1.set_yticks(numpy.arange(tmin, tmax, tdiv))\n",
    "\tax1.yaxis.set_minor_locator(ticker.MultipleLocator(tminor))\n",
    "\tax1.set_ylabel(r\"$\\nu$${_{2}}$ / cm${^{-1}}$\")\n",
    "\n",
    "\tax2 = fig.add_axes((0, 0, 0.35, 1))\n",
    "\tax2.set_axisbelow(False)\n",
    "\tpyplot.rcParams[\"lines.linewidth\"] = 0.5\n",
    "\tfor i in range(len(data)): ax2.plot(-data.iloc[i], data.columns, color=\"gray\")\n",
    "\tpyplot.rcParams[\"lines.linewidth\"] = 1.5\n",
    "\tax2.plot(-data.iloc[0], data.columns, color=\"red\")\n",
    "\tax2.plot(-data.iloc[-1], data.columns, color=\"blue\")\n",
    "\tax2.set_ylim(xmax, xmin)\n",
    "\tax2.set_yticks(numpy.arange(tmin, tmax, tdiv))\n",
    "\tax2.yaxis.set_minor_locator(ticker.MultipleLocator(tminor))\n",
    "\tax2.axes.yaxis.set_ticks([])\n",
    "\tax2.axes.xaxis.set_ticks([])\n",
    "  \n",
    "\tpyplot.rcParams[\"font.family\"] = \"Meiryo\"\n",
    "\tax3 = fig.add_axes((0.35, 1, 1, 0.35))\n",
    "\tax3.set_axisbelow(False)\n",
    "\tpyplot.rcParams[\"lines.linewidth\"] = 0.5\n",
    "\tfor i in range(len(data)): ax3.plot(data.columns, data.iloc[i], color=\"gray\")\n",
    "\tpyplot.rcParams[\"lines.linewidth\"] = 1.5\n",
    "\tax3.plot(data.columns, data.iloc[0], color=\"red\")\n",
    "\tax3.plot(data.columns, data.iloc[-1], color=\"blue\")\n",
    "\tax3.set_xlim(xmax, xmin)\n",
    "\tax3.set_xticks(numpy.arange(tmin, tmax, tdiv))\n",
    "\tax3.xaxis.set_minor_locator(ticker.MultipleLocator(tminor))\n",
    "\tax3.axes.xaxis.set_ticks([])\n",
    "\tax3.axes.yaxis.set_ticks([])\n",
    "\tax3.set_title(title, y=1.05)\n",
    "\n",
    "\tpyplot.savefig(fname)\n",
    "\tpyplot.show()"
   ]
  },
  {
   "cell_type": "code",
   "execution_count": null,
   "metadata": {},
   "outputs": [],
   "source": [
    "contour(sync, \"(a) 同時相関\", \"3142a.png\")"
   ]
  },
  {
   "cell_type": "code",
   "execution_count": null,
   "metadata": {},
   "outputs": [],
   "source": [
    "contour(asyn, \"(b) 異時相関\", \"3142b.png\")"
   ]
  }
 ],
 "metadata": {
  "kernelspec": {
   "display_name": "base",
   "language": "python",
   "name": "python3"
  },
  "language_info": {
   "codemirror_mode": {
    "name": "ipython",
    "version": 3
   },
   "file_extension": ".py",
   "mimetype": "text/x-python",
   "name": "python",
   "nbconvert_exporter": "python",
   "pygments_lexer": "ipython3",
   "version": "3.9.15"
  },
  "vscode": {
   "interpreter": {
    "hash": "aa931a12cd616f100a3dbf0df00067e1067e9b65b97740d9adc59c84adb05e7e"
   }
  }
 },
 "nbformat": 4,
 "nbformat_minor": 2
}
