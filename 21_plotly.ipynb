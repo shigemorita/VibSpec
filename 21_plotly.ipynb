{
 "cells": [
  {
   "cell_type": "code",
   "execution_count": null,
   "metadata": {},
   "outputs": [],
   "source": [
    "import pandas\n",
    "from plotly import graph_objects\n",
    "filename = \"dataframe.csv\"\n",
    "data = pandas.read_csv(filename, header=0, index_col=0).T\n",
    "data.index = pandas.read_csv(filename, header=None, index_col=0).iloc[0].values\n",
    "data.T.plot(legend=None, xlim=[data.columns.max(), data.columns.min()])"
   ]
  },
  {
   "cell_type": "markdown",
   "metadata": {},
   "source": [
    "https://plotly.com/python-api-reference/generated/plotly.graph_objects.Layout.html"
   ]
  },
  {
   "cell_type": "code",
   "execution_count": 13,
   "metadata": {},
   "outputs": [],
   "source": [
    "vibspec = dict(\n",
    "  layout=graph_objects.Layout(\n",
    "    xaxis=dict(\n",
    "      showline=True,\n",
    "      zeroline=False,\n",
    "      showgrid=False,\n",
    "      linewidth=1.5,\n",
    "      ticks=\"inside\",\n",
    "      ticklen=10,\n",
    "      tickwidth=1.5,\n",
    "      minor_ticks=\"inside\",\n",
    "      minor_ticklen=5,\n",
    "      mirror=\"allticks\",\n",
    "    ),\n",
    "    yaxis=dict(\n",
    "      showline=True,\n",
    "      zeroline=False,\n",
    "      showgrid=False,\n",
    "      linewidth=1.5,\n",
    "      ticks=\"inside\",\n",
    "      ticklen=10,\n",
    "      tickwidth=1.5,\n",
    "      minor_ticks=\"inside\",\n",
    "      minor_ticklen=5,\n",
    "      mirror=\"allticks\",\n",
    "    ),\n",
    "    legend=dict(\n",
    "      orientation=\"v\",\n",
    "      itemclick=\"toggleothers\",\n",
    "      itemdoubleclick=\"toggle\",\n",
    "      bgcolor=\"white\",\n",
    "      borderwidth=0,\n",
    "    ),\n",
    "    paper_bgcolor=\"white\",\n",
    "    plot_bgcolor=\"white\",\n",
    "    title=dict(xanchor=\"center\", yanchor=\"top\", xref=\"container\", yref=\"container\"),\n",
    "    font=dict(family=\"Meiryo\", color=\"black\", size=20),\n",
    "    hoverdistance=1,\n",
    "  )\n",
    ")"
   ]
  },
  {
   "cell_type": "code",
   "execution_count": null,
   "metadata": {},
   "outputs": [],
   "source": [
    "fig = graph_objects.Figure()\n",
    "fig.add_trace(graph_objects.Scatter(x=data.columns, y=data.iloc[0], name=\"140 ℃\", mode=\"lines\", line=dict(color=\"blue\")))  # プロット\n",
    "fig.add_trace(graph_objects.Scatter(x=data.columns, y=data.iloc[-1], name=\"280 ℃\", mode=\"lines\", line=dict(color=\"red\")))  # プロット\n",
    "fig.update_xaxes(range=(4000, 1000), tick0=1000, dtick=500, minor_dtick=100)  # 横軸範囲\n",
    "fig.update_yaxes(range=(0, 1.4), tick0=0, dtick=0.2, minor_dtick=0.05)  # 縦軸範囲\n",
    "fig.update_xaxes(title=\"Wavenumber / cm<sup>-1</sup>\")  # 横軸タイトル\n",
    "fig.update_yaxes(title=\"Absorbance\")  # 縦軸タイトル\n",
    "#fig.update_xaxes(rangeslider={\"visible\":True})  # 横軸スケーラー表示\n",
    "fig.update_layout(template=vibspec)\n",
    "fig.update_layout(width=800, height=500)  # グラフの大きさ\n",
    "fig.update_layout(showlegend=True)  # 凡例\n",
    "#fig.update_layout(title=\"PVA\")  # グラフタイトル\n",
    "fig.show()"
   ]
  },
  {
   "cell_type": "code",
   "execution_count": null,
   "metadata": {},
   "outputs": [],
   "source": [
    "fig = graph_objects.Figure()\n",
    "fig.add_trace(graph_objects.Scatter(x=data.index, y=data.iloc[:,1300], name=\"3400 cm<sup>-1</sup>\", mode=\"markers\", line=dict(color=\"blue\")))  # プロット\n",
    "fig.add_trace(graph_objects.Scatter(x=data.index, y=data.iloc[:,475], name=\"1750 cm<sup>-1</sup>\", mode=\"markers\", line=dict(color=\"red\")))  # プロット\n",
    "fig.update_xaxes(range=(140, 280), tick0=150, dtick=50, minor_dtick=10)  # 横軸範囲\n",
    "fig.update_yaxes(range=(0, 1.4), tick0=0, dtick=0.2, minor_dtick=0.05)  # 縦軸範囲\n",
    "fig.update_xaxes(title=\"Temperature / ℃\")  # 横軸タイトル\n",
    "fig.update_yaxes(title=\"Absorbance\")  # 縦軸タイトル\n",
    "#fig.update_xaxes(rangeslider={\"visible\":True})  # 横軸スケーラー表示\n",
    "fig.update_layout(template=vibspec)\n",
    "fig.update_layout(width=800, height=600)  # グラフの大きさ\n",
    "fig.update_layout(showlegend=True)  # 凡例\n",
    "#fig.update_layout(title=\"PVA\")  # グラフタイトル\n",
    "fig.show()"
   ]
  },
  {
   "cell_type": "code",
   "execution_count": null,
   "metadata": {},
   "outputs": [],
   "source": [
    "fig = graph_objects.Figure()\n",
    "for i in range(len(data)):\n",
    "\tfig.add_trace(graph_objects.Scatter(x=data.columns, y=data.iloc[i], mode=\"lines\", line=dict(color=\"gray\", width=1), showlegend=False))  # プロット\n",
    "fig.add_trace(graph_objects.Scatter(x=data.columns, y=data.iloc[0], name=\"140 ℃\", mode=\"lines\", line=dict(color=\"blue\")))  # プロット\n",
    "fig.add_trace(graph_objects.Scatter(x=data.columns, y=data.iloc[-1], name=\"280 ℃\", mode=\"lines\", line=dict(color=\"red\")))  # プロット\n",
    "fig.update_layout(showlegend=True)  # 凡例\n",
    "fig.update_xaxes(range=(4000, 1000), tick0=1000, dtick=500, minor_dtick=100)  # 横軸範囲\n",
    "fig.update_yaxes(range=(0, 1.4), tick0=0, dtick=0.2, minor_dtick=0.05)  # 縦軸範囲\n",
    "fig.update_xaxes(title=\"Wavenumber / cm<sup>-1</sup>\")  # 横軸タイトル\n",
    "fig.update_yaxes(title=\"Absorbance\")  # 縦軸タイトル\n",
    "#fig.update_xaxes(rangeslider={\"visible\":True})  # 横軸スケーラー表示\n",
    "fig.update_layout(template=vibspec)\n",
    "fig.update_layout(width=800, height=500)  # グラフの大きさ\n",
    "fig.update_layout(showlegend=True)  # 凡例\n",
    "#fig.update_layout(title=\"PVA\")  # グラフタイトル\n",
    "fig.show()"
   ]
  },
  {
   "cell_type": "code",
   "execution_count": null,
   "metadata": {},
   "outputs": [],
   "source": [
    "fig = graph_objects.Figure().set_subplots(rows=2, cols=1, vertical_spacing=0.02)\n",
    "fig.append_trace(graph_objects.Scatter(x=data.columns, y=data.iloc[0], name=\"140 ℃\", mode=\"lines\", line=dict(color=\"blue\")), row=1, col=1)  # プロット1\n",
    "fig.append_trace(graph_objects.Scatter(x=data.columns, y=data.iloc[-1], name=\"280 ℃\", mode=\"lines\", line=dict(color=\"red\")), row=2, col=1)  # プロット2\n",
    "fig.update_xaxes(range=(4000, 1000), tick0=1000, dtick=500, minor_dtick=100, tickfont=dict(size=1, color=\"white\"), row=1, col=1)  # 横軸範囲1\n",
    "fig.update_xaxes(range=(4000, 1000), tick0=1000, dtick=500, minor_dtick=100, row=2, col=1)  # 横軸範囲2\n",
    "fig.update_yaxes(range=(0, 1.4), tick0=0, dtick=0.2, minor_dtick=0.05)  # 縦軸範囲\n",
    "fig.update_xaxes(title=\"\", row=1, col=1)  # 横軸タイトル1\n",
    "fig.update_xaxes(title=\"Wavenumber / cm<sup>-1</sup>\", row=2, col=1)  # 横軸タイトル2\n",
    "fig.update_yaxes(title=\"Absorbance\")  # 縦軸タイトル\n",
    "fig.update_layout(template=vibspec)\n",
    "fig.update_layout(width=800, height=800)  # グラフの大きさ\n",
    "fig.update_layout(showlegend=True)  # 凡例\n",
    "#fig.update_layout(title=\"PVA\")  # グラフタイトル\n",
    "fig.show()"
   ]
  }
 ],
 "metadata": {
  "kernelspec": {
   "display_name": "base",
   "language": "python",
   "name": "python3"
  },
  "language_info": {
   "codemirror_mode": {
    "name": "ipython",
    "version": 3
   },
   "file_extension": ".py",
   "mimetype": "text/x-python",
   "name": "python",
   "nbconvert_exporter": "python",
   "pygments_lexer": "ipython3",
   "version": "3.12.3"
  }
 },
 "nbformat": 4,
 "nbformat_minor": 2
}
