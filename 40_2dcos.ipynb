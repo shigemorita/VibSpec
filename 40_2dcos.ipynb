{
 "cells": [
  {
   "cell_type": "code",
   "execution_count": 1,
   "metadata": {},
   "outputs": [],
   "source": [
    "import numpy\n",
    "import pandas\n",
    "from matplotlib import pyplot, ticker"
   ]
  },
  {
   "cell_type": "code",
   "execution_count": null,
   "metadata": {},
   "outputs": [],
   "source": [
    "pyplot.rcParams.update(pyplot.rcParamsDefault)\n",
    "filename = \"dataframe.csv\"\n",
    "data = pandas.read_csv(filename, header=0, index_col=0).T\n",
    "data.index = pandas.read_csv(filename, header=None, index_col=0).iloc[0].values\n",
    "data.T.plot()\n",
    "pyplot.gca().invert_xaxis()\n",
    "pyplot.gca().legend_ = None\n",
    "pyplot.show()"
   ]
  },
  {
   "cell_type": "code",
   "execution_count": 5,
   "metadata": {},
   "outputs": [],
   "source": [
    "num_contour = 16\n",
    "# tick\n",
    "pyplot.rcParams[\"xtick.bottom\"] = True  # 下軸目盛の表示\n",
    "pyplot.rcParams[\"xtick.top\"] = True  # 上軸目盛の表示\n",
    "pyplot.rcParams[\"ytick.left\"] = True  # 左軸目盛の表示\n",
    "pyplot.rcParams[\"ytick.right\"] = True  # 右軸目盛の表示\n",
    "pyplot.rcParams[\"xtick.direction\"] = \"in\"  # 縦軸目盛の向き\n",
    "pyplot.rcParams[\"ytick.direction\"] = \"in\"  # 横軸目盛の向き\n",
    "pyplot.rcParams[\"xtick.major.size\"] = 10  # 横軸主目盛の長さ\n",
    "pyplot.rcParams[\"ytick.major.size\"] = 10  # 縦軸主目盛の長さ\n",
    "pyplot.rcParams[\"xtick.minor.size\"] = 5  # 横軸副目盛の長さ\n",
    "pyplot.rcParams[\"ytick.minor.size\"] = 5  # 縦軸副目盛の長さ\n",
    "# line\n",
    "pyplot.rcParams[\"lines.linewidth\"] = 2  # 折れ線グラフの太さ\n",
    "pyplot.rcParams[\"axes.linewidth\"] = 2  # 軸線の太さ\n",
    "pyplot.rcParams['axes.axisbelow'] = False  # 軸がプロットの上\n",
    "pyplot.rcParams[\"xtick.major.width\"] = 2  # 横軸主目盛の太さ\n",
    "pyplot.rcParams[\"ytick.major.width\"] = 2  # 縦軸主目盛の太さ\n",
    "pyplot.rcParams[\"xtick.minor.width\"] = 2  # 横軸副目盛の太さ\n",
    "pyplot.rcParams[\"ytick.minor.width\"] = 2  # 縦軸副目盛の太さ\n",
    "# pad\n",
    "pyplot.rcParams[\"axes.titlepad\"] = 5  # タイトルの軸からの距離\n",
    "pyplot.rcParams[\"axes.labelpad\"] = 8  # ラベルの軸からの距離\n",
    "pyplot.rcParams[\"xtick.major.pad\"] = 10  # 横軸目盛の軸からの距離\n",
    "pyplot.rcParams[\"ytick.major.pad\"] = 5  # 縦軸目盛の軸からの距離\n",
    "# save\n",
    "pyplot.rcParams[\"savefig.format\"] = \"png\"\n",
    "pyplot.rcParams[\"savefig.dpi\"] = 150\n",
    "pyplot.rcParams[\"savefig.transparent\"] = False\n",
    "pyplot.rcParams[\"savefig.facecolor\"] = \"white\"\n",
    "pyplot.rcParams[\"savefig.bbox\"] = \"tight\"\n",
    "# フォント\n",
    "pyplot.rcParams[\"font.size\"] = \"20\"  # フォントサイズ\n",
    "pyplot.rcParams[\"font.family\"] = \"Times New Roman\"  # セリフフォント\n",
    "#pyplot.rcParams[\"font.family\"] = \"Arial\"  # サンセリフフォント\n",
    "#pyplot.rcParams[\"font.family\"] = \"Meiryo\"  # 日本語フォント"
   ]
  },
  {
   "cell_type": "code",
   "execution_count": null,
   "metadata": {},
   "outputs": [],
   "source": [
    "xmax, xmin = 1200, 1000\n",
    "tmin, tmax, tdiv, tminor = 1000, 1201, 50, 10\n",
    "data = data.iloc[:, (xmin <= data.columns) & (data.columns <= xmax)]\n",
    "fig = pyplot.figure(figsize=(4.5, 3))\n",
    "ax1 = fig.add_axes((0, 0, 1, 1))\n",
    "ax1.set_xlim(xmax, xmin)\n",
    "ax1.set_xticks(numpy.arange(tmin, tmax, tdiv))\n",
    "ax1.xaxis.set_minor_locator(ticker.MultipleLocator(tminor))\n",
    "for i in range(len(data)): ax1.plot(data.columns, data.iloc[i], color=\"gray\", lw=1)\n",
    "ax1.plot(data.columns, data.iloc[0], color=\"blue\", lw=2)\n",
    "ax1.plot(data.columns, data.iloc[-1], color=\"red\", lw=2)\n",
    "pyplot.show()\n",
    "dyna = data - data.mean()"
   ]
  },
  {
   "cell_type": "code",
   "execution_count": 9,
   "metadata": {},
   "outputs": [],
   "source": [
    "def contour(cont, title):\n",
    "\tx = cont.columns\n",
    "\ty = cont.index\n",
    "\tz = cont.values\n",
    "\tzmax = numpy.absolute(z).max()\n",
    "\tfig = pyplot.figure(figsize=(3, 3))\n",
    "\tax1 = fig.add_axes((0.35, 0, 1, 1))\n",
    "\tpyplot.rcParams[\"lines.linewidth\"] = 1.5\n",
    "\tax1.contour(x, y, z, num_contour, cmap=\"bwr\", vmin=-zmax, vmax=zmax)\n",
    "\n",
    "\tax1.set_xlim(xmax, xmin)\n",
    "\tax1.set_xticks(numpy.arange(tmin, tmax, tdiv))\n",
    "\tax1.xaxis.set_minor_locator(ticker.MultipleLocator(tminor))\n",
    "\tax1.set_xlabel(r\"$\\nu$${_{1}}$ / cm${^{-1}}$\")\n",
    "\n",
    "\tax1.set_ylim(xmax, xmin)\n",
    "\tax1.set_yticks(numpy.arange(tmin, tmax, tdiv))\n",
    "\tax1.yaxis.set_minor_locator(ticker.MultipleLocator(tminor))\n",
    "\n",
    "\tax1.axes.yaxis.set_ticklabels([])\n",
    "\tax1 = ax1.twinx()\n",
    "\tax1.set_ylim(xmax, xmin)\n",
    "\tax1.set_yticks(numpy.arange(tmin, tmax, tdiv))\n",
    "\tax1.yaxis.set_minor_locator(ticker.MultipleLocator(tminor))\n",
    "\tax1.set_ylabel(r\"$\\nu$${_{2}}$ / cm${^{-1}}$\")\n",
    "\n",
    "\tax2 = fig.add_axes((0, 0, 0.35, 1))\n",
    "\tpyplot.rcParams[\"lines.linewidth\"] = 0.5\n",
    "\tfor i in range(len(data)): ax2.plot(-data.iloc[i], data.columns, color=\"gray\")\n",
    "\tpyplot.rcParams[\"lines.linewidth\"] = 1.5\n",
    "\tax2.plot(-data.iloc[0], data.columns, color=\"blue\")\n",
    "\tax2.plot(-data.iloc[-1], data.columns, color=\"red\")\n",
    "\tax2.set_ylim(xmax, xmin)\n",
    "\tax2.set_yticks(numpy.arange(tmin, tmax, tdiv))\n",
    "\tax2.yaxis.set_minor_locator(ticker.MultipleLocator(tminor))\n",
    "\tax2.axes.yaxis.set_ticks([])\n",
    "\tax2.axes.xaxis.set_ticks([])\n",
    "  \n",
    "\tax3 = fig.add_axes((0.35, 1, 1, 0.35))\n",
    "\tax3.set_axisbelow(False)\n",
    "\tpyplot.rcParams[\"lines.linewidth\"] = 0.5\n",
    "\tfor i in range(len(data)): ax3.plot(data.columns, data.iloc[i], color=\"gray\")\n",
    "\tpyplot.rcParams[\"lines.linewidth\"] = 1.5\n",
    "\tax3.plot(data.columns, data.iloc[0], color=\"blue\")\n",
    "\tax3.plot(data.columns, data.iloc[-1], color=\"red\")\n",
    "\tax3.set_xlim(xmax, xmin)\n",
    "\tax3.set_xticks(numpy.arange(tmin, tmax, tdiv))\n",
    "\tax3.xaxis.set_minor_locator(ticker.MultipleLocator(tminor))\n",
    "\tax3.axes.xaxis.set_ticks([])\n",
    "\tax3.axes.yaxis.set_ticks([])\n",
    "\tax3.set_title(title, y=1.05)\n",
    "\n",
    "\tpyplot.show()"
   ]
  },
  {
   "cell_type": "code",
   "execution_count": null,
   "metadata": {},
   "outputs": [],
   "source": [
    "# 同時相関 / synchronous\n",
    "sync = pandas.DataFrame(dyna.T.values @ dyna.values / (len(data) - 1), index=data.columns, columns=data.columns).T\n",
    "contour(sync, \"synchronous\")"
   ]
  },
  {
   "cell_type": "code",
   "execution_count": 11,
   "metadata": {},
   "outputs": [],
   "source": [
    "# Hilbert-Noda transformation matrix\n",
    "noda = numpy.zeros([len(data), len(data)])\n",
    "for i, j in numpy.ndindex(noda.shape):\n",
    "\tif i != j: noda[i, j] = 1 / numpy.pi / (j - i)"
   ]
  },
  {
   "cell_type": "code",
   "execution_count": null,
   "metadata": {},
   "outputs": [],
   "source": [
    "# 異時相関 / asynchronous\n",
    "asyn = pandas.DataFrame(dyna.T.values @ noda @ dyna.values / (len(data) - 1), index=data.columns, columns=data.columns).T\n",
    "contour(asyn, \"asynchronous\")"
   ]
  },
  {
   "cell_type": "code",
   "execution_count": null,
   "metadata": {},
   "outputs": [],
   "source": [
    "# 位相角 / phase angle\n",
    "phase = numpy.arctan(asyn/sync)\n",
    "phase = pandas.DataFrame(phase, index=data.columns, columns=data.columns)\n",
    "for i, j in numpy.ndindex(sync.shape):\n",
    "\tif data.var(ddof=1).iloc[i]**0.5 < data.std().std(): phase.iloc[i,j] = 0\n",
    "\tif data.var(ddof=1).iloc[j]**0.5 < data.std().std(): phase.iloc[i,j] = 0\n",
    "contour(phase, \"phase angle\")"
   ]
  },
  {
   "cell_type": "code",
   "execution_count": null,
   "metadata": {},
   "outputs": [],
   "source": [
    "T = numpy.sqrt(sync.values * sync.values)  # total jopint variance\n",
    "T = pandas.DataFrame(T, index = sync.index, columns = sync.columns)\n",
    "contour(T, \"\")"
   ]
  },
  {
   "cell_type": "code",
   "execution_count": null,
   "metadata": {},
   "outputs": [],
   "source": [
    "r = sync / T  # 2D correlation coefficient\n",
    "r = pandas.DataFrame(r, index=T.index, columns = T.index)\n",
    "contour(r,\"\")"
   ]
  },
  {
   "cell_type": "code",
   "execution_count": null,
   "metadata": {},
   "outputs": [],
   "source": [
    "z = asyn / T  # 2D disrelation coefficient\n",
    "z = pandas.DataFrame(z, index=T.index, columns = T.index)\n",
    "contour(z,\"\")"
   ]
  }
 ],
 "metadata": {
  "kernelspec": {
   "display_name": "base",
   "language": "python",
   "name": "python3"
  },
  "language_info": {
   "codemirror_mode": {
    "name": "ipython",
    "version": 3
   },
   "file_extension": ".py",
   "mimetype": "text/x-python",
   "name": "python",
   "nbconvert_exporter": "python",
   "pygments_lexer": "ipython3",
   "version": "3.12.3"
  }
 },
 "nbformat": 4,
 "nbformat_minor": 2
}
