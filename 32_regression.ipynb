{
 "cells": [
  {
   "cell_type": "code",
   "execution_count": null,
   "metadata": {},
   "outputs": [],
   "source": [
    "#from urllib.request import urlretrieve\n",
    "#urlretrieve(\"http://www.eigenvector.com/data/Corn/corn.mat\", \"corn.mat\")"
   ]
  },
  {
   "cell_type": "code",
   "execution_count": null,
   "metadata": {},
   "outputs": [],
   "source": [
    "import pandas\n",
    "import numpy\n",
    "from matplotlib import pyplot\n",
    "# load data\n",
    "from scipy.io import loadmat\n",
    "corn = loadmat(\"corn.mat\")\n",
    "prop = pandas.DataFrame(corn[\"propvals\"][0][0][7], columns=corn[\"propvals\"][0][0][8][1][0])\n",
    "data = pandas.DataFrame(corn[\"m5spec\"][0][0][7], columns=corn[\"m5spec\"][0][0][9][1][0][0])\n",
    "data.index = prop.iloc[:, 1].values\n",
    "data.T.plot(legend=None)\n",
    "# SNV\n",
    "data = ((data.T - data.T.mean()) / data.T.std()).T\n",
    "# 2nd derivative\n",
    "window = 7\n",
    "from scipy.signal import savgol_filter\n",
    "buff = data.values\n",
    "buff = savgol_filter(buff, window, 2, 0)\n",
    "buff = savgol_filter(buff, window, 2, 1)\n",
    "buff = savgol_filter(buff, window, 2, 0)\n",
    "buff = savgol_filter(buff, window, 2, 1)\n",
    "data = pandas.DataFrame(buff, index=data.index, columns=data.columns)\n",
    "# centering\n",
    "data = data - data.mean()\n",
    "data.T.plot(legend=None)\n",
    "pyplot.show()\n",
    "# split data\n",
    "from sklearn.model_selection import train_test_split\n",
    "train, test = train_test_split(data, train_size=0.6, random_state=10)\n",
    "pyplot.violinplot([data.index, train.index, test.index])\n",
    "pyplot.show()"
   ]
  },
  {
   "cell_type": "code",
   "execution_count": null,
   "metadata": {},
   "outputs": [],
   "source": [
    "# PCR\n",
    "from sklearn.decomposition import PCA\n",
    "from sklearn.linear_model import LinearRegression\n",
    "from sklearn.pipeline import make_pipeline\n",
    "from sklearn.model_selection import GridSearchCV\n",
    "p1 = numpy.arange(2, 31, 1)\n",
    "parm = {\"pca__n_components\": p1}\n",
    "pipe = make_pipeline(PCA(), LinearRegression())\n",
    "search = GridSearchCV(pipe, parm).fit(data.values, data.index)\n",
    "print(search.best_estimator_, search.best_score_)\n",
    "pyplot.scatter(p1, search.cv_results_[\"mean_test_score\"])\n",
    "pyplot.show()\n",
    "model = search.best_estimator_.fit(train.values, train.index)"
   ]
  },
  {
   "cell_type": "code",
   "execution_count": null,
   "metadata": {},
   "outputs": [],
   "source": [
    "# PLS\n",
    "from sklearn.cross_decomposition import PLSRegression\n",
    "from sklearn.model_selection import GridSearchCV\n",
    "p1 = numpy.arange(2, 31, 1)\n",
    "parm = {\"n_components\": p1}\n",
    "search = GridSearchCV(PLSRegression(), parm).fit(data.values, data.index)\n",
    "print(search.best_estimator_, search.best_score_)\n",
    "pyplot.scatter(p1, search.cv_results_[\"mean_test_score\"])\n",
    "pyplot.show()\n",
    "model = search.best_estimator_.fit(train.values, train.index)"
   ]
  },
  {
   "cell_type": "code",
   "execution_count": null,
   "metadata": {},
   "outputs": [],
   "source": [
    "# PLS leave-one-out cross varidation\n",
    "from sklearn.cross_decomposition import PLSRegression\n",
    "from sklearn.model_selection import LeaveOneOut\n",
    "model = PLSRegression(n_components=3)\n",
    "mse_scores = []\n",
    "for train_index, test_index in LeaveOneOut().split(data.values):\n",
    "    model.fit(data.values[train_index], data.index.values[train_index])\n",
    "    mse = ((model.predict(data.values[test_index]) - data.index.values[test_index]) ** 2).mean()\n",
    "    mse_scores.append(mse)\n",
    "average_mse = numpy.mean(mse_scores)\n",
    "print(\"MSE =\", average_mse)"
   ]
  },
  {
   "cell_type": "code",
   "execution_count": null,
   "metadata": {},
   "outputs": [],
   "source": [
    "# model.coef_ による予測\n",
    "spec = test.iloc[0].values\n",
    "print(model.predict([spec])[0])\n",
    "print(((spec - model._x_mean) / model._x_std @ model.coef_.T + model._y_mean)[0])"
   ]
  },
  {
   "cell_type": "code",
   "execution_count": null,
   "metadata": {},
   "outputs": [],
   "source": [
    "# Ridge\n",
    "from sklearn.linear_model import Ridge\n",
    "from sklearn.model_selection import GridSearchCV\n",
    "p1 = numpy.logspace(-9, -6)\n",
    "parm = {\"alpha\": p1}\n",
    "search = GridSearchCV(Ridge(), parm).fit(data.values, data.index)\n",
    "print(search.best_estimator_, search.best_score_)\n",
    "pyplot.scatter(p1, search.cv_results_[\"mean_test_score\"])\n",
    "pyplot.show()\n",
    "model = search.best_estimator_.fit(train.values, train.index)"
   ]
  },
  {
   "cell_type": "code",
   "execution_count": null,
   "metadata": {},
   "outputs": [],
   "source": [
    "# Lasso\n",
    "from sklearn.linear_model import Lasso\n",
    "from sklearn.model_selection import GridSearchCV\n",
    "p1 = numpy.logspace(-9, -6)\n",
    "parm = {\"alpha\": p1}\n",
    "search = GridSearchCV(Lasso(), parm).fit(data.values, data.index)\n",
    "print(search.best_estimator_, search.best_score_)\n",
    "pyplot.scatter(p1, search.cv_results_[\"mean_test_score\"])\n",
    "pyplot.show()\n",
    "model = search.best_estimator_.fit(train.values, train.index)"
   ]
  },
  {
   "cell_type": "code",
   "execution_count": null,
   "metadata": {},
   "outputs": [],
   "source": [
    "# SVM\n",
    "from sklearn.svm import SVR\n",
    "from sklearn.model_selection import GridSearchCV\n",
    "grid = 10\n",
    "p1 = numpy.logspace(3, 5, num=grid)\n",
    "p2 = numpy.logspace(0, 2, num=grid)\n",
    "parm = {\"C\": p1, \"gamma\": p2}\n",
    "search = GridSearchCV(SVR(kernel=\"rbf\"), parm).fit(data.values, data.index)\n",
    "map = pandas.DataFrame(search.cv_results_[\"mean_test_score\"].reshape(grid, grid), index=p1, columns=p2)\n",
    "import seaborn\n",
    "seaborn.heatmap(map)\n",
    "pyplot.ylabel(\"C\")\n",
    "pyplot.xlabel(\"gamma\")\n",
    "pyplot.show()\n",
    "print(search.best_estimator_, search.best_score_)\n",
    "model = search.best_estimator_.fit(train.values, train.index)"
   ]
  },
  {
   "cell_type": "code",
   "execution_count": null,
   "metadata": {},
   "outputs": [],
   "source": [
    "# calibration and validation\n",
    "calibration = model.predict(train.values)\n",
    "validation = model.predict(test.values)\n",
    "pyplot.figure(figsize=(4, 4))\n",
    "pyplot.plot([data.index.min(), data.index.max()], [data.index.min(), data.index.max()])\n",
    "pyplot.scatter(train.index, calibration)\n",
    "pyplot.scatter(test.index, validation)\n",
    "from sklearn.metrics import mean_squared_error, r2_score\n",
    "print(\"RMSEC =\", numpy.sqrt(mean_squared_error(train.index, calibration)))\n",
    "print(\"R^2 =\", r2_score(train.index, calibration))\n",
    "print(\"\")\n",
    "print(\"RMSEV =\", numpy.sqrt(mean_squared_error(test.index, validation)))\n",
    "print(\"R^2 =\", r2_score(test.index, validation))"
   ]
  }
 ],
 "metadata": {
  "interpreter": {
   "hash": "398c91425ba9501ad3ceb4348a18eb4e653d71098c9fe91723be7ca895e75769"
  },
  "kernelspec": {
   "display_name": "Python 3 (ipykernel)",
   "language": "python",
   "name": "python3"
  },
  "language_info": {
   "codemirror_mode": {
    "name": "ipython",
    "version": 3
   },
   "file_extension": ".py",
   "mimetype": "text/x-python",
   "name": "python",
   "nbconvert_exporter": "python",
   "pygments_lexer": "ipython3",
   "version": "3.12.3"
  }
 },
 "nbformat": 4,
 "nbformat_minor": 4
}
