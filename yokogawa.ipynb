{
 "cells": [
  {
   "cell_type": "markdown",
   "metadata": {},
   "source": [
    "## Python で始める機器分析データの解析とケモメトリックス  \n",
    "### 2.3. データの読み込みと保存"
   ]
  },
  {
   "cell_type": "code",
   "execution_count": null,
   "metadata": {},
   "outputs": [],
   "source": [
    "import pandas\n",
    "import numpy"
   ]
  },
  {
   "cell_type": "markdown",
   "metadata": {},
   "source": [
    "1つの CSV ファイル（pandas.DataFrame 構造）を読み込み，複数の CSV ファイル（pandas.Series 構造）に分解して保存"
   ]
  },
  {
   "cell_type": "code",
   "execution_count": null,
   "metadata": {},
   "outputs": [],
   "source": [
    "filename = \"data2.csv\"\n",
    "data = pandas.read_csv(filename, header=0, index_col=0).T\n",
    "filename = \"data_\"\n",
    "for i in range(data.index.shape[0]):\n",
    "    buff = pandas.Series(data.iloc[i], index=data.columns)   \n",
    "    buff.to_csv(filename + \"{0:03d}\".format(i) + \".csv\", header=False)"
   ]
  },
  {
   "cell_type": "markdown",
   "metadata": {},
   "source": [
    "複数の CSV ファイル（panas.Series 構造）を読み込み，1つの CSV ファイル（pandas.DataFrame 構造）にまとめて保存"
   ]
  },
  {
   "cell_type": "code",
   "execution_count": null,
   "metadata": {},
   "outputs": [],
   "source": [
    "import glob\n",
    "filename = \"data_\"\n",
    "files = glob.glob(filename + \"*.csv\")\n",
    "data = pandas.DataFrame(index=pandas.read_csv(files[0], header=None, index_col=0).index)\n",
    "for f in files:\n",
    "    buff = pandas.read_csv(f, header=None, index_col=0).values\n",
    "    data[f] = buff\n",
    "data.to_csv(filename[:-1] + \".csv\")"
   ]
  },
  {
   "cell_type": "markdown",
   "metadata": {},
   "source": [
    "pandas.DataFrame 構造の CSV ファイルを読み込み，説明変数を反転させて保存"
   ]
  },
  {
   "cell_type": "code",
   "execution_count": null,
   "metadata": {},
   "outputs": [],
   "source": [
    "filename = \"data2.csv\"\n",
    "data = pandas.read_csv(filename, header=0, index_col=0).T\n",
    "data.iloc[:, ::-1].T.to_csv(filename[:-4] + \"R.csv\")"
   ]
  },
  {
   "cell_type": "markdown",
   "metadata": {},
   "source": [
    "pandas.DataFrame 構造の CSV ファイルを読み込み，転置行列に変換して保存"
   ]
  },
  {
   "cell_type": "code",
   "execution_count": null,
   "metadata": {},
   "outputs": [],
   "source": [
    "filename = \"data2.csv\"\n",
    "data = pandas.read_csv(filename, header=0, index_col=0).T\n",
    "data.to_csv(filename[:-4] + \"T.csv\")"
   ]
  },
  {
   "cell_type": "markdown",
   "metadata": {},
   "source": [
    "(c) Shigeaki Morita"
   ]
  }
 ],
 "metadata": {
  "kernelspec": {
   "display_name": "Python 3 (ipykernel)",
   "language": "python",
   "name": "python3"
  },
  "language_info": {
   "codemirror_mode": {
    "name": "ipython",
    "version": 3
   },
   "file_extension": ".py",
   "mimetype": "text/x-python",
   "name": "python",
   "nbconvert_exporter": "python",
   "pygments_lexer": "ipython3",
   "version": "3.8.10"
  }
 },
 "nbformat": 4,
 "nbformat_minor": 4
}
