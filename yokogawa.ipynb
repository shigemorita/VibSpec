{
 "cells": [
  {
   "cell_type": "code",
   "execution_count": 2,
   "metadata": {},
   "outputs": [],
   "source": [
    "import pandas\n",
    "import numpy\n",
    "import glob"
   ]
  },
  {
   "cell_type": "code",
   "execution_count": 35,
   "metadata": {},
   "outputs": [],
   "source": [
    "files = glob.glob(\"*.csv\")\n",
    "for filename in files:\n",
    "\tf = open(filename, \"r\")\n",
    "\tdata = f.readlines()\n",
    "\tf.close()\n",
    "\twith open(\"_\" + filename, mode=\"w\") as f: f.writelines(data[37:-1])\n",
    "\tf.close()"
   ]
  },
  {
   "cell_type": "code",
   "execution_count": 3,
   "metadata": {},
   "outputs": [],
   "source": [
    "filename = \"_\"\n",
    "files = glob.glob(filename + \"*.csv\")\n",
    "data = pandas.DataFrame(index=pandas.read_csv(files[0], header=None, index_col=0).index)\n",
    "for f in files:\n",
    "  buff = pandas.read_csv(f, header=None, index_col=0).values\n",
    "  data[f] = buff\n",
    "data.index.name=\"\"\n",
    "data.to_csv(\"all.csv\")"
   ]
  }
 ],
 "metadata": {
  "kernelspec": {
   "display_name": "Python 3 (ipykernel)",
   "language": "python",
   "name": "python3"
  },
  "language_info": {
   "codemirror_mode": {
    "name": "ipython",
    "version": 3
   },
   "file_extension": ".py",
   "mimetype": "text/x-python",
   "name": "python",
   "nbconvert_exporter": "python",
   "pygments_lexer": "ipython3",
   "version": "3.8.12"
  }
 },
 "nbformat": 4,
 "nbformat_minor": 4
}
