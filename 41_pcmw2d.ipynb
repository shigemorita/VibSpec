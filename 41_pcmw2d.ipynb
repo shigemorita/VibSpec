{
 "cells": [
  {
   "cell_type": "code",
   "execution_count": null,
   "metadata": {},
   "outputs": [],
   "source": [
    "import numpy\n",
    "import pandas\n",
    "from matplotlib import pyplot, ticker"
   ]
  },
  {
   "cell_type": "code",
   "execution_count": null,
   "metadata": {},
   "outputs": [],
   "source": [
    "pyplot.rcParams.update(pyplot.rcParamsDefault)\n",
    "filename = \"dataframe.csv\"\n",
    "data = pandas.read_csv(filename, header=0, index_col=0).T\n",
    "data.index = pandas.read_csv(filename, header=None, index_col=0).iloc[0].values\n",
    "data.T.plot(legend=None, xlim=[data.columns.max(), data.columns.min()])\n",
    "pyplot.show()"
   ]
  },
  {
   "cell_type": "code",
   "execution_count": null,
   "metadata": {},
   "outputs": [],
   "source": [
    "num_contour = 16\n",
    "w = 3\n",
    "# tick\n",
    "pyplot.rcParams[\"xtick.bottom\"] = True  # 下軸目盛の表示\n",
    "pyplot.rcParams[\"xtick.top\"] = True  # 上軸目盛の表示\n",
    "pyplot.rcParams[\"ytick.left\"] = True  # 左軸目盛の表示\n",
    "pyplot.rcParams[\"ytick.right\"] = True  # 右軸目盛の表示\n",
    "pyplot.rcParams[\"xtick.direction\"] = \"in\"  # 縦軸目盛の向き\n",
    "pyplot.rcParams[\"ytick.direction\"] = \"in\"  # 横軸目盛の向き\n",
    "pyplot.rcParams[\"xtick.major.size\"] = 10  # 横軸主目盛の長さ\n",
    "pyplot.rcParams[\"ytick.major.size\"] = 10  # 縦軸主目盛の長さ\n",
    "pyplot.rcParams[\"xtick.minor.size\"] = 5  # 横軸副目盛の長さ\n",
    "pyplot.rcParams[\"ytick.minor.size\"] = 5  # 縦軸副目盛の長さ\n",
    "# line\n",
    "pyplot.rcParams[\"lines.linewidth\"] = 2  # 折れ線グラフの太さ\n",
    "pyplot.rcParams[\"axes.linewidth\"] = 2  # 軸線の太さ\n",
    "pyplot.rcParams[\"xtick.major.width\"] = 2  # 横軸主目盛の太さ\n",
    "pyplot.rcParams[\"ytick.major.width\"] = 2  # 縦軸主目盛の太さ\n",
    "pyplot.rcParams[\"xtick.minor.width\"] = 2  # 横軸副目盛の太さ\n",
    "pyplot.rcParams[\"ytick.minor.width\"] = 2  # 縦軸副目盛の太さ\n",
    "# pad\n",
    "pyplot.rcParams[\"axes.titlepad\"] = 5  # タイトルの軸からの距離\n",
    "pyplot.rcParams[\"axes.labelpad\"] = 8  # ラベルの軸からの距離\n",
    "pyplot.rcParams[\"xtick.major.pad\"] = 10  # 横軸目盛の軸からの距離\n",
    "pyplot.rcParams[\"ytick.major.pad\"] = 5  # 縦軸目盛の軸からの距離\n",
    "# save\n",
    "pyplot.rcParams[\"savefig.format\"] = \"png\"\n",
    "pyplot.rcParams[\"savefig.dpi\"] = 150\n",
    "pyplot.rcParams[\"savefig.transparent\"] = False\n",
    "pyplot.rcParams[\"savefig.facecolor\"] = \"white\"\n",
    "pyplot.rcParams[\"savefig.bbox\"] = \"tight\"\n",
    "# フォント\n",
    "pyplot.rcParams[\"font.size\"] = \"20\"  # フォントサイズ\n",
    "pyplot.rcParams[\"font.family\"] = \"Times New Roman\"  # セリフフォント\n",
    "#pyplot.rcParams[\"font.family\"] = \"Arial\"  # サンセリフフォント\n",
    "#pyplot.rcParams[\"font.family\"] = \"Meiryo\"  # 日本語フォント"
   ]
  },
  {
   "cell_type": "code",
   "execution_count": null,
   "metadata": {},
   "outputs": [],
   "source": [
    "xmin, xmax = 1000, 1200\n",
    "xtmin, xtmax, xtdiv, xtminor = 1000, 1201, 50, 10\n",
    "\n",
    "ymin, ymax = 140, 280\n",
    "ytmin, ytmax, ytdiv, ytminor = 140, 281, 20, 5\n",
    "\n",
    "data = data.iloc[:, (xmin <= data.columns) & (data.columns <= xmax)]\n",
    "fig = pyplot.figure(figsize=(3.5, 2))\n",
    "ax1 = fig.add_axes((0, 0, 1, 1))\n",
    "ax1.set_axisbelow(False)\n",
    "ax1.set_xlim(xmax, xmin)\n",
    "ax1.set_xticks(numpy.arange(xtmin, xtmax, xtdiv))\n",
    "ax1.xaxis.set_minor_locator(ticker.MultipleLocator(xtminor))\n",
    "pyplot.rcParams[\"lines.linewidth\"] = 1\n",
    "for i in range(len(data)): ax1.plot(data.columns, data.iloc[i], color=\"gray\")\n",
    "pyplot.rcParams[\"lines.linewidth\"] = 2\n",
    "ax1.plot(data.columns, data.iloc[0], color=\"blue\")\n",
    "ax1.plot(data.columns, data.iloc[-1], color=\"red\")\n",
    "pyplot.show()\n",
    "fig = pyplot.figure(figsize=(3.5, 2))\n",
    "ax2 = fig.add_axes((0, 0, 1, 1))\n",
    "ax2.set_axisbelow(False)\n",
    "ax2.set_xlim(ymin, ymax)\n",
    "ax2.set_xticks(numpy.arange(ytmin, ytmax, ytdiv))\n",
    "ax2.xaxis.set_minor_locator(ticker.MultipleLocator(ytminor))\n",
    "ax2.scatter(data.index, data.index)\n",
    "pyplot.show()"
   ]
  },
  {
   "cell_type": "code",
   "execution_count": null,
   "metadata": {},
   "outputs": [],
   "source": [
    "def contour(cont, title):\n",
    "    x = cont.columns\n",
    "    y = cont.index\n",
    "    z = cont.values\n",
    "    zmax = numpy.absolute(z).max()\n",
    "    fig = pyplot.figure(figsize=(3, 3))\n",
    "    ax1 = fig.add_axes((0, 0, 1, 1))\n",
    "    ax1.set_axisbelow(False)\n",
    "    pyplot.rcParams[\"lines.linewidth\"] = 1.5\n",
    "    ax1.contour(x, y, z, num_contour, cmap=\"bwr\", vmin=-zmax, vmax=zmax)\n",
    "    ax1.set_xlim(xmax, xmin)\n",
    "    ax1.set_xticks(numpy.arange(xtmin, xtmax, xtdiv))\n",
    "    ax1.xaxis.set_minor_locator(ticker.MultipleLocator(xtminor))\n",
    "    ax1.set_xlabel(\"Wavenumber / cm${^{-1}}$\")\n",
    "    ax1.set_ylim(ymin, ymax)\n",
    "    ax1.set_yticks(numpy.arange(ytmin, ytmax, ytdiv))\n",
    "    ax1.yaxis.set_minor_locator(ticker.MultipleLocator(ytminor))\n",
    "    ax1.set_ylabel(\"Temperature / \\N{DEGREE SIGN}C\")\n",
    "    ax2 = fig.add_axes((0, 1, 1, 0.5))\n",
    "    ax2.set_axisbelow(False)\n",
    "    ax2.set_xlim(xmax, xmin)\n",
    "    ax2.set_xticks(numpy.arange(xtmin, xtmax, xtdiv))\n",
    "    ax2.xaxis.set_minor_locator(ticker.MultipleLocator(xtminor))\n",
    "    ax2.axes.xaxis.set_ticks([])\n",
    "    ax2.axes.yaxis.set_ticks([])\n",
    "    pyplot.rcParams[\"lines.linewidth\"] = 0.5\n",
    "    for i in range(len(data)): ax2.plot(data.columns, data.iloc[i], color=\"gray\")\n",
    "    pyplot.rcParams[\"lines.linewidth\"] = 1.5\n",
    "    ax2.plot(data.columns, data.iloc[0], color=\"blue\")\n",
    "    ax2.plot(data.columns, data.iloc[-1], color=\"red\")\n",
    "    ax2.set_title(title, y=1.05)\n",
    "    pyplot.show()"
   ]
  },
  {
   "cell_type": "code",
   "execution_count": null,
   "metadata": {},
   "outputs": [],
   "source": [
    "# MW2D correlation\n",
    "ac = numpy.zeros(data.shape)\n",
    "for i in range(w // 2, len(data) - w // 2):\n",
    "    y = data.iloc[i - w // 2 : i + w // 2 + 1]\n",
    "    ac[i] = y.var()\n",
    "ac = pandas.DataFrame(ac, index=data.index, columns=data.columns)\n",
    "contour(ac, \"auto-correlation\")"
   ]
  },
  {
   "cell_type": "code",
   "execution_count": null,
   "metadata": {},
   "outputs": [],
   "source": [
    "# synchronous PCMW2D correlation\n",
    "sync = numpy.zeros(data.shape)\n",
    "for i in range(w // 2, len(data) - w // 2):\n",
    "    y = data.iloc[i - w // 2 : i + w // 2 + 1]\n",
    "    y -= y.mean()\n",
    "    p = y.index - numpy.mean(y.index)\n",
    "    sync[i] = p @ y / (w - 1)\n",
    "sync = pandas.DataFrame(sync, index=data.index, columns=data.columns)\n",
    "contour(sync, \"synchronous\")"
   ]
  },
  {
   "cell_type": "code",
   "execution_count": null,
   "metadata": {},
   "outputs": [],
   "source": [
    "# asynchronous PCMW2D correlation\n",
    "noda = numpy.zeros((w, w))\n",
    "for i, j in numpy.ndindex(noda.shape):\n",
    "    if i != j: noda[i, j] = 1 / numpy.pi / (j - i)\n",
    "asyn = numpy.zeros(data.shape)\n",
    "for i in range(w // 2, len(data) - w // 2):\n",
    "    y = data.iloc[i - w // 2 : i + w // 2 + 1]\n",
    "    y -= y.mean()\n",
    "    p = y.index - numpy.mean(y.index)\n",
    "    asyn[i] = noda @ p @ y\n",
    "asyn = pandas.DataFrame(asyn, index=data.index, columns=data.columns)\n",
    "contour(asyn, \"asynchronous\")"
   ]
  }
 ],
 "metadata": {
  "kernelspec": {
   "display_name": "Python 3.9.13 ('base')",
   "language": "python",
   "name": "python3"
  },
  "language_info": {
   "codemirror_mode": {
    "name": "ipython",
    "version": 3
   },
   "file_extension": ".py",
   "mimetype": "text/x-python",
   "name": "python",
   "nbconvert_exporter": "python",
   "pygments_lexer": "ipython3",
   "version": "3.9.18"
  },
  "vscode": {
   "interpreter": {
    "hash": "aa931a12cd616f100a3dbf0df00067e1067e9b65b97740d9adc59c84adb05e7e"
   }
  }
 },
 "nbformat": 4,
 "nbformat_minor": 2
}
