{
 "cells": [
  {
   "cell_type": "code",
   "execution_count": null,
   "metadata": {},
   "outputs": [],
   "source": [
    "import numpy\n",
    "import pandas\n",
    "from matplotlib import pyplot"
   ]
  },
  {
   "cell_type": "code",
   "execution_count": null,
   "metadata": {},
   "outputs": [],
   "source": [
    "filename = \"dataframe.csv\"\n",
    "data = pandas.read_csv(filename, header=0, index_col=0).T\n",
    "data.index = pandas.read_csv(filename, header=None, index_col=0).iloc[0].values\n",
    "xmax, xmin = 3700, 3000\n",
    "data = data.iloc[:, (xmin <= data.columns) & (data.columns <= xmax)]\n",
    "data.T.plot(legend=None, xlim=[data.columns.max(), data.columns.min()])"
   ]
  },
  {
   "cell_type": "code",
   "execution_count": null,
   "metadata": {},
   "outputs": [],
   "source": [
    "# 0次モーメント（面積強度）\n",
    "zeroth = data.sum(axis=1)\n",
    "pyplot.scatter(zeroth.index, zeroth.values)\n",
    "pyplot.show()"
   ]
  },
  {
   "cell_type": "code",
   "execution_count": null,
   "metadata": {},
   "outputs": [],
   "source": [
    "# 1次モーメント（重心位置）\n",
    "first = (data.columns * data).sum(axis=1) / data.sum(axis=1)\n",
    "pyplot.scatter(first.index, first.values)\n",
    "pyplot.show()"
   ]
  },
  {
   "cell_type": "code",
   "execution_count": null,
   "metadata": {},
   "outputs": [],
   "source": [
    "# 2次モーメントの平方根（幅）\n",
    "first = (data.columns * data).sum(axis=1) / data.sum(axis=1)\n",
    "second = (((numpy.array([data.columns]).T - first.values) ** 2).T * data).sum(axis=1) / data.sum(axis=1)\n",
    "width = second ** 0.5\n",
    "pyplot.scatter(width.index, width.values)\n",
    "pyplot.show()"
   ]
  },
  {
   "cell_type": "code",
   "execution_count": null,
   "metadata": {},
   "outputs": [],
   "source": [
    "# 最大値検出\n",
    "peak = pandas.DataFrame([data.idxmax(axis=1), data.max(axis=1)], columns=data.index).T  # 最大値\n",
    "pyplot.plot(data.T,color=\"blue\", linewidth=0.5)\n",
    "pyplot.scatter(peak.iloc[:, 0], peak.iloc[:, 1], color=\"red\")\n",
    "pyplot.xlim(data.columns.max(), data.columns.min())\n",
    "pyplot.show()\n",
    "peak"
   ]
  },
  {
   "cell_type": "code",
   "execution_count": null,
   "metadata": {},
   "outputs": [],
   "source": [
    "# 最小値検出\n",
    "peak = pandas.DataFrame([data.idxmin(axis=1), data.min(axis=1)], columns=data.index).T  # 最小値\n",
    "pyplot.plot(data.T,color=\"blue\", linewidth=0.5)\n",
    "pyplot.scatter(peak.iloc[:, 0], peak.iloc[:, 1], color=\"red\")\n",
    "pyplot.xlim(data.columns.max(), data.columns.min())\n",
    "pyplot.show()\n",
    "peak"
   ]
  },
  {
   "cell_type": "code",
   "execution_count": null,
   "metadata": {},
   "outputs": [],
   "source": [
    "# スライス\n",
    "x = 3400\n",
    "xi = numpy.abs(numpy.asarray(data.columns) - x).argmin()\n",
    "print(\"x =\", data.columns[xi])\n",
    "pyplot.scatter(data.index, data.iloc[:,xi])\n",
    "pyplot.show()"
   ]
  },
  {
   "cell_type": "code",
   "execution_count": null,
   "metadata": {},
   "outputs": [],
   "source": [
    "filename = \"dataframe.csv\"\n",
    "data = pandas.read_csv(filename, header=0, index_col=0).T\n",
    "data.index = pandas.read_csv(filename, header=None, index_col=0).iloc[0].values\n",
    "xmax, xmin = 1900, 1000\n",
    "data = data.iloc[:, (xmin <= data.columns) & (data.columns <= xmax)]\n",
    "data.T.plot(legend=None, xlim=[data.columns.max(), data.columns.min()])"
   ]
  },
  {
   "cell_type": "code",
   "execution_count": null,
   "metadata": {},
   "outputs": [],
   "source": [
    "# ピーク検出\n",
    "from scipy import signal\n",
    "buff = data.iloc[0]\n",
    "peakindex = signal.find_peaks(buff.values, prominence=0.005)[0]\n",
    "#peakindex = signal.argrelmax(buff.values, order=5)[0]\n",
    "#peakindex = signal.argrelmin(buff.values, order=5)[0]\n",
    "#peakindex = signal.argrelextrema(buff.values, numpy.greater, order=5)[0]\n",
    "#peakindex = signal.argrelextrema(buff.values, numpy.less, order=5)[0]\n",
    "peak = buff.iloc[peakindex]\n",
    "pyplot.plot(buff)\n",
    "pyplot.scatter(peak.index, peak.values, color=\"red\")\n",
    "pyplot.xlim(data.columns.max(), data.columns.min())\n",
    "pyplot.show()\n",
    "peak"
   ]
  }
 ],
 "metadata": {
  "kernelspec": {
   "display_name": "base",
   "language": "python",
   "name": "python3"
  },
  "language_info": {
   "codemirror_mode": {
    "name": "ipython",
    "version": 3
   },
   "file_extension": ".py",
   "mimetype": "text/x-python",
   "name": "python",
   "nbconvert_exporter": "python",
   "pygments_lexer": "ipython3",
   "version": "3.9.18"
  },
  "vscode": {
   "interpreter": {
    "hash": "aa931a12cd616f100a3dbf0df00067e1067e9b65b97740d9adc59c84adb05e7e"
   }
  }
 },
 "nbformat": 4,
 "nbformat_minor": 4
}
