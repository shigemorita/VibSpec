{
 "cells": [
  {
   "cell_type": "code",
   "execution_count": null,
   "metadata": {},
   "outputs": [],
   "source": [
    "import pandas\n",
    "import numpy\n",
    "from matplotlib import pyplot"
   ]
  },
  {
   "cell_type": "code",
   "execution_count": null,
   "metadata": {},
   "outputs": [],
   "source": [
    "# csv 読み込み\n",
    "filename = \"paper.csv\"\n",
    "data = pandas.read_csv(filename, header=0, index_col=0).T\n",
    "data.index = pandas.read_csv(filename, header=None, index_col=0).iloc[0]\n",
    "data.index.name=\"\"\n",
    "data.T.plot(legend=None, xlim=[data.columns.max(), data.columns.min()])"
   ]
  },
  {
   "cell_type": "code",
   "execution_count": null,
   "metadata": {},
   "outputs": [],
   "source": [
    "# 1点でベースライン補正\n",
    "flag = False\n",
    "#flag = True\n",
    "\n",
    "x = 1900  # 補正点\n",
    "y = data.iloc[:, numpy.abs(numpy.asarray(data.columns) - x).argmin()]\n",
    "\n",
    "buff = (data.T - y).T\n",
    "buff.T.plot(legend=None, xlim=[buff.columns.max(), buff.columns.min()])\n",
    "if flag: data = buff"
   ]
  },
  {
   "cell_type": "code",
   "execution_count": null,
   "metadata": {},
   "outputs": [],
   "source": [
    "# 1点の範囲でベースライン補正\n",
    "flag = False\n",
    "#flag = True\n",
    "\n",
    "xmax, xmin = 2000, 1900  # 補正範囲\n",
    "y = data.iloc[:, (xmin < data.columns) & (data.columns < xmax)].T.min()\n",
    "\n",
    "buff = (data.T - y).T\n",
    "buff.T.plot(legend=None, xlim=[buff.columns.max(), buff.columns.min()])\n",
    "if flag: data = buff"
   ]
  },
  {
   "cell_type": "code",
   "execution_count": null,
   "metadata": {},
   "outputs": [],
   "source": [
    "# 2点でベースライン補正\n",
    "flag = False\n",
    "#flag = True\n",
    "\n",
    "x1, x2 = 3900, 1900  # 補正点\n",
    "y1 = data.iloc[:, numpy.abs(numpy.asarray(data.columns) - x1).argmin()]\n",
    "y2 = data.iloc[:, numpy.abs(numpy.asarray(data.columns) - x2).argmin()]\n",
    "\n",
    "a = (y2 - y1) / (x2 - x1)\n",
    "b = y1 - a * x1\n",
    "base = numpy.outer(a, data.columns) + numpy.array([b]).T\n",
    "\n",
    "buff = pandas.DataFrame(data - base, index=data.index, columns=data.columns)\n",
    "buff.T.plot(legend=None, xlim=[buff.columns.max(), buff.columns.min()])\n",
    "if flag: data = buff"
   ]
  },
  {
   "cell_type": "code",
   "execution_count": null,
   "metadata": {},
   "outputs": [],
   "source": [
    "# 2点の範囲でベースライン補正\n",
    "flag = False\n",
    "#flag = True\n",
    "\n",
    "xmax, xmin = 3900, 3800  # 補正範囲1\n",
    "buff = data.iloc[:, (xmin < data.columns) & (data.columns < xmax)]\n",
    "x1, y1 = buff.idxmin(axis=1), buff.min(axis=1)\n",
    "\n",
    "xmax, xmin = 2000, 1900  # 補正範囲2\n",
    "buff = data.iloc[:, (xmin < data.columns) & (data.columns < xmax)]\n",
    "x2, y2 = buff.idxmin(axis=1), buff.min(axis=1)\n",
    "\n",
    "a = (y2 - y1) / (x2 - x1)\n",
    "b = y1 - a * x1\n",
    "base = numpy.outer(a, data.columns) + numpy.array([b]).T\n",
    "\n",
    "buff = pandas.DataFrame(data - base, index=data.index, columns=data.columns)\n",
    "buff.T.plot(legend=None, xlim=[buff.columns.max(), buff.columns.min()])\n",
    "if flag: data = buff"
   ]
  },
  {
   "cell_type": "code",
   "execution_count": null,
   "metadata": {},
   "outputs": [],
   "source": [
    "# SNV\n",
    "flag = False\n",
    "#flag = True\n",
    "buff = ((data.T - data.T.mean()) / data.T.std()).T\n",
    "buff.T.plot(legend=None, xlim=[buff.columns.max(), buff.columns.min()])\n",
    "if flag: data = buff"
   ]
  },
  {
   "cell_type": "code",
   "execution_count": null,
   "metadata": {},
   "outputs": [],
   "source": [
    "# MSC\n",
    "flag = False\n",
    "#flag = True\n",
    "x = numpy.matrix(data)\n",
    "xc = x - x.mean(axis=1)\n",
    "r = x.mean(axis=0)\n",
    "rc = r - r.mean()\n",
    "b = xc * rc.T * (rc * rc.T).I\n",
    "buff = xc / b + r.mean()\n",
    "buff = pandas.DataFrame(buff, index=data.index, columns=data.columns)\n",
    "buff.T.plot(legend=None, xlim=[buff.columns.max(), buff.columns.min()])\n",
    "if flag: data = buff"
   ]
  }
 ],
 "metadata": {
  "interpreter": {
   "hash": "398c91425ba9501ad3ceb4348a18eb4e653d71098c9fe91723be7ca895e75769"
  },
  "kernelspec": {
   "display_name": "Python 3.8.12 64-bit ('base': conda)",
   "name": "python3"
  },
  "language_info": {
   "codemirror_mode": {
    "name": "ipython",
    "version": 3
   },
   "file_extension": ".py",
   "mimetype": "text/x-python",
   "name": "python",
   "nbconvert_exporter": "python",
   "pygments_lexer": "ipython3",
   "version": "3.8.12"
  }
 },
 "nbformat": 4,
 "nbformat_minor": 4
}
