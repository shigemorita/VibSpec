{
 "cells": [
  {
   "cell_type": "code",
   "execution_count": null,
   "metadata": {},
   "outputs": [],
   "source": [
    "import numpy\n",
    "import pandas\n",
    "from matplotlib import pyplot"
   ]
  },
  {
   "cell_type": "code",
   "execution_count": null,
   "metadata": {},
   "outputs": [],
   "source": [
    "# open pandas.DataFrame or pandas.Seires (Tkinter)\n",
    "import tkinter.filedialog\n",
    "import os\n",
    "root = tkinter.Tk()\n",
    "root.withdraw()\n",
    "root.attributes(\"-topmost\", True)\n",
    "root.lift()\n",
    "root.focus_force()\n",
    "filename = tkinter.filedialog.askopenfilename(initialdir=os.getcwd(), filetypes=[(\"csv\", \"*.csv\")])\n",
    "if pandas.read_csv(filename).columns[0] == \"Unnamed: 0\":\n",
    "\tdata = pandas.read_csv(filename, header=0, index_col=0).T\n",
    "\tdata.index = pandas.read_csv(filename, header=None, index_col=0).iloc[0].values\n",
    "else:\tdata = pandas.DataFrame(pandas.read_csv(filename, header=None, index_col=0).squeeze()).T\n",
    "data.T.plot(legend=None, xlim=[data.columns.max(), data.columns.min()])\n",
    "pyplot.show()"
   ]
  },
  {
   "cell_type": "code",
   "execution_count": null,
   "metadata": {},
   "outputs": [],
   "source": [
    "# change folder\n",
    "path = \"./\"  # folder path\n",
    "import os\n",
    "print(os.getcwd())\n",
    "os.chdir(path)\n",
    "print(os.getcwd())"
   ]
  },
  {
   "cell_type": "code",
   "execution_count": null,
   "metadata": {},
   "outputs": [],
   "source": [
    "# open pandas.DataFrame\n",
    "filename = \"dataframe.csv\"\n",
    "data = pandas.read_csv(filename, header=0, index_col=0).T\n",
    "data.index = pandas.read_csv(filename, header=None, index_col=0).iloc[0].values\n",
    "data.T.plot(legend=None, xlim=[data.columns.max(), data.columns.min()])\n",
    "pyplot.show()"
   ]
  },
  {
   "cell_type": "code",
   "execution_count": null,
   "metadata": {},
   "outputs": [],
   "source": [
    "# save pandas.DataFrame\n",
    "flag = False\n",
    "#flag = True\n",
    "filename = filename[:-4] + \"_.csv\"\n",
    "if flag: data.T.to_csv(filename)"
   ]
  },
  {
   "cell_type": "code",
   "execution_count": null,
   "metadata": {},
   "outputs": [],
   "source": [
    "# open pandas.Seires\n",
    "filename = \"series.csv\"\n",
    "data = pandas.read_csv(filename, header=None, index_col=0, squeeze=True)\n",
    "data.plot()\n",
    "pyplot.show()"
   ]
  },
  {
   "cell_type": "code",
   "execution_count": null,
   "metadata": {},
   "outputs": [],
   "source": [
    "# save pandas.Series\n",
    "flag = False\n",
    "#flag = True\n",
    "filename = filename[:-4] + \"_.csv\"\n",
    "if flag: buff.to_csv(filename, header=False)"
   ]
  },
  {
   "cell_type": "code",
   "execution_count": null,
   "metadata": {},
   "outputs": [],
   "source": [
    "# opne one pandas.DataFrame and save multiple pandas.Series\n",
    "filename = \"dataframe.csv\"\n",
    "data = pandas.read_csv(filename, header=0, index_col=0).T\n",
    "data.index = pandas.read_csv(filename, header=None, index_col=0).iloc[0]\n",
    "data.index.name=\"\"\n",
    "for i in range(data.index.shape[0]):\n",
    "    buff = pandas.Series(data.iloc[i], index=data.columns)   \n",
    "    buff.to_csv(filename[:-4] + \"_\" + \"{0:03d}\".format(i) + \".csv\", header=False)"
   ]
  },
  {
   "cell_type": "code",
   "execution_count": null,
   "metadata": {},
   "outputs": [],
   "source": [
    "# opne multiple panas.Series and save one pandas.DataFrame\n",
    "import glob\n",
    "filename = \"dataframe_\"\n",
    "files = glob.glob(filename + \"*.csv\")\n",
    "data = pandas.DataFrame(index=pandas.read_csv(files[0], header=None, index_col=0).index)\n",
    "for f in files:\n",
    "    buff = pandas.read_csv(f, header=None, index_col=0).values\n",
    "    data[f] = buff\n",
    "data.index.name=\"\"\n",
    "data.to_csv(filename + \".csv\")"
   ]
  },
  {
   "cell_type": "code",
   "execution_count": null,
   "metadata": {},
   "outputs": [],
   "source": [
    "# open pandas.DataFrame and save after sort the explanatory variable (wavenumber)\n",
    "filename = \"dataframe.csv\"\n",
    "data = pandas.read_csv(filename, header=0, index_col=0).T\n",
    "data.index = pandas.read_csv(filename, header=None, index_col=0).iloc[0]\n",
    "data.index.name=\"\"\n",
    "data.iloc[:, ::-1].T.to_csv(filename[:-4] + \"_r.csv\")"
   ]
  },
  {
   "cell_type": "code",
   "execution_count": null,
   "metadata": {},
   "outputs": [],
   "source": [
    "# open pandas.DataFrame and save after transpose\n",
    "filename = \"dataframe.csv\"\n",
    "data = pandas.read_csv(filename, header=0, index_col=0).T\n",
    "data.index = pandas.read_csv(filename, header=None, index_col=0).iloc[0]\n",
    "data.index.name=\"\"\n",
    "data.to_csv(filename[:-4] + \"_t.csv\")"
   ]
  },
  {
   "cell_type": "code",
   "execution_count": null,
   "metadata": {},
   "outputs": [],
   "source": [
    "# YOKOGAWA NR800 (data transformation)\n",
    "import glob\n",
    "files = glob.glob(\"*.csv\")\n",
    "for filename in files:\n",
    "\tf = open(filename, \"r\")\n",
    "\tdata = f.readlines()\n",
    "\tf.close()\n",
    "\twith open(\"_\" + filename, mode=\"w\") as f: f.writelines(data[37:-1])\n",
    "\tf.close()"
   ]
  },
  {
   "cell_type": "code",
   "execution_count": null,
   "metadata": {},
   "outputs": [],
   "source": [
    "# JASCO\n",
    "filename = \"jasco.csv\"\n",
    "data = pandas.read_csv(filename, header=17, index_col=0).T\n",
    "data.index = pandas.read_csv(filename, header=None, index_col=0, skiprows=17).iloc[0].values\n",
    "data.T.plot(legend=None, xlim=[data.columns.max(), data.columns.min()])"
   ]
  },
  {
   "cell_type": "code",
   "execution_count": null,
   "metadata": {},
   "outputs": [],
   "source": [
    "# Wasatch\n",
    "path = \"data\"  # データが入っているフォルダ名\n",
    "path = \"./\" + path\n",
    "os.chdir(path)\n",
    "print(os.getcwd())\n",
    "import glob\n",
    "files = glob.glob(\"*.csv\")\n",
    "import warnings\n",
    "warnings.simplefilter('ignore')\n",
    "data = pandas.DataFrame(index=pandas.read_csv(files[0], skiprows=46, header=None)[0].values)\n",
    "for filename in files:\n",
    "\tdata[filename[19:25]]=pandas.read_csv(filename, skiprows=46, header=None)[3].values\n",
    "data.columns = data.columns.astype(int) - data.columns.astype(int)[0]\n",
    "os.chdir(\"../\")\n",
    "data.to_csv(\"data.csv\")\n",
    "data"
   ]
  }
 ],
 "metadata": {
  "kernelspec": {
   "display_name": "Python 3.9.13 ('base')",
   "language": "python",
   "name": "python3"
  },
  "language_info": {
   "codemirror_mode": {
    "name": "ipython",
    "version": 3
   },
   "file_extension": ".py",
   "mimetype": "text/x-python",
   "name": "python",
   "nbconvert_exporter": "python",
   "pygments_lexer": "ipython3",
   "version": "3.9.15"
  },
  "vscode": {
   "interpreter": {
    "hash": "aa931a12cd616f100a3dbf0df00067e1067e9b65b97740d9adc59c84adb05e7e"
   }
  }
 },
 "nbformat": 4,
 "nbformat_minor": 4
}
