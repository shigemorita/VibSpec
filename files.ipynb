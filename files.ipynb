{
 "cells": [
  {
   "cell_type": "code",
   "execution_count": null,
   "metadata": {},
   "outputs": [],
   "source": [
    "import numpy\n",
    "import pandas"
   ]
  },
  {
   "cell_type": "code",
   "execution_count": null,
   "metadata": {},
   "outputs": [],
   "source": [
    "# フォルダ変更\n",
    "flag = False\n",
    "# flag = True\n",
    "import os\n",
    "path = os.getcwd()\n",
    "print(path)\n",
    "if flag:\n",
    "    path = \"./data\"  # 変更後のフォルダ\n",
    "    os.chdir(path)\n",
    "    print(os.getcwd())"
   ]
  },
  {
   "cell_type": "code",
   "execution_count": null,
   "metadata": {},
   "outputs": [],
   "source": [
    "# pandas.DataFrame 読み込み\n",
    "filename = \"dataframe.csv\"\n",
    "data = pandas.read_csv(filename, header=0, index_col=0).T\n",
    "data.index = pandas.read_csv(filename, header=None, index_col=0).iloc[0]\n",
    "data.index.name=\"\"\n",
    "data.T.plot(legend=None, xlim=[data.columns.max(), data.columns.min()])"
   ]
  },
  {
   "cell_type": "code",
   "execution_count": null,
   "metadata": {},
   "outputs": [],
   "source": [
    "# pandas.DataFrame 保存\n",
    "flag = False\n",
    "#flag = True\n",
    "filename = filename[:-4] + \"_.csv\"\n",
    "if flag: data.T.to_csv(filename)"
   ]
  },
  {
   "cell_type": "code",
   "execution_count": null,
   "metadata": {},
   "outputs": [],
   "source": [
    "# pandas.Seires 読み込み\n",
    "filename = \"series.csv\"\n",
    "data = pandas.read_csv(filename, header=None, index_col=0, squeeze=True)\n",
    "data.plot()"
   ]
  },
  {
   "cell_type": "code",
   "execution_count": null,
   "metadata": {},
   "outputs": [],
   "source": [
    "# pandas.Series 保存\n",
    "flag = False\n",
    "#flag = True\n",
    "filename = filename[:-4] + \"_.csv\"\n",
    "if flag: buff.to_csv(filename, header=False)"
   ]
  },
  {
   "cell_type": "code",
   "execution_count": null,
   "metadata": {},
   "outputs": [],
   "source": [
    "# 1つの pandas.DataFrame を読み込み，複数の pandas.Series に分解して保存\n",
    "filename = \"dataframe.csv\"\n",
    "data = pandas.read_csv(filename, header=0, index_col=0).T\n",
    "data.index = pandas.read_csv(filename, header=None, index_col=0).iloc[0]\n",
    "data.index.name=\"\"\n",
    "for i in range(data.index.shape[0]):\n",
    "    buff = pandas.Series(data.iloc[i], index=data.columns)   \n",
    "    buff.to_csv(filename[:-4] + \"_\" + \"{0:03d}\".format(i) + \".csv\", header=False)"
   ]
  },
  {
   "cell_type": "code",
   "execution_count": null,
   "metadata": {},
   "outputs": [],
   "source": [
    "# 複数の panas.Series を読み込み，1つの pandas.DataFrame にまとめて保存\n",
    "import glob\n",
    "filename = \"dataframe_\"\n",
    "files = glob.glob(filename + \"*.csv\")\n",
    "data = pandas.DataFrame(index=pandas.read_csv(files[0], header=None, index_col=0).index)\n",
    "for f in files:\n",
    "    buff = pandas.read_csv(f, header=None, index_col=0).values\n",
    "    data[f] = buff\n",
    "data.index.name=\"\"\n",
    "data.to_csv(filename + \".csv\")"
   ]
  },
  {
   "cell_type": "code",
   "execution_count": null,
   "metadata": {},
   "outputs": [],
   "source": [
    "# pandas.DataFrame を読み込み，説明変数（波数）を反転させて保存\n",
    "filename = \"dataframe.csv\"\n",
    "data = pandas.read_csv(filename, header=0, index_col=0).T\n",
    "data.index = pandas.read_csv(filename, header=None, index_col=0).iloc[0]\n",
    "data.index.name=\"\"\n",
    "data.iloc[:, ::-1].T.to_csv(filename[:-4] + \"_r.csv\")"
   ]
  },
  {
   "cell_type": "code",
   "execution_count": null,
   "metadata": {},
   "outputs": [],
   "source": [
    "# pandas.DataFrame を読み込み，転置行列に変換して保存\n",
    "filename = \"dataframe.csv\"\n",
    "data = pandas.read_csv(filename, header=0, index_col=0).T\n",
    "data.index = pandas.read_csv(filename, header=None, index_col=0).iloc[0]\n",
    "data.index.name=\"\"\n",
    "data.to_csv(filename[:-4] + \"_t.csv\")"
   ]
  },
  {
   "cell_type": "code",
   "execution_count": null,
   "metadata": {},
   "outputs": [],
   "source": [
    "# 横河 NR800 データを変換\n",
    "import glob\n",
    "files = glob.glob(\"*.csv\")\n",
    "for filename in files:\n",
    "\tf = open(filename, \"r\")\n",
    "\tdata = f.readlines()\n",
    "\tf.close()\n",
    "\twith open(\"_\" + filename, mode=\"w\") as f: f.writelines(data[37:-1])\n",
    "\tf.close()"
   ]
  }
 ],
 "metadata": {
  "kernelspec": {
   "display_name": "Python 3 (ipykernel)",
   "language": "python",
   "name": "python3"
  },
  "language_info": {
   "codemirror_mode": {
    "name": "ipython",
    "version": 3
   },
   "file_extension": ".py",
   "mimetype": "text/x-python",
   "name": "python",
   "nbconvert_exporter": "python",
   "pygments_lexer": "ipython3",
   "version": "3.8.12"
  }
 },
 "nbformat": 4,
 "nbformat_minor": 4
}
