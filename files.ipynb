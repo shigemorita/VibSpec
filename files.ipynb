{
 "cells": [
  {
   "cell_type": "code",
   "execution_count": 1,
   "metadata": {},
   "outputs": [],
   "source": [
    "import numpy\n",
    "import pandas"
   ]
  },
  {
   "cell_type": "code",
   "execution_count": 2,
   "metadata": {},
   "outputs": [],
   "source": [
    "# 1つの CSV ファイル（pandas.DataFrame 構造）を読み込み，複数の CSV ファイル（pandas.Series 構造）に分解して保存\n",
    "filename = \"paper.csv\"\n",
    "data = pandas.read_csv(filename, header=0, index_col=0).T\n",
    "data.index = pandas.read_csv(filename, header=None, index_col=0).iloc[0]\n",
    "data.index.name=\"\"\n",
    "for i in range(data.index.shape[0]):\n",
    "    buff = pandas.Series(data.iloc[i], index=data.columns)   \n",
    "    buff.to_csv(filename[:-4] + \"_\" + \"{0:03d}\".format(i) + \".csv\", header=False)"
   ]
  },
  {
   "cell_type": "code",
   "execution_count": 3,
   "metadata": {},
   "outputs": [],
   "source": [
    "# 複数の CSV ファイル（panas.Series 構造）を読み込み，1つの CSV ファイル（pandas.DataFrame 構造）にまとめて保存\n",
    "import glob\n",
    "filename = \"paper_\"\n",
    "files = glob.glob(filename + \"*.csv\")\n",
    "data = pandas.DataFrame(index=pandas.read_csv(files[0], header=None, index_col=0).index)\n",
    "for f in files:\n",
    "    buff = pandas.read_csv(f, header=None, index_col=0).values\n",
    "    data[f] = buff\n",
    "data.index.name=\"\"\n",
    "data.to_csv(filename + \".csv\")"
   ]
  },
  {
   "cell_type": "code",
   "execution_count": 3,
   "metadata": {},
   "outputs": [],
   "source": [
    "# pandas.DataFrame 構造の CSV ファイルを読み込み，説明変数を反転させて保存\n",
    "filename = \"paper.csv\"\n",
    "data = pandas.read_csv(filename, header=0, index_col=0).T\n",
    "data.index = pandas.read_csv(filename, header=None, index_col=0).iloc[0]\n",
    "data.index.name=\"\"\n",
    "data.iloc[:, ::-1].T.to_csv(filename[:-4] + \"_r.csv\")"
   ]
  },
  {
   "cell_type": "code",
   "execution_count": 4,
   "metadata": {},
   "outputs": [],
   "source": [
    "# pandas.DataFrame 構造の CSV ファイルを読み込み，転置行列に変換して保存\n",
    "filename = \"paper.csv\"\n",
    "data = pandas.read_csv(filename, header=0, index_col=0).T\n",
    "data.index = pandas.read_csv(filename, header=None, index_col=0).iloc[0]\n",
    "data.index.name=\"\"\n",
    "data.to_csv(filename[:-4] + \"_t.csv\")"
   ]
  }
 ],
 "metadata": {
  "kernelspec": {
   "display_name": "Python 3 (ipykernel)",
   "language": "python",
   "name": "python3"
  },
  "language_info": {
   "codemirror_mode": {
    "name": "ipython",
    "version": 3
   },
   "file_extension": ".py",
   "mimetype": "text/x-python",
   "name": "python",
   "nbconvert_exporter": "python",
   "pygments_lexer": "ipython3",
   "version": "3.8.12"
  }
 },
 "nbformat": 4,
 "nbformat_minor": 4
}
