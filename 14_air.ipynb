{
 "cells": [
  {
   "cell_type": "code",
   "execution_count": 1,
   "metadata": {},
   "outputs": [],
   "source": [
    "import numpy\n",
    "import pandas\n",
    "from matplotlib import pyplot"
   ]
  },
  {
   "cell_type": "code",
   "execution_count": null,
   "metadata": {},
   "outputs": [],
   "source": [
    "# データセットの読み込み\n",
    "filename = \"airdata.csv\"\n",
    "data = pandas.read_csv(filename, header=0, index_col=0).T\n",
    "data.index = pandas.read_csv(filename, header=None, index_col=0).iloc[0].values\n",
    "xmax, xmin = data.columns.max(), data.columns.min()\n",
    "data.T.plot()\n",
    "pyplot.gca().invert_xaxis()\n",
    "pyplot.gca().legend_ = None\n",
    "pyplot.show()"
   ]
  },
  {
   "cell_type": "code",
   "execution_count": null,
   "metadata": {},
   "outputs": [],
   "source": [
    "# 空気スペクトルの読み込み\n",
    "airfilename = \"air.csv\"\n",
    "air = pandas.read_csv(airfilename, header=None, index_col=0).squeeze()\n",
    "air.index.name = ''\n",
    "air.plot()\n",
    "pyplot.gca().invert_xaxis()\n",
    "pyplot.show()"
   ]
  },
  {
   "cell_type": "code",
   "execution_count": null,
   "metadata": {},
   "outputs": [],
   "source": [
    "# 横軸範囲 / change horizontal region\n",
    "xmax, xmin = 4000, 1100  # 範囲\n",
    "buff = data.iloc[:, (xmin <= data.columns) & (data.columns <= xmax)]\n",
    "buff.T.plot()\n",
    "pyplot.gca().invert_xaxis()\n",
    "pyplot.gca().legend_ = None\n",
    "pyplot.show()\n",
    "airbuff = air.iloc[(xmin <= air.index) & (air.index <= xmax)]\n",
    "airbuff.plot()\n",
    "pyplot.gca().invert_xaxis()\n",
    "pyplot.show()\n",
    "#data, air = buff, airbuff"
   ]
  },
  {
   "cell_type": "code",
   "execution_count": null,
   "metadata": {},
   "outputs": [],
   "source": [
    "# 水蒸気補正に適した領域の指定\n",
    "xmax, xmin = 4000, 3700  # 領域指定（データセットのスペクトルに信号がない領域を選ぶ）\n",
    "buff = data.iloc[:, (xmin <= data.columns) & (data.columns <= xmax)]\n",
    "buff = (buff.T - buff.iloc[:,-1]).T\n",
    "x = buff.columns\n",
    "from scipy.spatial import ConvexHull\n",
    "for i in range(len(buff)):\n",
    "\ty = buff.iloc[i].values\n",
    "\tv = ConvexHull(list(zip(x, y))).vertices\n",
    "\tv = numpy.roll(v, -v.argmin())\n",
    "\tv = v[:v.argmax()]\n",
    "\tbuff.iloc[i] = buff.iloc[i] - numpy.interp(x, x[v], y[v])\n",
    "buff.T.plot()\n",
    "pyplot.gca().invert_xaxis()\n",
    "pyplot.gca().legend_ = None\n",
    "pyplot.show()\n",
    "air = air - air.min()\n",
    "airbuff = air.iloc[(xmin <= air.index) & (air.index <= xmax)]\n",
    "x = airbuff.index\n",
    "y = airbuff.values\n",
    "v = ConvexHull(list(zip(x, y))).vertices\n",
    "v = numpy.roll(v, -v.argmin())\n",
    "v = v[:v.argmax()]\n",
    "airbuff = airbuff - numpy.interp(x, x[v], y[v])\n",
    "airbuff.plot()\n",
    "pyplot.gca().invert_xaxis()\n",
    "pyplot.show()"
   ]
  },
  {
   "cell_type": "code",
   "execution_count": null,
   "metadata": {},
   "outputs": [],
   "source": [
    "# 水蒸気補正\n",
    "sub = data.values - numpy.array([buff.T.sum() / airbuff.sum()]).T * air.values\n",
    "buff2 = pandas.DataFrame(sub, index=data.index, columns=data.columns)\n",
    "buff2.T.plot(legend=None, xlim=[data.columns.max(), data.columns.min()])\n",
    "pyplot.show()\n",
    "data = buff2"
   ]
  },
  {
   "cell_type": "code",
   "execution_count": null,
   "metadata": {},
   "outputs": [],
   "source": [
    "# 横軸範囲 / change horizontal region\n",
    "xmax, xmin = 4000, 3000  # 範囲\n",
    "buff = data.iloc[:, (xmin <= data.columns) & (data.columns <= xmax)]\n",
    "buff.T.plot()\n",
    "pyplot.gca().invert_xaxis()\n",
    "pyplot.gca().legend_ = None\n",
    "pyplot.show()\n",
    "#data = buff"
   ]
  },
  {
   "cell_type": "code",
   "execution_count": 8,
   "metadata": {},
   "outputs": [],
   "source": [
    "#data.T.to_csv(filename[:-4] + \"_.csv\")"
   ]
  }
 ],
 "metadata": {
  "kernelspec": {
   "display_name": "base",
   "language": "python",
   "name": "python3"
  },
  "language_info": {
   "codemirror_mode": {
    "name": "ipython",
    "version": 3
   },
   "file_extension": ".py",
   "mimetype": "text/x-python",
   "name": "python",
   "nbconvert_exporter": "python",
   "pygments_lexer": "ipython3",
   "version": "3.12.3"
  },
  "orig_nbformat": 4,
  "vscode": {
   "interpreter": {
    "hash": "aa931a12cd616f100a3dbf0df00067e1067e9b65b97740d9adc59c84adb05e7e"
   }
  }
 },
 "nbformat": 4,
 "nbformat_minor": 2
}
