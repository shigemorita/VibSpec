{
 "cells": [
  {
   "cell_type": "code",
   "execution_count": null,
   "metadata": {},
   "outputs": [],
   "source": [
    "import numpy\n",
    "import pandas\n",
    "from matplotlib import pyplot\n",
    "filename = \"pmea.csv\"\n",
    "data = pandas.read_csv(filename, header=0, index_col=0).T\n",
    "xmax, xmin = 1500, 1000\n",
    "data = -data.iloc[:, (xmin <= data.columns) & (data.columns <= xmax)]\n",
    "data.T.plot(legend=None, xlim=[data.columns.max(), data.columns.min()])"
   ]
  },
  {
   "cell_type": "code",
   "execution_count": null,
   "metadata": {},
   "outputs": [],
   "source": [
    "# SVD\n",
    "from sklearn.decomposition import TruncatedSVD\n",
    "model = TruncatedSVD().fit(data.values)\n",
    "loading = pandas.DataFrame(model.components_, columns=data.columns)\n",
    "loading.T.plot(xlim=[data.columns.max(), data.columns.min()])\n",
    "score = pandas.DataFrame(model.transform(data.values), index=data.index)\n",
    "score.plot()"
   ]
  },
  {
   "cell_type": "code",
   "execution_count": null,
   "metadata": {},
   "outputs": [],
   "source": [
    "# PCA\n",
    "i = 2\n",
    "from sklearn.decomposition import PCA\n",
    "model = PCA().fit(data.values)\n",
    "loading = pandas.DataFrame(model.components_, columns=data.columns)\n",
    "loading.iloc[:i].T.plot(xlim=[data.columns.max(), data.columns.min()])\n",
    "score = pandas.DataFrame(model.transform(data.values), index=data.index)\n",
    "score.iloc[:, :i].plot()"
   ]
  },
  {
   "cell_type": "code",
   "execution_count": null,
   "metadata": {},
   "outputs": [],
   "source": [
    "# FA\n",
    "i = 2\n",
    "from sklearn.decomposition import FactorAnalysis\n",
    "model = FactorAnalysis().fit(data.values)\n",
    "loading = pandas.DataFrame(model.components_, columns=data.columns)\n",
    "loading.iloc[:i].T.plot(xlim=[data.columns.max(), data.columns.min()])\n",
    "score = pandas.DataFrame(model.transform(data.values), index=data.index)\n",
    "score.iloc[:, :i].plot()"
   ]
  },
  {
   "cell_type": "code",
   "execution_count": null,
   "metadata": {},
   "outputs": [],
   "source": [
    "# ICA\n",
    "i = 2\n",
    "from sklearn.decomposition import FastICA\n",
    "model = FastICA(n_components=i).fit(data.values)\n",
    "loading = pandas.DataFrame(model.components_, columns=data.columns)\n",
    "loading.iloc[:i].T.plot(xlim=[data.columns.max(), data.columns.min()])\n",
    "score = pandas.DataFrame(model.transform(data.values), index=data.index)\n",
    "score.iloc[:, :i].plot()"
   ]
  },
  {
   "cell_type": "code",
   "execution_count": null,
   "metadata": {},
   "outputs": [],
   "source": [
    "# NMF\n",
    "i = 2\n",
    "from sklearn.decomposition import NMF\n",
    "buff = data\n",
    "buff[buff < 0] = 0\n",
    "buff.T.plot(legend=None, xlim=[buff.columns.max(), buff.columns.min()])\n",
    "model = NMF().fit(buff.values)\n",
    "loading = pandas.DataFrame(model.components_, columns=data.columns)\n",
    "loading.iloc[:i].T.plot(xlim=[buff.columns.max(), buff.columns.min()])\n",
    "score = pandas.DataFrame(model.transform(buff.values), index=data.index)\n",
    "score.iloc[:, :i].plot()"
   ]
  },
  {
   "cell_type": "code",
   "execution_count": null,
   "metadata": {},
   "outputs": [],
   "source": [
    "# t-SNE\n",
    "i = 2\n",
    "from sklearn.manifold import TSNE\n",
    "model = TSNE(n_components=i).fit_transform(data.values)\n",
    "score = pandas.DataFrame(model, index=data.index)\n",
    "score.iloc[:, :i].plot()"
   ]
  },
  {
   "cell_type": "code",
   "execution_count": null,
   "metadata": {},
   "outputs": [],
   "source": [
    "# スコア-スコア プロット\n",
    "h, v = 0, 1\n",
    "pyplot.scatter(score.T.iloc[h], score.T.iloc[v])"
   ]
  },
  {
   "cell_type": "code",
   "execution_count": null,
   "metadata": {},
   "outputs": [],
   "source": [
    "# 逆変換\n",
    "cutoff = 2\n",
    "buff = score\n",
    "buff.iloc[:, cutoff:] = 0\n",
    "buff = pandas.DataFrame(model.inverse_transform(buff), index=buff.index, columns=data.columns)\n",
    "buff.T.plot(legend=None, xlim=[buff.columns.max(), buff.columns.min()])"
   ]
  },
  {
   "cell_type": "code",
   "execution_count": null,
   "metadata": {},
   "outputs": [],
   "source": [
    "# ローディングとスコアの符号を逆転\n",
    "i = 0\n",
    "loading.iloc[i] = -1 * loading.iloc[i]\n",
    "score.iloc[:, i] = -1 * score.iloc[:, i]\n",
    "i = 2\n",
    "loading.iloc[:i].T.plot(xlim=[data.columns.max(), data.columns.min()])\n",
    "score.iloc[:, :i].plot()"
   ]
  },
  {
   "cell_type": "code",
   "execution_count": null,
   "metadata": {},
   "outputs": [],
   "source": [
    "# ローディングとスコアの保存\n",
    "flag = False\n",
    "if flag:\n",
    "    loading.T.to_csv(filename[:-4] + \"_loading.csv\")\n",
    "    score.to_csv(filename[:-4] + \"_score.csv\")"
   ]
  }
 ],
 "metadata": {
  "interpreter": {
   "hash": "398c91425ba9501ad3ceb4348a18eb4e653d71098c9fe91723be7ca895e75769"
  },
  "kernelspec": {
   "display_name": "Python 3.8.12 64-bit ('base': conda)",
   "name": "python3"
  },
  "language_info": {
   "codemirror_mode": {
    "name": "ipython",
    "version": 3
   },
   "file_extension": ".py",
   "mimetype": "text/x-python",
   "name": "python",
   "nbconvert_exporter": "python",
   "pygments_lexer": "ipython3",
   "version": "3.8.12"
  }
 },
 "nbformat": 4,
 "nbformat_minor": 4
}
