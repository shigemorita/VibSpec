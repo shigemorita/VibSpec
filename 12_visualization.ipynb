{
 "cells": [
  {
   "cell_type": "code",
   "execution_count": null,
   "metadata": {},
   "outputs": [],
   "source": [
    "import numpy\n",
    "import pandas\n",
    "from matplotlib import pyplot\n",
    "filename = \"dataframe.csv\"\n",
    "data = pandas.read_csv(filename, header=0, index_col=0).T\n",
    "data.index = pandas.read_csv(filename, header=None, index_col=0).iloc[0].values\n",
    "xmax, xmin = 3700, 3000\n",
    "data = data.iloc[:, (xmin <= data.columns) & (data.columns <= xmax)]\n",
    "data.T.plot()\n",
    "pyplot.gca().invert_xaxis()\n",
    "pyplot.gca().legend_ = None\n",
    "pyplot.show()"
   ]
  },
  {
   "cell_type": "code",
   "execution_count": null,
   "metadata": {},
   "outputs": [],
   "source": [
    "# 0次モーメント（面積強度）/ zeroth moment (area)\n",
    "buff = data.sum(axis=1)\n",
    "pyplot.scatter(buff.index, buff.values)\n",
    "pyplot.show()"
   ]
  },
  {
   "cell_type": "code",
   "execution_count": null,
   "metadata": {},
   "outputs": [],
   "source": [
    "# 1次モーメント（重心位置）/ first moment (barycentric position)\n",
    "buff = (data.columns * data).sum(axis=1) / data.sum(axis=1)\n",
    "pyplot.scatter(buff.index, buff.values)\n",
    "pyplot.show()"
   ]
  },
  {
   "cell_type": "code",
   "execution_count": null,
   "metadata": {},
   "outputs": [],
   "source": [
    "# 2次モーメントの平方根（幅）/ root of 2nd moment (width)\n",
    "buff = (data.columns * data).sum(axis=1) / data.sum(axis=1)\n",
    "buff = (((numpy.array([data.columns]).T - buff.values) ** 2).T * data).sum(axis=1) / data.sum(axis=1)\n",
    "buff = buff ** 0.5\n",
    "pyplot.scatter(buff.index, buff.values)\n",
    "pyplot.show()"
   ]
  },
  {
   "cell_type": "code",
   "execution_count": null,
   "metadata": {},
   "outputs": [],
   "source": [
    "# 最大値検出 / find maximum\n",
    "buff = pandas.DataFrame([data.idxmax(axis=1), data.max(axis=1)], columns=data.index).T\n",
    "buff.columns = [\"position\", \"intensity\"]\n",
    "pyplot.plot(data.T,color=\"blue\", linewidth=0.5)\n",
    "pyplot.scatter(buff.iloc[:, 0], buff.iloc[:, 1], color=\"red\")\n",
    "pyplot.gca().invert_xaxis()\n",
    "pyplot.show()"
   ]
  },
  {
   "cell_type": "code",
   "execution_count": null,
   "metadata": {},
   "outputs": [],
   "source": [
    "# 最小値検出 / find minimum\n",
    "buff = pandas.DataFrame([data.idxmin(axis=1), data.min(axis=1)], columns=data.index).T\n",
    "buff.columns = [\"position\", \"intensity\"]\n",
    "pyplot.plot(data.T,color=\"blue\", linewidth=0.5)\n",
    "pyplot.scatter(buff.iloc[:, 0], buff.iloc[:, 1], color=\"red\")\n",
    "pyplot.gca().invert_xaxis()\n",
    "pyplot.show()"
   ]
  },
  {
   "cell_type": "code",
   "execution_count": null,
   "metadata": {},
   "outputs": [],
   "source": [
    "# スライス / slice at\n",
    "x = 3400\n",
    "xi = numpy.abs(numpy.asarray(data.columns) - x).argmin()\n",
    "print(\"slice at\", data.columns[xi])\n",
    "buff = data.iloc[:, xi]\n",
    "pyplot.scatter(buff.index, buff.values)\n",
    "pyplot.show()"
   ]
  },
  {
   "cell_type": "code",
   "execution_count": null,
   "metadata": {},
   "outputs": [],
   "source": [
    "# スペクトル抽出 / spectrum extraction\n",
    "x = 200\n",
    "xi = numpy.abs(numpy.asarray(data.index) - x).argmin()\n",
    "print(\"extraction at\", data.index[xi])\n",
    "buff = data.iloc[xi]\n",
    "buff.plot()\n",
    "pyplot.gca().invert_xaxis()\n",
    "pyplot.show()"
   ]
  },
  {
   "cell_type": "code",
   "execution_count": null,
   "metadata": {},
   "outputs": [],
   "source": [
    "filename = \"dataframe.csv\"\n",
    "data = pandas.read_csv(filename, header=0, index_col=0).T\n",
    "data.index = pandas.read_csv(filename, header=None, index_col=0).iloc[0].values\n",
    "xmax, xmin = 1900, 1000\n",
    "data = data.iloc[0, (xmin <= data.columns) & (data.columns <= xmax)]\n",
    "data.plot()\n",
    "pyplot.gca().invert_xaxis()\n",
    "pyplot.show()"
   ]
  },
  {
   "cell_type": "code",
   "execution_count": null,
   "metadata": {},
   "outputs": [],
   "source": [
    "# ピーク検出 / peak detection\n",
    "from scipy import signal\n",
    "spec = data\n",
    "peakindex = signal.find_peaks(spec.values, prominence=0.005)[0]\n",
    "#peakindex = signal.argrelmax(spec.values, order=5)[0]\n",
    "#peakindex = signal.argrelmin(spec.values, order=5)[0]\n",
    "#peakindex = signal.argrelextrema(spec.values, numpy.greater, order=5)[0]\n",
    "#peakindex = signal.argrelextrema(spec.values, numpy.less, order=5)[0]\n",
    "buff = spec.iloc[peakindex]\n",
    "pyplot.plot(spec)\n",
    "pyplot.scatter(buff.index, buff.values, color=\"red\")\n",
    "for i in range(len(buff)): pyplot.text(buff.index[i], buff.values[i], buff.index[i], rotation=90, horizontalalignment=\"center\", verticalalignment=\"bottom\")\n",
    "pyplot.gca().invert_xaxis()\n",
    "pyplot.show()"
   ]
  }
 ],
 "metadata": {
  "kernelspec": {
   "display_name": "base",
   "language": "python",
   "name": "python3"
  },
  "language_info": {
   "codemirror_mode": {
    "name": "ipython",
    "version": 3
   },
   "file_extension": ".py",
   "mimetype": "text/x-python",
   "name": "python",
   "nbconvert_exporter": "python",
   "pygments_lexer": "ipython3",
   "version": "3.12.3"
  },
  "vscode": {
   "interpreter": {
    "hash": "aa931a12cd616f100a3dbf0df00067e1067e9b65b97740d9adc59c84adb05e7e"
   }
  }
 },
 "nbformat": 4,
 "nbformat_minor": 4
}
