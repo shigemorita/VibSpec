{
 "cells": [
  {
   "cell_type": "code",
   "execution_count": null,
   "metadata": {},
   "outputs": [],
   "source": [
    "#from urllib.request import urlretrieve\n",
    "#import zipfile\n",
    "#urlretrieve(\"http://www.models.life.ku.dk/sites/default/files/HPLCforweb_0.zip\", \"HPLCforweb_0.zip\")\n",
    "#zf = zipfile.ZipFile(\"./HPLCforweb_0.zip\", \"r\")\n",
    "#zf.extractall()\n",
    "#zf.close()"
   ]
  },
  {
   "cell_type": "code",
   "execution_count": null,
   "metadata": {},
   "outputs": [],
   "source": [
    "import pandas\n",
    "import numpy\n",
    "from matplotlib import pyplot\n",
    "from sklearn.model_selection import GridSearchCV\n",
    "from sklearn.metrics import confusion_matrix, classification_report\n",
    "from scipy.io import loadmat\n",
    "olive = loadmat(\"olive.mat\")\n",
    "data = pandas.DataFrame(olive[\"HPLCforweb\"][0][0][7])\n",
    "data.index = olive[\"HPLCforweb\"][0][0][12][0][0][0]\n",
    "from sklearn.ensemble import IsolationForest\n",
    "model = IsolationForest(contamination=0.05).fit(data)\n",
    "data = data[model.predict(data) == 1]\n",
    "data.T.plot(legend=None)\n",
    "pyplot.show()"
   ]
  },
  {
   "cell_type": "code",
   "execution_count": null,
   "metadata": {},
   "outputs": [],
   "source": [
    "from sklearn.model_selection import train_test_split\n",
    "train, test = train_test_split(data, train_size=0.5, random_state=0)\n",
    "print(\"training data\")\n",
    "print(train.index.value_counts())\n",
    "print(\"\\ntest data\")\n",
    "print(test.index.value_counts())"
   ]
  },
  {
   "cell_type": "code",
   "execution_count": null,
   "metadata": {},
   "outputs": [],
   "source": [
    "# LDA\n",
    "from sklearn.discriminant_analysis import LinearDiscriminantAnalysis\n",
    "model = LinearDiscriminantAnalysis().fit(train.values, train.index)\n",
    "print(\"model:\", model)\n",
    "print(\"score =\", model.score(test.values, test.index))"
   ]
  },
  {
   "cell_type": "code",
   "execution_count": null,
   "metadata": {},
   "outputs": [],
   "source": [
    "# SGD\n",
    "from sklearn.linear_model import SGDClassifier\n",
    "model = SGDClassifier().fit(train, train.index)\n",
    "print(\"model:\", model)\n",
    "print(\"score =\", model.score(test.values, test.index))"
   ]
  },
  {
   "cell_type": "code",
   "execution_count": null,
   "metadata": {},
   "outputs": [],
   "source": [
    "# Logistic Regression\n",
    "from sklearn.linear_model import LogisticRegression\n",
    "grid = 20\n",
    "p1 = numpy.logspace(-5, -4, num=grid)\n",
    "parm = {\"C\": p1}\n",
    "search = GridSearchCV(LogisticRegression(), parm).fit(train.values, train.index)\n",
    "pyplot.scatter(p1, search.cv_results_[\"mean_test_score\"])\n",
    "pyplot.show()\n",
    "model = search.best_estimator_.fit(train.values, train.index)\n",
    "print(\"model:\", model)\n",
    "print(\"score =\", model.score(test.values, test.index))"
   ]
  },
  {
   "cell_type": "code",
   "execution_count": null,
   "metadata": {},
   "outputs": [],
   "source": [
    "# SVM\n",
    "from sklearn.svm import SVC\n",
    "grid = 20\n",
    "p1 = numpy.logspace(0, 2, num=grid)\n",
    "p2 = numpy.logspace(-3, -1, num=grid)\n",
    "parm = {\"C\": p1, \"gamma\": p2}\n",
    "search = GridSearchCV(SVC(kernel=\"rbf\"), parm).fit(train.values, train.index)\n",
    "map = pandas.DataFrame(search.cv_results_[\"mean_test_score\"].reshape(grid, grid), index=p1, columns=p2)\n",
    "import seaborn\n",
    "seaborn.heatmap(map)\n",
    "pyplot.ylabel(\"C\")\n",
    "pyplot.xlabel(\"gamma\")\n",
    "pyplot.show()\n",
    "model = search.best_estimator_.fit(train.values, train.index)\n",
    "print(\"model:\", model)\n",
    "print(\"score =\", model.score(test.values, test.index))"
   ]
  },
  {
   "cell_type": "code",
   "execution_count": null,
   "metadata": {},
   "outputs": [],
   "source": [
    "# Perceptron\n",
    "from sklearn.linear_model import Perceptron\n",
    "model = Perceptron().fit(train.values, train.index)\n",
    "print(\"model:\", model)\n",
    "print(\"score =\", model.score(test.values, test.index))"
   ]
  },
  {
   "cell_type": "code",
   "execution_count": null,
   "metadata": {},
   "outputs": [],
   "source": [
    "# NN\n",
    "from sklearn.neural_network import MLPClassifier\n",
    "model = MLPClassifier().fit(train.values, train.index)\n",
    "print(\"model:\", model)\n",
    "print(\"score =\", model.score(test.values, test.index))"
   ]
  },
  {
   "cell_type": "code",
   "execution_count": null,
   "metadata": {},
   "outputs": [],
   "source": [
    "# Random Forest\n",
    "from sklearn.ensemble import RandomForestClassifier\n",
    "model = RandomForestClassifier().fit(train, train.index)\n",
    "print(\"model:\", model)\n",
    "print(\"score =\", model.score(test.values, test.index))"
   ]
  },
  {
   "cell_type": "code",
   "execution_count": null,
   "metadata": {},
   "outputs": [],
   "source": [
    "print(pandas.DataFrame(confusion_matrix(train.index, model.predict(train))))\n",
    "print(classification_report(train.index, model.predict(train)))\n",
    "print(pandas.DataFrame(confusion_matrix(test.index, model.predict(test))))\n",
    "print(classification_report(test.index, model.predict(test)))"
   ]
  }
 ],
 "metadata": {
  "kernelspec": {
   "display_name": "Python 3.9.13 ('base')",
   "language": "python",
   "name": "python3"
  },
  "language_info": {
   "codemirror_mode": {
    "name": "ipython",
    "version": 3
   },
   "file_extension": ".py",
   "mimetype": "text/x-python",
   "name": "python",
   "nbconvert_exporter": "python",
   "pygments_lexer": "ipython3",
   "version": "3.9.18"
  },
  "orig_nbformat": 4,
  "vscode": {
   "interpreter": {
    "hash": "aa931a12cd616f100a3dbf0df00067e1067e9b65b97740d9adc59c84adb05e7e"
   }
  }
 },
 "nbformat": 4,
 "nbformat_minor": 2
}
