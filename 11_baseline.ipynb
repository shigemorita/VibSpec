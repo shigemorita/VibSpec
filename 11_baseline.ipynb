{
 "cells": [
  {
   "cell_type": "code",
   "execution_count": null,
   "metadata": {},
   "outputs": [],
   "source": [
    "import pandas\n",
    "import numpy\n",
    "from matplotlib import pyplot\n",
    "filename = \"dataframe.csv\"\n",
    "data = pandas.read_csv(filename, header=0, index_col=0).T\n",
    "data.index = data.index.astype(float)\n",
    "xmax, xmin = 2000, 1000\n",
    "data = data.iloc[:, (xmin <= data.columns) & (data.columns <= xmax)]\n",
    "data.T.plot(legend=None, xlim=[data.columns.max(), data.columns.min()])"
   ]
  },
  {
   "cell_type": "code",
   "execution_count": null,
   "metadata": {},
   "outputs": [],
   "source": [
    "# 1点でベースライン補正 / baseline correction by one point\n",
    "flag = False\n",
    "#flag = True\n",
    "x = 2000  # 補正点\n",
    "y = data.iloc[:, numpy.abs(numpy.asarray(data.columns) - x).argmin()]\n",
    "buff = (data.T - y).T\n",
    "buff.T.plot(legend=None, xlim=[buff.columns.max(), buff.columns.min()])\n",
    "if flag: data = buff"
   ]
  },
  {
   "cell_type": "code",
   "execution_count": null,
   "metadata": {},
   "outputs": [],
   "source": [
    "# 1領域でベースライン補正 / baseline correction by one region\n",
    "flag = False\n",
    "#flag = True\n",
    "xmax, xmin = 2000, 1900  # 補正領域\n",
    "y = data.iloc[:, (xmin < data.columns) & (data.columns < xmax)].T.min()\n",
    "buff = (data.T - y).T\n",
    "buff.T.plot(legend=None, xlim=[buff.columns.max(), buff.columns.min()])\n",
    "if flag: data = buff"
   ]
  },
  {
   "cell_type": "code",
   "execution_count": null,
   "metadata": {},
   "outputs": [],
   "source": [
    "# 2点でベースライン補正 / baseline correction by two points\n",
    "flag = False\n",
    "#flag = True\n",
    "x1, x2 = 2000, 1900  # 補正点\n",
    "y1 = data.iloc[:, numpy.abs(numpy.asarray(data.columns) - x1).argmin()]\n",
    "y2 = data.iloc[:, numpy.abs(numpy.asarray(data.columns) - x2).argmin()]\n",
    "a = (y2 - y1) / (x2 - x1)\n",
    "b = y1 - a * x1\n",
    "base = numpy.outer(a, data.columns) + numpy.array([b]).T\n",
    "buff = pandas.DataFrame(data - base, index=data.index, columns=data.columns)\n",
    "buff.T.plot(legend=None, xlim=[buff.columns.max(), buff.columns.min()])\n",
    "if flag: data = buff"
   ]
  },
  {
   "cell_type": "code",
   "execution_count": null,
   "metadata": {},
   "outputs": [],
   "source": [
    "# 2領域でベースライン補正 / baseline correction by two regions\n",
    "flag = False\n",
    "#flag = True\n",
    "xmax, xmin = 1700, 1500  # 領域1\n",
    "buff = data.iloc[:, (xmin < data.columns) & (data.columns < xmax)]\n",
    "x1, y1 = buff.idxmin(axis=1), buff.min(axis=1)\n",
    "xmax, xmin = 1300, 1100  # 領域2\n",
    "buff = data.iloc[:, (xmin < data.columns) & (data.columns < xmax)]\n",
    "x2, y2 = buff.idxmin(axis=1), buff.min(axis=1)\n",
    "a = (y2 - y1) / (x2 - x1)\n",
    "b = y1 - a * x1\n",
    "base = numpy.outer(a, data.columns) + numpy.array([b]).T\n",
    "buff = pandas.DataFrame(data - base, index=data.index, columns=data.columns)\n",
    "buff.T.plot(legend=None, xlim=[buff.columns.max(), buff.columns.min()])\n",
    "if flag: data = buff"
   ]
  },
  {
   "cell_type": "code",
   "execution_count": null,
   "metadata": {},
   "outputs": [],
   "source": [
    "# rubberband baseline correction\n",
    "flag = False\n",
    "#flag = True\n",
    "from scipy.spatial import ConvexHull\n",
    "buff = data\n",
    "x = data.columns\n",
    "for i in range(len(data)):\n",
    "\ty = data.iloc[i].values\n",
    "\tv = ConvexHull(list(zip(x, y))).vertices\n",
    "\tv = numpy.roll(v, -v.argmin())\n",
    "\tv = v[:v.argmax()]\n",
    "\tbuff.iloc[i] = data.iloc[i] - numpy.interp(x, x[v], y[v])\n",
    "buff.T.plot(legend=None, xlim=[data.columns.max(), data.columns.min()])\n",
    "pyplot.show()\n",
    "if flag: data = buff"
   ]
  },
  {
   "cell_type": "code",
   "execution_count": null,
   "metadata": {},
   "outputs": [],
   "source": [
    "# SNV\n",
    "flag = False\n",
    "#flag = True\n",
    "buff = ((data.T - data.T.mean()) / data.T.std()).T\n",
    "buff.T.plot(legend=None, xlim=[buff.columns.max(), buff.columns.min()])\n",
    "if flag: data = buff"
   ]
  },
  {
   "cell_type": "code",
   "execution_count": null,
   "metadata": {},
   "outputs": [],
   "source": [
    "# MSC\n",
    "flag = False\n",
    "#flag = True\n",
    "x = numpy.matrix(data)\n",
    "xc = x - x.mean(axis=1)\n",
    "r = x.mean(axis=0)\n",
    "rc = r - r.mean()\n",
    "b = xc * rc.T * (rc * rc.T).I\n",
    "buff = xc / b + r.mean()\n",
    "buff = pandas.DataFrame(buff, index=data.index, columns=data.columns)\n",
    "buff.T.plot(legend=None, xlim=[buff.columns.max(), buff.columns.min()])\n",
    "if flag: data = buff"
   ]
  }
 ],
 "metadata": {
  "interpreter": {
   "hash": "398c91425ba9501ad3ceb4348a18eb4e653d71098c9fe91723be7ca895e75769"
  },
  "kernelspec": {
   "display_name": "Python 3.8.12 64-bit ('base': conda)",
   "name": "python3"
  },
  "language_info": {
   "codemirror_mode": {
    "name": "ipython",
    "version": 3
   },
   "file_extension": ".py",
   "mimetype": "text/x-python",
   "name": "python",
   "nbconvert_exporter": "python",
   "pygments_lexer": "ipython3",
   "version": "3.9.18"
  }
 },
 "nbformat": 4,
 "nbformat_minor": 4
}
