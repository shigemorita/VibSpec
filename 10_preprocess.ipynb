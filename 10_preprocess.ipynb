{
 "cells": [
  {
   "cell_type": "code",
   "execution_count": null,
   "metadata": {},
   "outputs": [],
   "source": [
    "import pandas\n",
    "import numpy\n",
    "from matplotlib import pyplot\n",
    "filename = \"dataframe.csv\"\n",
    "data = pandas.read_csv(filename, header=0, index_col=0).T\n",
    "data.index = data.index.astype(float)\n",
    "data.T.plot(legend=None, xlim=[data.columns.max(), data.columns.min()])\n",
    "pyplot.show()"
   ]
  },
  {
   "cell_type": "code",
   "execution_count": null,
   "metadata": {},
   "outputs": [],
   "source": [
    "# 横軸範囲 / change horizontal region\n",
    "flag = False\n",
    "#flag = True\n",
    "xmax, xmin = 1500, 1000  # 範囲\n",
    "buff = data.iloc[:, (xmin <= data.columns) & (data.columns <= xmax)]\n",
    "buff.T.plot(legend=None, xlim=[buff.columns.max(), buff.columns.min()])\n",
    "pyplot.show()\n",
    "if flag: data = buff"
   ]
  },
  {
   "cell_type": "code",
   "execution_count": null,
   "metadata": {},
   "outputs": [],
   "source": [
    "# データスキップ / data skip\n",
    "flag = False\n",
    "#flag = True\n",
    "step = 2  # スキップする点数\n",
    "buff = data.iloc[::step]\n",
    "buff.T.plot(legend=None, xlim=[buff.columns.max(), buff.columns.min()])\n",
    "pyplot.show()\n",
    "if flag: data = buff"
   ]
  },
  {
   "cell_type": "code",
   "execution_count": null,
   "metadata": {},
   "outputs": [],
   "source": [
    "# 補完 / interpolation\n",
    "flag = False\n",
    "#flag = True\n",
    "xdiv = 1  # 補完間隔\n",
    "xmin = data.columns.min() // xdiv * xdiv + xdiv\n",
    "xmax = data.columns.max()\n",
    "from scipy.interpolate import interp1d\n",
    "ix = numpy.arange(xmin, xmax, xdiv)\n",
    "buff = pandas.DataFrame(index=data.index, columns=ix)\n",
    "for i in range(len(data)): buff.iloc[i] = interp1d(data.columns, data.iloc[i], kind=\"quadratic\")(ix)\n",
    "buff.T.plot(legend=None, xlim=[buff.columns.max(), buff.columns.min()])\n",
    "pyplot.show()\n",
    "if flag: data = buff"
   ]
  },
  {
   "cell_type": "code",
   "execution_count": null,
   "metadata": {},
   "outputs": [],
   "source": [
    "# 外れ値除去 (Isolation Forest) / Outlier removal by Isolation Forest\n",
    "flag = False\n",
    "#flag = True\n",
    "frac = 0.05  # 外れ値の割合\n",
    "from sklearn.ensemble import IsolationForest\n",
    "model = IsolationForest(contamination=frac).fit(data.values)\n",
    "predict = model.predict(data.values)\n",
    "data[predict == -1].T.plot(legend=None, xlim=[data.columns.max(), data.columns.min()])\n",
    "data[predict == 1].T.plot(legend=None, xlim=[data.columns.max(), data.columns.min()])\n",
    "pyplot.show()\n",
    "if flag: data = data[predict == 1]"
   ]
  },
  {
   "cell_type": "code",
   "execution_count": null,
   "metadata": {},
   "outputs": [],
   "source": [
    "# 外れ値除去 (One Class SVM) / Outlier removal by One Class SVM\n",
    "flag = False\n",
    "#flag = True\n",
    "frac = 0.05  # 外れ値の割合\n",
    "from sklearn.svm import OneClassSVM\n",
    "model = OneClassSVM(nu=frac).fit(data.values)\n",
    "predict = model.predict(data.values)\n",
    "data[predict == -1].T.plot(legend=None, xlim=[data.columns.max(), data.columns.min()])\n",
    "data[predict == 1].T.plot(legend=None, xlim=[data.columns.max(), data.columns.min()])\n",
    "pyplot.show()\n",
    "if flag: data = data[predict == 1]"
   ]
  },
  {
   "cell_type": "code",
   "execution_count": null,
   "metadata": {},
   "outputs": [],
   "source": [
    "# 平滑化 / smoothing\n",
    "flag = False\n",
    "#flag = True\n",
    "window = 3  # 窓幅\n",
    "x = data.columns\n",
    "print(\"window size =\", x[window - 1] - x[0])\n",
    "y = data.values[-1]\n",
    "from scipy.signal import savgol_filter\n",
    "s = savgol_filter(y, window, 2, 0)\n",
    "pyplot.axes().set_xlim([data.columns.max(), data.columns.min()])\n",
    "pyplot.scatter(x, y, s=3, c=\"blue\")\n",
    "pyplot.plot(x, s, c=\"red\")\n",
    "pyplot.show()\n",
    "pyplot.axes().set_xlim([data.columns.max(), data.columns.min()])\n",
    "pyplot.scatter(x, y-s, s=3, c=\"blue\")\n",
    "pyplot.show()\n",
    "if flag:\n",
    "    data = pandas.DataFrame(savgol_filter(data.values, window, 2, 0), index=data.index, columns=data.columns)\n",
    "    data.T.plot(legend=None, xlim=[data.columns.max(), data.columns.min()])\n",
    "    pyplot.show()"
   ]
  },
  {
   "cell_type": "code",
   "execution_count": null,
   "metadata": {},
   "outputs": [],
   "source": [
    "# 二次微分 / 2nd derivative\n",
    "flag = False\n",
    "#flag = True\n",
    "window = 3  # 窓幅\n",
    "x = data.columns\n",
    "print(\"window size =\", x[window - 1] - x[0])\n",
    "from scipy.signal import savgol_filter\n",
    "buff = data\n",
    "buff = savgol_filter(buff, window, 2, 0)\n",
    "buff = savgol_filter(buff, window, 2, 1)\n",
    "buff = savgol_filter(buff, window, 2, 0)\n",
    "buff = savgol_filter(buff, window, 2, 1)\n",
    "buff = pandas.DataFrame(buff, index=data.index, columns=data.columns)\n",
    "buff.T.plot(legend=None, xlim=[buff.columns.max(), buff.columns.min()])\n",
    "pyplot.show()\n",
    "if flag: data = buff"
   ]
  },
  {
   "cell_type": "code",
   "execution_count": null,
   "metadata": {},
   "outputs": [],
   "source": [
    "# センタリング / centering\n",
    "flag = False\n",
    "#flag = True\n",
    "buff = data - data.mean()\n",
    "buff.T.plot(legend=None, xlim=[buff.columns.max(), buff.columns.min()])\n",
    "pyplot.show()\n",
    "if flag: data = buff"
   ]
  },
  {
   "cell_type": "code",
   "execution_count": null,
   "metadata": {},
   "outputs": [],
   "source": [
    "# スケーリング / scaling\n",
    "flag = False\n",
    "#flag = True\n",
    "buff = data / data.std()\n",
    "buff.T.plot(legend=None, xlim=[buff.columns.max(), buff.columns.min()])\n",
    "pyplot.show()\n",
    "if flag: data = buff"
   ]
  },
  {
   "cell_type": "code",
   "execution_count": null,
   "metadata": {},
   "outputs": [],
   "source": [
    "# オートスケーリング / autoscaling\n",
    "flag = False\n",
    "#flag = True\n",
    "buff = (data - data.mean()) / data.std()\n",
    "buff.T.plot(legend=None, xlim=[buff.columns.max(), buff.columns.min()])\n",
    "pyplot.show()\n",
    "if flag: data = buff"
   ]
  },
  {
   "cell_type": "code",
   "execution_count": null,
   "metadata": {},
   "outputs": [],
   "source": [
    "# 規格化 / normalizing\n",
    "flag = False\n",
    "#flag = True\n",
    "xmax, xmin = 3000, 2700\n",
    "buff = data.iloc[:, (xmin <= data.columns) & (data.columns <= xmax)]\n",
    "buff = ((data.T - buff.T.min()) / (buff.T.max() - buff.T.min())).T\n",
    "buff.T.plot(legend=None, xlim=[buff.columns.max(), buff.columns.min()])\n",
    "pyplot.show()\n",
    "if flag: data = buff"
   ]
  },
  {
   "cell_type": "code",
   "execution_count": null,
   "metadata": {},
   "outputs": [],
   "source": [
    "# 差スペクトル / subtraction spectra\n",
    "flag = False\n",
    "#flag = True\n",
    "buff = data.iloc[0]  # 差し引くスペクトル\n",
    "buff = data - buff\n",
    "buff.T.plot(legend=None, xlim=[buff.columns.max(), buff.columns.min()])\n",
    "pyplot.show()\n",
    "if flag: data = buff"
   ]
  },
  {
   "cell_type": "code",
   "execution_count": null,
   "metadata": {},
   "outputs": [],
   "source": [
    "# 差分スペクトル\n",
    "flag = False\n",
    "#flag = True\n",
    "buff = data.copy()\n",
    "for i in range(len(data) - 1): buff.iloc[i] = buff.iloc[i + 1] - buff.iloc[i]\n",
    "buff = buff.iloc[:-1]\n",
    "buff.T.plot(legend=None, xlim=[buff.columns.max(), buff.columns.min()])\n",
    "pyplot.show()\n",
    "if flag: data = buff"
   ]
  }
 ],
 "metadata": {
  "interpreter": {
   "hash": "398c91425ba9501ad3ceb4348a18eb4e653d71098c9fe91723be7ca895e75769"
  },
  "kernelspec": {
   "display_name": "Python 3.8.12 64-bit ('base': conda)",
   "name": "python3"
  },
  "language_info": {
   "codemirror_mode": {
    "name": "ipython",
    "version": 3
   },
   "file_extension": ".py",
   "mimetype": "text/x-python",
   "name": "python",
   "nbconvert_exporter": "python",
   "pygments_lexer": "ipython3",
   "version": "3.9.18"
  }
 },
 "nbformat": 4,
 "nbformat_minor": 4
}
