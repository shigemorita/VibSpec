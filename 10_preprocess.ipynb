{
 "cells": [
  {
   "cell_type": "code",
   "execution_count": null,
   "metadata": {},
   "outputs": [],
   "source": [
    "import pandas\n",
    "import numpy\n",
    "from matplotlib import pyplot\n",
    "filename = \"dataframe.csv\"\n",
    "data = pandas.read_csv(filename, header=0, index_col=0).T\n",
    "data.index = pandas.read_csv(filename, header=None, index_col=0).iloc[0].values\n",
    "data.T.plot()\n",
    "pyplot.gca().invert_xaxis()\n",
    "pyplot.gca().legend_ = None\n",
    "pyplot.show()"
   ]
  },
  {
   "cell_type": "code",
   "execution_count": null,
   "metadata": {},
   "outputs": [],
   "source": [
    "# 横軸範囲 / change horizontal region\n",
    "xmax, xmin = 1500, 1000  # 範囲\n",
    "buff = data.iloc[:, (xmin <= data.columns) & (data.columns <= xmax)]\n",
    "buff.T.plot()\n",
    "pyplot.gca().invert_xaxis()\n",
    "pyplot.gca().legend_ = None\n",
    "pyplot.show()\n",
    "#data = buff"
   ]
  },
  {
   "cell_type": "code",
   "execution_count": null,
   "metadata": {},
   "outputs": [],
   "source": [
    "# 強度が一定値を超えたときにその範囲を0に置換するマスク処理\n",
    "xmax, xmin = 3800, 3000  # 範囲\n",
    "ymin = 1  # 0に置換する最小値\n",
    "spec = data.iloc[0]  # マスク判定に使うスペクトル\n",
    "spec = spec.iloc[(xmin <= data.columns) & (data.columns <= xmax)]\n",
    "imin = spec[spec.values >= ymin].index.min()\n",
    "imax = spec[spec.values >= ymin].index.max()\n",
    "buff = data.copy()\n",
    "buff.loc[:, imin:imax] = 0\n",
    "buff.T.plot()\n",
    "pyplot.gca().invert_xaxis()\n",
    "pyplot.gca().legend_ = None\n",
    "pyplot.show()\n",
    "#data = buff"
   ]
  },
  {
   "cell_type": "code",
   "execution_count": null,
   "metadata": {},
   "outputs": [],
   "source": [
    "# データスキップ（スペクトルの本数を減らす） / data skip\n",
    "step = 2  # スキップする点数\n",
    "buff = data.iloc[::step]\n",
    "buff.T.plot()\n",
    "pyplot.gca().invert_xaxis()\n",
    "pyplot.gca().legend_ = None\n",
    "pyplot.show()\n",
    "#data = buff"
   ]
  },
  {
   "cell_type": "code",
   "execution_count": null,
   "metadata": {},
   "outputs": [],
   "source": [
    "# データスキップ（横軸の点数を減らす） / data skip\n",
    "step = 2  # スキップする点数\n",
    "buff = data.iloc[:, ::step]\n",
    "buff.T.plot()\n",
    "pyplot.gca().invert_xaxis()\n",
    "pyplot.gca().legend_ = None\n",
    "pyplot.show()\n",
    "#data = buff"
   ]
  },
  {
   "cell_type": "code",
   "execution_count": null,
   "metadata": {},
   "outputs": [],
   "source": [
    "# 横軸補完 / interpolation\n",
    "xdiv = 1  # 補完間隔\n",
    "xmin = data.columns.min() // xdiv * xdiv + xdiv \n",
    "xmax = data.columns.max()\n",
    "from scipy.interpolate import interp1d\n",
    "ix = numpy.arange(xmin, xmax, xdiv)\n",
    "buff = pandas.DataFrame(index=data.index, columns=ix)\n",
    "for i in range(len(data)): buff.iloc[i] = interp1d(data.columns, data.iloc[i], kind=\"quadratic\")(ix)\n",
    "buff.T.plot()\n",
    "pyplot.gca().invert_xaxis()\n",
    "pyplot.gca().legend_ = None\n",
    "pyplot.show()\n",
    "#data = buff"
   ]
  },
  {
   "cell_type": "code",
   "execution_count": null,
   "metadata": {},
   "outputs": [],
   "source": [
    "# 外れ値除去 (Isolation Forest) / Outlier removal by Isolation Forest\n",
    "frac = 0.05  # 外れ値の割合\n",
    "from sklearn.ensemble import IsolationForest\n",
    "model = IsolationForest(contamination=frac).fit(data)\n",
    "predict = model.predict(data)\n",
    "print(\"outlier\")\n",
    "data[predict == -1].T.plot()\n",
    "pyplot.gca().invert_xaxis()\n",
    "pyplot.gca().legend_ = None\n",
    "pyplot.show()\n",
    "print(\"not outlier\")\n",
    "data[predict == 1].T.plot()\n",
    "pyplot.gca().invert_xaxis()\n",
    "pyplot.gca().legend_ = None\n",
    "pyplot.show()\n",
    "#data = data[predict == 1]"
   ]
  },
  {
   "cell_type": "code",
   "execution_count": null,
   "metadata": {},
   "outputs": [],
   "source": [
    "# 外れ値除去 (One Class SVM) / Outlier removal by One Class SVM\n",
    "frac = 0.05  # 外れ値の割合\n",
    "from sklearn.svm import OneClassSVM\n",
    "model = OneClassSVM(nu=frac).fit(data)\n",
    "predict = model.predict(data)\n",
    "print(\"outlier\")\n",
    "data[predict == -1].T.plot()\n",
    "pyplot.gca().invert_xaxis()\n",
    "pyplot.gca().legend_ = None\n",
    "pyplot.show()\n",
    "print(\"not outlier\")\n",
    "data[predict == 1].T.plot()\n",
    "pyplot.gca().invert_xaxis()\n",
    "pyplot.gca().legend_ = None\n",
    "pyplot.show()\n",
    "#data = data[predict == 1]"
   ]
  },
  {
   "cell_type": "code",
   "execution_count": null,
   "metadata": {},
   "outputs": [],
   "source": [
    "# 平滑化 / smoothing\n",
    "w = 3  # 窓幅\n",
    "x = data.columns\n",
    "y = data.values[-1]\n",
    "print(\"2m + 1 =\", w)\n",
    "print(\"window size =\", x[w - 1] - x[0])\n",
    "from scipy.signal import savgol_filter\n",
    "s = savgol_filter(y, w, 2, 0)\n",
    "pyplot.scatter(x, y, s=3, c=\"blue\")\n",
    "pyplot.plot(x, s, c=\"red\")\n",
    "pyplot.gca().invert_xaxis()\n",
    "pyplot.show()\n",
    "pyplot.scatter(x, y-s, s=3, c=\"red\")\n",
    "pyplot.gca().invert_xaxis()\n",
    "pyplot.show()\n",
    "buff = pandas.DataFrame(savgol_filter(data.values, w, 2, 0), index=data.index, columns=data.columns)\n",
    "buff.T.plot()\n",
    "pyplot.gca().invert_xaxis()\n",
    "pyplot.gca().legend_ = None\n",
    "pyplot.show()\n",
    "#data = buff"
   ]
  },
  {
   "cell_type": "code",
   "execution_count": null,
   "metadata": {},
   "outputs": [],
   "source": [
    "# 二次微分 / 2nd derivative\n",
    "w = 3  # 窓幅\n",
    "x = data.columns\n",
    "print(\"2m + 1 =\", w)\n",
    "print(\"window size =\", x[w - 1] - x[0])\n",
    "from scipy.signal import savgol_filter\n",
    "buff = data\n",
    "buff = savgol_filter(buff, w, 2, 0)\n",
    "buff = savgol_filter(buff, w, 2, 1)\n",
    "buff = savgol_filter(buff, w, 2, 0)\n",
    "buff = savgol_filter(buff, w, 2, 1)\n",
    "buff = pandas.DataFrame(buff, index=data.index, columns=data.columns)\n",
    "buff.T.plot()\n",
    "pyplot.gca().invert_xaxis()\n",
    "pyplot.gca().legend_ = None\n",
    "pyplot.show()\n",
    "#data = buff"
   ]
  },
  {
   "cell_type": "code",
   "execution_count": null,
   "metadata": {},
   "outputs": [],
   "source": [
    "# センタリング / centering\n",
    "buff = data - data.mean()\n",
    "buff.T.plot()\n",
    "pyplot.gca().invert_xaxis()\n",
    "pyplot.gca().legend_ = None\n",
    "pyplot.show()\n",
    "#data = buff"
   ]
  },
  {
   "cell_type": "code",
   "execution_count": null,
   "metadata": {},
   "outputs": [],
   "source": [
    "# スケーリング / scaling\n",
    "buff = data / data.std()\n",
    "buff.T.plot()\n",
    "pyplot.gca().invert_xaxis()\n",
    "pyplot.gca().legend_ = None\n",
    "pyplot.show()\n",
    "#data = buff"
   ]
  },
  {
   "cell_type": "code",
   "execution_count": null,
   "metadata": {},
   "outputs": [],
   "source": [
    "# オートスケーリング / autoscaling\n",
    "buff = (data - data.mean()) / data.std()\n",
    "buff.T.plot()\n",
    "pyplot.gca().invert_xaxis()\n",
    "pyplot.gca().legend_ = None\n",
    "pyplot.show()\n",
    "#data = buff"
   ]
  },
  {
   "cell_type": "code",
   "execution_count": null,
   "metadata": {},
   "outputs": [],
   "source": [
    "# 規格化 / normalizing\n",
    "xmax, xmin = 3000, 2700\n",
    "buff = data.iloc[:, (xmin <= data.columns) & (data.columns <= xmax)]\n",
    "buff = ((data.T - buff.T.min()) / (buff.T.max() - buff.T.min())).T\n",
    "buff.T.plot()\n",
    "pyplot.gca().invert_xaxis()\n",
    "pyplot.gca().legend_ = None\n",
    "pyplot.show()\n",
    "#data = buff"
   ]
  },
  {
   "cell_type": "code",
   "execution_count": null,
   "metadata": {},
   "outputs": [],
   "source": [
    "# 差スペクトル / subtraction spectra\n",
    "buff = data.iloc[0]  # 差し引くスペクトル\n",
    "buff = data - buff\n",
    "buff.T.plot()\n",
    "pyplot.gca().invert_xaxis()\n",
    "pyplot.gca().legend_ = None\n",
    "pyplot.show()\n",
    "#data = buff"
   ]
  },
  {
   "cell_type": "code",
   "execution_count": null,
   "metadata": {},
   "outputs": [],
   "source": [
    "# 差分スペクトル\n",
    "buff = data.copy()\n",
    "for i in range(len(data) - 1): buff.iloc[i] = buff.iloc[i + 1] - buff.iloc[i]\n",
    "buff = buff.iloc[:-1]\n",
    "buff.T.plot()\n",
    "pyplot.gca().invert_xaxis()\n",
    "pyplot.gca().legend_ = None\n",
    "pyplot.show()\n",
    "#data = buff"
   ]
  }
 ],
 "metadata": {
  "kernelspec": {
   "display_name": "base",
   "language": "python",
   "name": "python3"
  },
  "language_info": {
   "codemirror_mode": {
    "name": "ipython",
    "version": 3
   },
   "file_extension": ".py",
   "mimetype": "text/x-python",
   "name": "python",
   "nbconvert_exporter": "python",
   "pygments_lexer": "ipython3",
   "version": "3.12.3"
  }
 },
 "nbformat": 4,
 "nbformat_minor": 4
}
