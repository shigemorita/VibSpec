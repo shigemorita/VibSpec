{
 "cells": [
  {
   "cell_type": "code",
   "execution_count": null,
   "metadata": {},
   "outputs": [],
   "source": [
    "#from urllib.request import urlretrieve\n",
    "#import zipfile\n",
    "#urlretrieve(\"http://www.models.life.ku.dk/sites/default/files/HPLCforweb_0.zip\", \"HPLCforweb_0.zip\")\n",
    "#zf = zipfile.ZipFile(\"./HPLCforweb_0.zip\", \"r\")\n",
    "#zf.extractall()\n",
    "#zf.close()"
   ]
  },
  {
   "cell_type": "code",
   "execution_count": null,
   "metadata": {},
   "outputs": [],
   "source": [
    "import pandas\n",
    "import numpy\n",
    "from matplotlib import pyplot\n",
    "from sklearn.model_selection import GridSearchCV\n",
    "from sklearn.metrics import confusion_matrix, classification_report\n",
    "from scipy.io import loadmat\n",
    "olive = loadmat(\"olive.mat\")\n",
    "data = pandas.DataFrame(olive[\"HPLCforweb\"][0][0][7])\n",
    "data.index = olive[\"HPLCforweb\"][0][0][12][0][0][0]\n",
    "from sklearn.ensemble import IsolationForest\n",
    "model = IsolationForest(contamination=0.05).fit(data)\n",
    "data = data[model.predict(data) == 1]\n",
    "data.T.plot(legend=None)"
   ]
  },
  {
   "cell_type": "code",
   "execution_count": null,
   "metadata": {},
   "outputs": [],
   "source": [
    "# K-means\n",
    "from sklearn.cluster import KMeans\n",
    "from scipy.spatial.distance import cdist\n",
    "distortions = []\n",
    "K = range(1,10)\n",
    "for k in K:\n",
    "\tmodel = KMeans(n_clusters=k).fit(data)\n",
    "\tdistortions.append(sum(numpy.min(cdist(data, model.cluster_centers_, 'euclidean'), axis=1))/ data.shape[0])\n",
    "pyplot.scatter(K, distortions)\n",
    "pyplot.show()\n",
    "model = KMeans(n_clusters=2).fit(data)\n",
    "model.predict(data)"
   ]
  },
  {
   "cell_type": "code",
   "execution_count": null,
   "metadata": {},
   "outputs": [],
   "source": [
    "import pandas\n",
    "import numpy\n",
    "from matplotlib import pyplot\n",
    "filename = \"dataframe.csv\"\n",
    "data = pandas.read_csv(filename, header=0, index_col=0).T\n",
    "data.index = pandas.read_csv(filename, header=None, index_col=0).iloc[0].values\n",
    "xmax, xmin = 1900, 1000\n",
    "data = data.iloc[:, (xmin <= data.columns) & (data.columns <= xmax)]\n",
    "data = ((data.T - data.T.mean()) / data.T.std()).T\n",
    "data.T.plot(legend=None, xlim=[data.columns.max(), data.columns.min()])"
   ]
  },
  {
   "cell_type": "code",
   "execution_count": null,
   "metadata": {},
   "outputs": [],
   "source": [
    "# デンドログラム\n",
    "from scipy.cluster.hierarchy import linkage, dendrogram\n",
    "pyplot.rcParams[\"font.size\"] = 12\n",
    "pyplot.figure(figsize=(8, 6))\n",
    "dendrogram(linkage(data), labels=data.index, orientation=\"right\", color_threshold=0, leaf_font_size=12)\n",
    "pyplot.show()"
   ]
  }
 ],
 "metadata": {
  "interpreter": {
   "hash": "398c91425ba9501ad3ceb4348a18eb4e653d71098c9fe91723be7ca895e75769"
  },
  "kernelspec": {
   "display_name": "Python 3.8.12 64-bit ('base': conda)",
   "language": "python",
   "name": "python3"
  },
  "language_info": {
   "codemirror_mode": {
    "name": "ipython",
    "version": 3
   },
   "file_extension": ".py",
   "mimetype": "text/x-python",
   "name": "python",
   "nbconvert_exporter": "python",
   "pygments_lexer": "ipython3",
   "version": "3.9.16"
  },
  "orig_nbformat": 4
 },
 "nbformat": 4,
 "nbformat_minor": 2
}
