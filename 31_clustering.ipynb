{
 "cells": [
  {
   "cell_type": "code",
   "execution_count": null,
   "metadata": {},
   "outputs": [],
   "source": [
    "'''\n",
    "from urllib.request import urlretrieve\n",
    "import zipfile\n",
    "urlretrieve(\"http://www.models.life.ku.dk/sites/default/files/HPLCforweb_0.zip\", \"HPLCforweb_0.zip\")\n",
    "zf = zipfile.ZipFile(\"./HPLCforweb_0.zip\", \"r\")\n",
    "zf.extractall()\n",
    "zf.close()\n",
    "'''"
   ]
  },
  {
   "cell_type": "code",
   "execution_count": null,
   "metadata": {},
   "outputs": [],
   "source": [
    "import pandas\n",
    "import numpy\n",
    "from matplotlib import pyplot\n",
    "from scipy.io import loadmat\n",
    "olive = loadmat(\"olive.mat\")\n",
    "data = pandas.DataFrame(olive[\"HPLCforweb\"][\"data\"][0][0])\n",
    "data.index = olive[\"HPLCforweb\"][0][0][12][0][0][0]\n",
    "from sklearn.ensemble import IsolationForest\n",
    "model = IsolationForest(contamination=0.05).fit(data)\n",
    "data = data[model.predict(data) == 1]\n",
    "data.T.plot()\n",
    "pyplot.gca().legend_ = None\n",
    "pyplot.show()"
   ]
  },
  {
   "cell_type": "code",
   "execution_count": null,
   "metadata": {},
   "outputs": [],
   "source": [
    "# K-means\n",
    "from sklearn.cluster import KMeans\n",
    "from scipy.spatial.distance import cdist\n",
    "distortions = []\n",
    "K = range(1,10)\n",
    "for k in K:\n",
    "\tmodel = KMeans(n_clusters=k, n_init=\"auto\").fit(data)\n",
    "\tdistortions.append(sum(numpy.min(cdist(data, model.cluster_centers_, 'euclidean'), axis=1))/ data.shape[0])\n",
    "pyplot.scatter(K, distortions)\n",
    "pyplot.show()\n",
    "n = 3  # クラスター数\n",
    "model = KMeans(n_clusters=n, n_init=\"auto\").fit(data)\n",
    "print(\"n =\", model.n_clusters)\n",
    "model.predict(data)"
   ]
  },
  {
   "cell_type": "code",
   "execution_count": null,
   "metadata": {},
   "outputs": [],
   "source": [
    "import pandas\n",
    "import numpy\n",
    "from matplotlib import pyplot\n",
    "filename = \"dataframe.csv\"\n",
    "data = pandas.read_csv(filename, header=0, index_col=0).T\n",
    "data.index = pandas.read_csv(filename, header=None, index_col=0).iloc[0].values\n",
    "xmax, xmin = 1900, 1000\n",
    "data = data.iloc[:, (xmin <= data.columns) & (data.columns <= xmax)]\n",
    "data = ((data.T - data.T.mean()) / data.T.std()).T\n",
    "data.T.plot()\n",
    "pyplot.gca().invert_xaxis()\n",
    "pyplot.gca().legend_ = None\n",
    "pyplot.show()"
   ]
  },
  {
   "cell_type": "code",
   "execution_count": null,
   "metadata": {},
   "outputs": [],
   "source": [
    "# デンドログラム / dendrogram\n",
    "from scipy.cluster.hierarchy import linkage, dendrogram\n",
    "pyplot.rcParams[\"font.size\"] = 12\n",
    "pyplot.figure(figsize=(8, 6))\n",
    "dendrogram(linkage(data), labels=data.index, orientation=\"right\", color_threshold=0, leaf_font_size=12)\n",
    "pyplot.show()"
   ]
  }
 ],
 "metadata": {
  "kernelspec": {
   "display_name": "base",
   "language": "python",
   "name": "python3"
  },
  "language_info": {
   "codemirror_mode": {
    "name": "ipython",
    "version": 3
   },
   "file_extension": ".py",
   "mimetype": "text/x-python",
   "name": "python",
   "nbconvert_exporter": "python",
   "pygments_lexer": "ipython3",
   "version": "3.12.3"
  },
  "orig_nbformat": 4
 },
 "nbformat": 4,
 "nbformat_minor": 2
}
