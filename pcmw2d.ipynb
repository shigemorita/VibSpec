{
 "cells": [
  {
   "cell_type": "code",
   "execution_count": null,
   "metadata": {},
   "outputs": [],
   "source": [
    "filename = \"dataframe.csv\"\n",
    "w = 3\n",
    "wavenumber = True\n",
    "num_contour = 16"
   ]
  },
  {
   "cell_type": "code",
   "execution_count": null,
   "metadata": {},
   "outputs": [],
   "source": [
    "import numpy\n",
    "import pandas\n",
    "from matplotlib import pyplot, ticker"
   ]
  },
  {
   "cell_type": "code",
   "execution_count": null,
   "metadata": {},
   "outputs": [],
   "source": [
    "data = pandas.read_csv(filename, header=0, index_col=0).T\n",
    "data.index = pandas.read_csv(filename, header=None, index_col=0).iloc[0].values\n",
    "xmax, xmin = 1200, 1000\n",
    "data = data.iloc[:, (xmin <= data.columns) & (data.columns <= xmax)]\n",
    "pyplot.rcParams.update(pyplot.rcParamsDefault)\n",
    "if wavenumber: data.T.plot(legend=None, xlim=[data.columns.max(), data.columns.min()])\n",
    "else: data.T.plot(legend=None, xlim=[data.columns.min(), data.columns.max()])\n",
    "pyplot.show()"
   ]
  },
  {
   "cell_type": "code",
   "execution_count": null,
   "metadata": {},
   "outputs": [],
   "source": [
    "pyplot.rcParams[\"figure.figsize\"] = (4, 4)\n",
    "pyplot.rcParams[\"font.size\"] = 24\n",
    "pyplot.rcParams[\"font.family\"] = \"serif\"\n",
    "pyplot.rcParams[\"font.serif\"] = \"Times New Roman\"\n",
    "pyplot.rcParams[\"xtick.bottom\"] = True\n",
    "pyplot.rcParams[\"xtick.top\"] = True\n",
    "pyplot.rcParams[\"ytick.left\"] = True\n",
    "pyplot.rcParams[\"ytick.right\"] = True\n",
    "pyplot.rcParams[\"xtick.direction\"] = \"in\"\n",
    "pyplot.rcParams[\"ytick.direction\"] = \"in\"\n",
    "pyplot.rcParams[\"xtick.major.size\"] = 10\n",
    "pyplot.rcParams[\"ytick.major.size\"] = 10\n",
    "pyplot.rcParams[\"xtick.minor.size\"] = 5\n",
    "pyplot.rcParams[\"ytick.minor.size\"] = 5\n",
    "pyplot.rcParams[\"lines.linewidth\"] = 2\n",
    "pyplot.rcParams[\"axes.linewidth\"] = 2\n",
    "pyplot.rcParams[\"xtick.major.width\"] = 2\n",
    "pyplot.rcParams[\"ytick.major.width\"] = 2\n",
    "pyplot.rcParams[\"xtick.minor.width\"] = 2\n",
    "pyplot.rcParams[\"ytick.minor.width\"] = 2\n",
    "pyplot.rcParams[\"axes.labelpad\"] = 15\n",
    "pyplot.rcParams[\"xtick.major.pad\"] = 18\n",
    "pyplot.rcParams[\"ytick.major.pad\"] = 18\n",
    "pyplot.rcParams[\"savefig.format\"] = \"png\"\n",
    "pyplot.rcParams[\"savefig.dpi\"] = 150\n",
    "pyplot.rcParams[\"savefig.transparent\"] = False\n",
    "pyplot.rcParams[\"savefig.facecolor\"] = \"white\"\n",
    "pyplot.rcParams[\"savefig.bbox\"] = \"tight\""
   ]
  },
  {
   "cell_type": "code",
   "execution_count": null,
   "metadata": {},
   "outputs": [],
   "source": [
    "def contour(cont):\n",
    "    x = cont.columns\n",
    "    y = cont.index\n",
    "    z = cont.values\n",
    "    zmax = numpy.absolute(z).max()\n",
    "    fig = pyplot.figure()\n",
    "    ax1 = fig.add_axes((0, 0, 1, 1))\n",
    "    pyplot.rcParams[\"lines.linewidth\"] = 2\n",
    "    ax1.contour(x, y, z, num_contour, cmap=\"bwr\", vmin=-zmax, vmax=zmax)\n",
    "    ax1.set_xlim(xmax, xmin)\n",
    "    ax1.set_xticks(numpy.arange(xtmin, xtmax, xtdiv))\n",
    "    ax1.xaxis.set_minor_locator(ticker.MultipleLocator(xtminor))\n",
    "    ax1.set_xlabel(\"wavenumber / cm${^{-1}}$\")\n",
    "    ax1.set_ylim(ymin, ymax)\n",
    "    ax1.set_yticks(numpy.arange(ytmin, ytmax, ytdiv))\n",
    "    ax1.yaxis.set_minor_locator(ticker.MultipleLocator(ytminor))\n",
    "    ax1.set_ylabel(\"Temperature / \\N{DEGREE SIGN}C\")\n",
    "    ax2 = fig.add_axes((0, 1, 1, 0.5))\n",
    "    ax2.set_xlim(xmax, xmin)\n",
    "    ax2.set_xticks(numpy.arange(xtmin, xtmax, xtdiv))\n",
    "    ax2.xaxis.set_minor_locator(ticker.MultipleLocator(xtminor))\n",
    "    ax2.axes.xaxis.set_ticks([])\n",
    "    ax2.axes.yaxis.set_ticks([])\n",
    "    pyplot.rcParams[\"lines.linewidth\"] = 0.5\n",
    "    for i in range(len(data)): ax2.plot(data.columns, data.iloc[i], color=\"gray\")\n",
    "    pyplot.rcParams[\"lines.linewidth\"] = 1.5\n",
    "    ax2.plot(data.columns, data.iloc[0], color=\"blue\")\n",
    "    ax2.plot(data.columns, data.iloc[-1], color=\"red\")\n",
    "    pyplot.show()"
   ]
  },
  {
   "cell_type": "code",
   "execution_count": null,
   "metadata": {},
   "outputs": [],
   "source": [
    "# synchronous PCMW2D correlation\n",
    "\n",
    "xmin, xmax = 1000, 1200\n",
    "xtmin, xtmax, xtdiv, xtminor = 1000, 1201, 50, 10\n",
    "\n",
    "ymin, ymax = 140, 280\n",
    "ytmin, ytmax, ytdiv, ytminor = 140, 281, 20, 5\n",
    "\n",
    "sync = numpy.zeros(data.shape)\n",
    "for i in range(w // 2, len(data) - w // 2):\n",
    "    y = data.iloc[i - w // 2 : i + w // 2 + 1]\n",
    "    y = y - y.mean()\n",
    "    p = y.index - numpy.mean(y.index)\n",
    "    sync[i] = p @ y / (w - 1)\n",
    "sync = pandas.DataFrame(sync, index=data.index, columns=data.columns)\n",
    "contour(sync)\n",
    "#sync.to_csv(filename[:-4] + \"_sync.csv\")"
   ]
  },
  {
   "cell_type": "code",
   "execution_count": null,
   "metadata": {},
   "outputs": [],
   "source": [
    "# asynchronous PCMW2D correlation\n",
    "\n",
    "xmin, xmax = 1000, 1200\n",
    "xtmin, xtmax, xtdiv, xtminor = 1000, 1201, 50, 10\n",
    "\n",
    "ymin, ymax = 140, 280\n",
    "ytmin, ytmax, ytdiv, ytminor = 140, 281, 20, 5\n",
    "\n",
    "noda = numpy.zeros((w, w))\n",
    "for i, j in numpy.ndindex(noda.shape):\n",
    "    if i != j: noda[i, j] = 1 / numpy.pi / (j - i)\n",
    "asyn = numpy.zeros(data.shape)\n",
    "for i in range(w // 2, len(data) - w // 2):\n",
    "    y = data.iloc[i - w // 2 : i + w // 2 + 1]\n",
    "    y -= y.mean()\n",
    "    p = y.index - numpy.mean(y.index)\n",
    "    asyn[i] = p @ noda @ y / (w - 1)\n",
    "asyn = pandas.DataFrame(asyn, index=data.index, columns=data.columns)\n",
    "contour(asyn)\n",
    "#asyn.to_csv(filename[:-4] + \"_asyn.csv\")"
   ]
  }
 ],
 "metadata": {
  "kernelspec": {
   "display_name": "Python 3",
   "language": "python",
   "name": "python3"
  },
  "language_info": {
   "codemirror_mode": {
    "name": "ipython",
    "version": 3
   },
   "file_extension": ".py",
   "mimetype": "text/x-python",
   "name": "python",
   "nbconvert_exporter": "python",
   "pygments_lexer": "ipython3",
   "version": "3.9.7"
  }
 },
 "nbformat": 4,
 "nbformat_minor": 2
}
