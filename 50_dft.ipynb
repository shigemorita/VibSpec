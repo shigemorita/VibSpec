{
 "cells": [
  {
   "cell_type": "code",
   "execution_count": null,
   "metadata": {},
   "outputs": [],
   "source": [
    "#!conda install -y -c conda-forge rdkit\n",
    "#!conda install -c conda-forge py3dmol"
   ]
  },
  {
   "cell_type": "code",
   "execution_count": null,
   "metadata": {},
   "outputs": [],
   "source": [
    "import re\n",
    "import numpy\n",
    "import pandas\n",
    "from matplotlib import pyplot\n",
    "import tkinter\n",
    "import tkinter.filedialog\n",
    "import tkinter.messagebox\n",
    "import rdkit\n",
    "import py3Dmol\n",
    "#!git clone https://github.com/jensengroup/xyz2mol\n",
    "from xyz2mol import xyz2mol"
   ]
  },
  {
   "cell_type": "code",
   "execution_count": null,
   "metadata": {},
   "outputs": [],
   "source": [
    "# periodic table\n",
    "periodictable = {\"1\": \"H\", \"6\": \"C\", \"7\": \"N\", \"8\": \"O\", \"9\": \"F\", \"15\": \"P\", \"16\": \"S\", \"17\": \"Cl\"}"
   ]
  },
  {
   "cell_type": "code",
   "execution_count": null,
   "metadata": {},
   "outputs": [],
   "source": [
    "# file open\n",
    "root = tkinter.Tk()\n",
    "root.withdraw()\n",
    "root.attributes('-topmost', True)\n",
    "root.lift()\n",
    "root.focus_force()\n",
    "filename = tkinter.filedialog.askopenfilename(filetypes=[(\"out\", \"*.out\")])\n",
    "f = open(filename, \"r\")\n",
    "data = f.readlines()\n",
    "f.close()\n",
    "print(filename)"
   ]
  },
  {
   "cell_type": "code",
   "execution_count": null,
   "metadata": {},
   "outputs": [],
   "source": [
    "# energies\n",
    "buff = [s for s in data if \"SCF Done:  E(\" in s]\n",
    "buff = \"\".join(buff)\n",
    "buff = re.findall(\"-\" + r\"\\d+\" + \".\" + r\"\\d+\", buff)\n",
    "buff = numpy.array(buff, dtype=\"float\")\n",
    "pyplot.plot(buff)\n",
    "pyplot.show()\n",
    "'''\n",
    "print(\"SCF Done:  E =\")\n",
    "print(buff[-1], \"Hartree\")\n",
    "print(buff[-1] * 2625.5, \"kJ mol^-1\")\n",
    "print(\"\")\n",
    "'''\n",
    "buff = [s for s in data if \"Sum of electronic and zero-point Energies=\" in s]\n",
    "buff = \"\".join(buff)\n",
    "buff = re.findall(\"-\" + r\"\\d+\" + \".\" + r\"\\d+\", buff)\n",
    "buff = numpy.array(buff, dtype=\"float\")[0]\n",
    "print(\"Sum of electronic and zero-point Energies =\")\n",
    "print(buff, \"Hartree\")\n",
    "print(buff * 2625.5, \"kJ mol^-1\")"
   ]
  },
  {
   "cell_type": "code",
   "execution_count": null,
   "metadata": {},
   "outputs": [],
   "source": [
    "# optimized structure\n",
    "start = data.index(\"    -- Stationary point found.\\n\")\n",
    "buff = data[start:]\n",
    "stop = buff.index(\"                    Distance matrix (angstroms):\\n\")\n",
    "buff = buff[:stop]\n",
    "start = (buff.index(\"                          Input orientation:                          \\n\") + 5)\n",
    "buff = buff[start:]\n",
    "stop = buff.index(\" ---------------------------------------------------------------------\\n\")\n",
    "buff = buff[:stop]\n",
    "xyz = pandas.DataFrame()\n",
    "for i in range(len(buff)): xyz[i] = re.findall(r\"([+-]?[0-9]+\\.?[0-9]*)\", buff[i])\n",
    "xyz = xyz.drop(xyz.index[[0, 2]])\n",
    "xyz.iloc[0] = xyz.iloc[0].replace(periodictable)\n",
    "xyz.T.to_csv(filename[:-4] + \".xyz\", header=False, index=False, sep=\" \")\n",
    "f = open(filename[:-4] + \".xyz\", \"r\")\n",
    "buff = f.read()\n",
    "f.close()\n",
    "f = open(filename[:-4] + \".xyz\", \"w\")\n",
    "f.write(str(len(xyz.T)) + \"\\ncharge=0=\\n\" + buff)\n",
    "f.close()\n",
    "print(filename[:-4] + \".xyz\")\n",
    "xyz.T"
   ]
  },
  {
   "cell_type": "code",
   "execution_count": null,
   "metadata": {},
   "outputs": [],
   "source": [
    "# IR spectrum\n",
    "buff = [s for s in data if \"Frequencies\" in s]\n",
    "buff = \"\".join(buff)\n",
    "x = re.findall(r\"([+-]?[0-9]+\\.?[0-9]*)\", buff)\n",
    "x = numpy.round(numpy.array(x, dtype=\"float\") * 0.9613, 2)\n",
    "buff = [s for s in data if \"IR Inten\" in s]\n",
    "buff = \"\".join(buff)\n",
    "y = re.findall(r\"\\d+\" + \".\" + r\"\\d+\", buff)\n",
    "y = numpy.round(numpy.array(y, dtype=\"float\"), 2)\n",
    "pyplot.xlim(4000, 0)\n",
    "pyplot.bar(x, y, width=30)\n",
    "pyplot.show()\n",
    "spec = pandas.Series(y, index=x)\n",
    "pandas.set_option('display.max_rows', None)\n",
    "spec\n",
    "#spec.to_csv(filename[:-4]+\".csv\", header=False)"
   ]
  },
  {
   "cell_type": "code",
   "execution_count": null,
   "metadata": {},
   "outputs": [],
   "source": [
    "# IR spectrum\n",
    "def g(px, py):\n",
    "    w = 15\n",
    "    gauss = py * numpy.exp(-4 * numpy.log(2) * (px - x) ** 2 / w ** 2)\n",
    "    return gauss\n",
    "x = numpy.arange(0, 4001, 1)\n",
    "y = x * 0\n",
    "for i in range(len(spec)): y = y + g(spec.index[i], spec.values[i])\n",
    "pyplot.xlim(4000, 0)\n",
    "pyplot.plot(x, y)\n",
    "pyplot.show()\n",
    "#pandas.Series(y, index=x).to_csv(filename[:-4]+\".csv\", header=False)"
   ]
  },
  {
   "cell_type": "code",
   "execution_count": null,
   "metadata": {},
   "outputs": [],
   "source": [
    "# 3D\n",
    "atoms, charge, xyz_coordinates = xyz2mol.read_xyz_file(filename[:-4] + \".xyz\")\n",
    "mols = xyz2mol.xyz2mol(atoms, xyz_coordinates, charge=charge)\n",
    "view = py3Dmol.view()\n",
    "view.addModel(rdkit.Chem.MolToMolBlock(mols[0]))\n",
    "view.setStyle({'stick': {}})\n",
    "view.show()"
   ]
  }
 ],
 "metadata": {
  "kernelspec": {
   "display_name": "Python 3.9.13 ('base')",
   "language": "python",
   "name": "python3"
  },
  "language_info": {
   "codemirror_mode": {
    "name": "ipython",
    "version": 3
   },
   "file_extension": ".py",
   "mimetype": "text/x-python",
   "name": "python",
   "nbconvert_exporter": "python",
   "pygments_lexer": "ipython3",
   "version": "3.9.18"
  },
  "vscode": {
   "interpreter": {
    "hash": "aa931a12cd616f100a3dbf0df00067e1067e9b65b97740d9adc59c84adb05e7e"
   }
  }
 },
 "nbformat": 4,
 "nbformat_minor": 2
}
